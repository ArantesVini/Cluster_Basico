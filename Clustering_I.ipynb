{
  "nbformat": 4,
  "nbformat_minor": 0,
  "metadata": {
    "colab": {
      "name": "Clustering I",
      "provenance": [],
      "collapsed_sections": [
        "9ksf2Gsm1QiG",
        "HDvkGItl1bu9",
        "9Hlm3ADa1hve",
        "izTFrk8a1pun",
        "tphs-kOi1yRV"
      ]
    },
    "kernelspec": {
      "name": "python3",
      "display_name": "Python 3"
    },
    "language_info": {
      "name": "python"
    }
  },
  "cells": [
    {
      "cell_type": "markdown",
      "source": [
        "# Importando e formatando os dados\n"
      ],
      "metadata": {
        "id": "9ksf2Gsm1QiG"
      }
    },
    {
      "cell_type": "code",
      "execution_count": null,
      "metadata": {
        "id": "2oNEEr4QZsGq",
        "colab": {
          "base_uri": "https://localhost:8080/"
        },
        "outputId": "8f590df2-da62-409e-f908-e64ca84ca2ac"
      },
      "outputs": [
        {
          "output_type": "stream",
          "name": "stdout",
          "text": [
            "Requirement already satisfied: plotly==4.1.0 in /usr/local/lib/python3.7/dist-packages (4.1.0)\n",
            "Requirement already satisfied: retrying>=1.3.3 in /usr/local/lib/python3.7/dist-packages (from plotly==4.1.0) (1.3.3)\n",
            "Requirement already satisfied: six in /usr/local/lib/python3.7/dist-packages (from plotly==4.1.0) (1.15.0)\n"
          ]
        }
      ],
      "source": [
        "pip install plotly==4.1.0"
      ]
    },
    {
      "cell_type": "code",
      "source": [
        "import plotly.graph_objects as go\n",
        "import pandas as pd\n",
        "import numpy as np"
      ],
      "metadata": {
        "id": "vVADTrRlbOAv"
      },
      "execution_count": null,
      "outputs": []
    },
    {
      "cell_type": "code",
      "source": [
        "arquivo = r\"/content/wine.csv\"\n",
        "dados = pd.read_csv(arquivo)"
      ],
      "metadata": {
        "id": "6yEZfuUlbXf3"
      },
      "execution_count": null,
      "outputs": []
    },
    {
      "cell_type": "code",
      "source": [
        "labels_dados = dados['Customer_Segment']\n",
        "dados = dados.drop(columns = 'Customer_Segment')\n",
        "dados.head()"
      ],
      "metadata": {
        "colab": {
          "base_uri": "https://localhost:8080/",
          "height": 206
        },
        "id": "-JTBOgZFj4ZJ",
        "outputId": "d1d95b0b-2bb3-4d29-c44b-43adc7b0a864"
      },
      "execution_count": null,
      "outputs": [
        {
          "output_type": "execute_result",
          "data": {
            "text/html": [
              "\n",
              "  <div id=\"df-8aad6308-dcef-4b77-b524-0e5a576a1f4f\">\n",
              "    <div class=\"colab-df-container\">\n",
              "      <div>\n",
              "<style scoped>\n",
              "    .dataframe tbody tr th:only-of-type {\n",
              "        vertical-align: middle;\n",
              "    }\n",
              "\n",
              "    .dataframe tbody tr th {\n",
              "        vertical-align: top;\n",
              "    }\n",
              "\n",
              "    .dataframe thead th {\n",
              "        text-align: right;\n",
              "    }\n",
              "</style>\n",
              "<table border=\"1\" class=\"dataframe\">\n",
              "  <thead>\n",
              "    <tr style=\"text-align: right;\">\n",
              "      <th></th>\n",
              "      <th>Alcohol</th>\n",
              "      <th>Malic_Acid</th>\n",
              "      <th>Ash</th>\n",
              "      <th>Ash_Alcanity</th>\n",
              "      <th>Magnesium</th>\n",
              "      <th>Total_Phenols</th>\n",
              "      <th>Flavanoids</th>\n",
              "      <th>Nonflavanoid_Phenols</th>\n",
              "      <th>Proanthocyanins</th>\n",
              "      <th>Color_Intensity</th>\n",
              "      <th>Hue</th>\n",
              "      <th>OD280</th>\n",
              "      <th>Proline</th>\n",
              "    </tr>\n",
              "  </thead>\n",
              "  <tbody>\n",
              "    <tr>\n",
              "      <th>0</th>\n",
              "      <td>14.23</td>\n",
              "      <td>1.71</td>\n",
              "      <td>2.43</td>\n",
              "      <td>15.6</td>\n",
              "      <td>127</td>\n",
              "      <td>2.80</td>\n",
              "      <td>3.06</td>\n",
              "      <td>0.28</td>\n",
              "      <td>2.29</td>\n",
              "      <td>5.64</td>\n",
              "      <td>1.04</td>\n",
              "      <td>3.92</td>\n",
              "      <td>1065</td>\n",
              "    </tr>\n",
              "    <tr>\n",
              "      <th>1</th>\n",
              "      <td>13.20</td>\n",
              "      <td>1.78</td>\n",
              "      <td>2.14</td>\n",
              "      <td>11.2</td>\n",
              "      <td>100</td>\n",
              "      <td>2.65</td>\n",
              "      <td>2.76</td>\n",
              "      <td>0.26</td>\n",
              "      <td>1.28</td>\n",
              "      <td>4.38</td>\n",
              "      <td>1.05</td>\n",
              "      <td>3.40</td>\n",
              "      <td>1050</td>\n",
              "    </tr>\n",
              "    <tr>\n",
              "      <th>2</th>\n",
              "      <td>13.16</td>\n",
              "      <td>2.36</td>\n",
              "      <td>2.67</td>\n",
              "      <td>18.6</td>\n",
              "      <td>101</td>\n",
              "      <td>2.80</td>\n",
              "      <td>3.24</td>\n",
              "      <td>0.30</td>\n",
              "      <td>2.81</td>\n",
              "      <td>5.68</td>\n",
              "      <td>1.03</td>\n",
              "      <td>3.17</td>\n",
              "      <td>1185</td>\n",
              "    </tr>\n",
              "    <tr>\n",
              "      <th>3</th>\n",
              "      <td>14.37</td>\n",
              "      <td>1.95</td>\n",
              "      <td>2.50</td>\n",
              "      <td>16.8</td>\n",
              "      <td>113</td>\n",
              "      <td>3.85</td>\n",
              "      <td>3.49</td>\n",
              "      <td>0.24</td>\n",
              "      <td>2.18</td>\n",
              "      <td>7.80</td>\n",
              "      <td>0.86</td>\n",
              "      <td>3.45</td>\n",
              "      <td>1480</td>\n",
              "    </tr>\n",
              "    <tr>\n",
              "      <th>4</th>\n",
              "      <td>13.24</td>\n",
              "      <td>2.59</td>\n",
              "      <td>2.87</td>\n",
              "      <td>21.0</td>\n",
              "      <td>118</td>\n",
              "      <td>2.80</td>\n",
              "      <td>2.69</td>\n",
              "      <td>0.39</td>\n",
              "      <td>1.82</td>\n",
              "      <td>4.32</td>\n",
              "      <td>1.04</td>\n",
              "      <td>2.93</td>\n",
              "      <td>735</td>\n",
              "    </tr>\n",
              "  </tbody>\n",
              "</table>\n",
              "</div>\n",
              "      <button class=\"colab-df-convert\" onclick=\"convertToInteractive('df-8aad6308-dcef-4b77-b524-0e5a576a1f4f')\"\n",
              "              title=\"Convert this dataframe to an interactive table.\"\n",
              "              style=\"display:none;\">\n",
              "        \n",
              "  <svg xmlns=\"http://www.w3.org/2000/svg\" height=\"24px\"viewBox=\"0 0 24 24\"\n",
              "       width=\"24px\">\n",
              "    <path d=\"M0 0h24v24H0V0z\" fill=\"none\"/>\n",
              "    <path d=\"M18.56 5.44l.94 2.06.94-2.06 2.06-.94-2.06-.94-.94-2.06-.94 2.06-2.06.94zm-11 1L8.5 8.5l.94-2.06 2.06-.94-2.06-.94L8.5 2.5l-.94 2.06-2.06.94zm10 10l.94 2.06.94-2.06 2.06-.94-2.06-.94-.94-2.06-.94 2.06-2.06.94z\"/><path d=\"M17.41 7.96l-1.37-1.37c-.4-.4-.92-.59-1.43-.59-.52 0-1.04.2-1.43.59L10.3 9.45l-7.72 7.72c-.78.78-.78 2.05 0 2.83L4 21.41c.39.39.9.59 1.41.59.51 0 1.02-.2 1.41-.59l7.78-7.78 2.81-2.81c.8-.78.8-2.07 0-2.86zM5.41 20L4 18.59l7.72-7.72 1.47 1.35L5.41 20z\"/>\n",
              "  </svg>\n",
              "      </button>\n",
              "      \n",
              "  <style>\n",
              "    .colab-df-container {\n",
              "      display:flex;\n",
              "      flex-wrap:wrap;\n",
              "      gap: 12px;\n",
              "    }\n",
              "\n",
              "    .colab-df-convert {\n",
              "      background-color: #E8F0FE;\n",
              "      border: none;\n",
              "      border-radius: 50%;\n",
              "      cursor: pointer;\n",
              "      display: none;\n",
              "      fill: #1967D2;\n",
              "      height: 32px;\n",
              "      padding: 0 0 0 0;\n",
              "      width: 32px;\n",
              "    }\n",
              "\n",
              "    .colab-df-convert:hover {\n",
              "      background-color: #E2EBFA;\n",
              "      box-shadow: 0px 1px 2px rgba(60, 64, 67, 0.3), 0px 1px 3px 1px rgba(60, 64, 67, 0.15);\n",
              "      fill: #174EA6;\n",
              "    }\n",
              "\n",
              "    [theme=dark] .colab-df-convert {\n",
              "      background-color: #3B4455;\n",
              "      fill: #D2E3FC;\n",
              "    }\n",
              "\n",
              "    [theme=dark] .colab-df-convert:hover {\n",
              "      background-color: #434B5C;\n",
              "      box-shadow: 0px 1px 3px 1px rgba(0, 0, 0, 0.15);\n",
              "      filter: drop-shadow(0px 1px 2px rgba(0, 0, 0, 0.3));\n",
              "      fill: #FFFFFF;\n",
              "    }\n",
              "  </style>\n",
              "\n",
              "      <script>\n",
              "        const buttonEl =\n",
              "          document.querySelector('#df-8aad6308-dcef-4b77-b524-0e5a576a1f4f button.colab-df-convert');\n",
              "        buttonEl.style.display =\n",
              "          google.colab.kernel.accessAllowed ? 'block' : 'none';\n",
              "\n",
              "        async function convertToInteractive(key) {\n",
              "          const element = document.querySelector('#df-8aad6308-dcef-4b77-b524-0e5a576a1f4f');\n",
              "          const dataTable =\n",
              "            await google.colab.kernel.invokeFunction('convertToInteractive',\n",
              "                                                     [key], {});\n",
              "          if (!dataTable) return;\n",
              "\n",
              "          const docLinkHtml = 'Like what you see? Visit the ' +\n",
              "            '<a target=\"_blank\" href=https://colab.research.google.com/notebooks/data_table.ipynb>data table notebook</a>'\n",
              "            + ' to learn more about interactive tables.';\n",
              "          element.innerHTML = '';\n",
              "          dataTable['output_type'] = 'display_data';\n",
              "          await google.colab.output.renderOutput(dataTable, element);\n",
              "          const docLink = document.createElement('div');\n",
              "          docLink.innerHTML = docLinkHtml;\n",
              "          element.appendChild(docLink);\n",
              "        }\n",
              "      </script>\n",
              "    </div>\n",
              "  </div>\n",
              "  "
            ],
            "text/plain": [
              "   Alcohol  Malic_Acid   Ash  Ash_Alcanity  Magnesium  Total_Phenols  \\\n",
              "0    14.23        1.71  2.43          15.6        127           2.80   \n",
              "1    13.20        1.78  2.14          11.2        100           2.65   \n",
              "2    13.16        2.36  2.67          18.6        101           2.80   \n",
              "3    14.37        1.95  2.50          16.8        113           3.85   \n",
              "4    13.24        2.59  2.87          21.0        118           2.80   \n",
              "\n",
              "   Flavanoids  Nonflavanoid_Phenols  Proanthocyanins  Color_Intensity   Hue  \\\n",
              "0        3.06                  0.28             2.29             5.64  1.04   \n",
              "1        2.76                  0.26             1.28             4.38  1.05   \n",
              "2        3.24                  0.30             2.81             5.68  1.03   \n",
              "3        3.49                  0.24             2.18             7.80  0.86   \n",
              "4        2.69                  0.39             1.82             4.32  1.04   \n",
              "\n",
              "   OD280  Proline  \n",
              "0   3.92     1065  \n",
              "1   3.40     1050  \n",
              "2   3.17     1185  \n",
              "3   3.45     1480  \n",
              "4   2.93      735  "
            ]
          },
          "metadata": {},
          "execution_count": 4
        }
      ]
    },
    {
      "cell_type": "code",
      "source": [
        "dados = dados.rename(columns = {'Alcohol' : 'Alcool', 'Ash' : 'Po', 'Ash_Alcanity': 'Alcalinidade_po',\n",
        "                          'Magnesium' : 'Magnesio','Total_Phenols' : 'Total_Fenois',\n",
        "                          'Nonflavanoid_Phenols':'Fenois_nao_flavalonoides','Color_Intensity':'Intensidade_de_cor'})"
      ],
      "metadata": {
        "id": "CpJsFd7kevi8"
      },
      "execution_count": null,
      "outputs": []
    },
    {
      "cell_type": "code",
      "source": [
        "colunas = dados.columns\n",
        "colunas"
      ],
      "metadata": {
        "colab": {
          "base_uri": "https://localhost:8080/"
        },
        "id": "wdwWRChikPQx",
        "outputId": "d8ea718e-002e-43d1-d785-84459ebcc214"
      },
      "execution_count": null,
      "outputs": [
        {
          "output_type": "execute_result",
          "data": {
            "text/plain": [
              "Index(['Alcool', 'Malic_Acid', 'Po', 'Alcalinidade_po', 'Magnesio',\n",
              "       'Total_Fenois', 'Flavanoids', 'Fenois_nao_flavalonoides',\n",
              "       'Proanthocyanins', 'Intensidade_de_cor', 'Hue', 'OD280', 'Proline'],\n",
              "      dtype='object')"
            ]
          },
          "metadata": {},
          "execution_count": 6
        }
      ]
    },
    {
      "cell_type": "code",
      "source": [
        "dados.head()"
      ],
      "metadata": {
        "colab": {
          "base_uri": "https://localhost:8080/",
          "height": 206
        },
        "id": "CzI7CfN3fO5y",
        "outputId": "92e5f742-7f38-4378-ea7d-ad6b8fbdbd11"
      },
      "execution_count": null,
      "outputs": [
        {
          "output_type": "execute_result",
          "data": {
            "text/html": [
              "\n",
              "  <div id=\"df-857081aa-e70f-4019-bad4-35540c50a6f4\">\n",
              "    <div class=\"colab-df-container\">\n",
              "      <div>\n",
              "<style scoped>\n",
              "    .dataframe tbody tr th:only-of-type {\n",
              "        vertical-align: middle;\n",
              "    }\n",
              "\n",
              "    .dataframe tbody tr th {\n",
              "        vertical-align: top;\n",
              "    }\n",
              "\n",
              "    .dataframe thead th {\n",
              "        text-align: right;\n",
              "    }\n",
              "</style>\n",
              "<table border=\"1\" class=\"dataframe\">\n",
              "  <thead>\n",
              "    <tr style=\"text-align: right;\">\n",
              "      <th></th>\n",
              "      <th>Alcool</th>\n",
              "      <th>Malic_Acid</th>\n",
              "      <th>Po</th>\n",
              "      <th>Alcalinidade_po</th>\n",
              "      <th>Magnesio</th>\n",
              "      <th>Total_Fenois</th>\n",
              "      <th>Flavanoids</th>\n",
              "      <th>Fenois_nao_flavalonoides</th>\n",
              "      <th>Proanthocyanins</th>\n",
              "      <th>Intensidade_de_cor</th>\n",
              "      <th>Hue</th>\n",
              "      <th>OD280</th>\n",
              "      <th>Proline</th>\n",
              "    </tr>\n",
              "  </thead>\n",
              "  <tbody>\n",
              "    <tr>\n",
              "      <th>0</th>\n",
              "      <td>14.23</td>\n",
              "      <td>1.71</td>\n",
              "      <td>2.43</td>\n",
              "      <td>15.6</td>\n",
              "      <td>127</td>\n",
              "      <td>2.80</td>\n",
              "      <td>3.06</td>\n",
              "      <td>0.28</td>\n",
              "      <td>2.29</td>\n",
              "      <td>5.64</td>\n",
              "      <td>1.04</td>\n",
              "      <td>3.92</td>\n",
              "      <td>1065</td>\n",
              "    </tr>\n",
              "    <tr>\n",
              "      <th>1</th>\n",
              "      <td>13.20</td>\n",
              "      <td>1.78</td>\n",
              "      <td>2.14</td>\n",
              "      <td>11.2</td>\n",
              "      <td>100</td>\n",
              "      <td>2.65</td>\n",
              "      <td>2.76</td>\n",
              "      <td>0.26</td>\n",
              "      <td>1.28</td>\n",
              "      <td>4.38</td>\n",
              "      <td>1.05</td>\n",
              "      <td>3.40</td>\n",
              "      <td>1050</td>\n",
              "    </tr>\n",
              "    <tr>\n",
              "      <th>2</th>\n",
              "      <td>13.16</td>\n",
              "      <td>2.36</td>\n",
              "      <td>2.67</td>\n",
              "      <td>18.6</td>\n",
              "      <td>101</td>\n",
              "      <td>2.80</td>\n",
              "      <td>3.24</td>\n",
              "      <td>0.30</td>\n",
              "      <td>2.81</td>\n",
              "      <td>5.68</td>\n",
              "      <td>1.03</td>\n",
              "      <td>3.17</td>\n",
              "      <td>1185</td>\n",
              "    </tr>\n",
              "    <tr>\n",
              "      <th>3</th>\n",
              "      <td>14.37</td>\n",
              "      <td>1.95</td>\n",
              "      <td>2.50</td>\n",
              "      <td>16.8</td>\n",
              "      <td>113</td>\n",
              "      <td>3.85</td>\n",
              "      <td>3.49</td>\n",
              "      <td>0.24</td>\n",
              "      <td>2.18</td>\n",
              "      <td>7.80</td>\n",
              "      <td>0.86</td>\n",
              "      <td>3.45</td>\n",
              "      <td>1480</td>\n",
              "    </tr>\n",
              "    <tr>\n",
              "      <th>4</th>\n",
              "      <td>13.24</td>\n",
              "      <td>2.59</td>\n",
              "      <td>2.87</td>\n",
              "      <td>21.0</td>\n",
              "      <td>118</td>\n",
              "      <td>2.80</td>\n",
              "      <td>2.69</td>\n",
              "      <td>0.39</td>\n",
              "      <td>1.82</td>\n",
              "      <td>4.32</td>\n",
              "      <td>1.04</td>\n",
              "      <td>2.93</td>\n",
              "      <td>735</td>\n",
              "    </tr>\n",
              "  </tbody>\n",
              "</table>\n",
              "</div>\n",
              "      <button class=\"colab-df-convert\" onclick=\"convertToInteractive('df-857081aa-e70f-4019-bad4-35540c50a6f4')\"\n",
              "              title=\"Convert this dataframe to an interactive table.\"\n",
              "              style=\"display:none;\">\n",
              "        \n",
              "  <svg xmlns=\"http://www.w3.org/2000/svg\" height=\"24px\"viewBox=\"0 0 24 24\"\n",
              "       width=\"24px\">\n",
              "    <path d=\"M0 0h24v24H0V0z\" fill=\"none\"/>\n",
              "    <path d=\"M18.56 5.44l.94 2.06.94-2.06 2.06-.94-2.06-.94-.94-2.06-.94 2.06-2.06.94zm-11 1L8.5 8.5l.94-2.06 2.06-.94-2.06-.94L8.5 2.5l-.94 2.06-2.06.94zm10 10l.94 2.06.94-2.06 2.06-.94-2.06-.94-.94-2.06-.94 2.06-2.06.94z\"/><path d=\"M17.41 7.96l-1.37-1.37c-.4-.4-.92-.59-1.43-.59-.52 0-1.04.2-1.43.59L10.3 9.45l-7.72 7.72c-.78.78-.78 2.05 0 2.83L4 21.41c.39.39.9.59 1.41.59.51 0 1.02-.2 1.41-.59l7.78-7.78 2.81-2.81c.8-.78.8-2.07 0-2.86zM5.41 20L4 18.59l7.72-7.72 1.47 1.35L5.41 20z\"/>\n",
              "  </svg>\n",
              "      </button>\n",
              "      \n",
              "  <style>\n",
              "    .colab-df-container {\n",
              "      display:flex;\n",
              "      flex-wrap:wrap;\n",
              "      gap: 12px;\n",
              "    }\n",
              "\n",
              "    .colab-df-convert {\n",
              "      background-color: #E8F0FE;\n",
              "      border: none;\n",
              "      border-radius: 50%;\n",
              "      cursor: pointer;\n",
              "      display: none;\n",
              "      fill: #1967D2;\n",
              "      height: 32px;\n",
              "      padding: 0 0 0 0;\n",
              "      width: 32px;\n",
              "    }\n",
              "\n",
              "    .colab-df-convert:hover {\n",
              "      background-color: #E2EBFA;\n",
              "      box-shadow: 0px 1px 2px rgba(60, 64, 67, 0.3), 0px 1px 3px 1px rgba(60, 64, 67, 0.15);\n",
              "      fill: #174EA6;\n",
              "    }\n",
              "\n",
              "    [theme=dark] .colab-df-convert {\n",
              "      background-color: #3B4455;\n",
              "      fill: #D2E3FC;\n",
              "    }\n",
              "\n",
              "    [theme=dark] .colab-df-convert:hover {\n",
              "      background-color: #434B5C;\n",
              "      box-shadow: 0px 1px 3px 1px rgba(0, 0, 0, 0.15);\n",
              "      filter: drop-shadow(0px 1px 2px rgba(0, 0, 0, 0.3));\n",
              "      fill: #FFFFFF;\n",
              "    }\n",
              "  </style>\n",
              "\n",
              "      <script>\n",
              "        const buttonEl =\n",
              "          document.querySelector('#df-857081aa-e70f-4019-bad4-35540c50a6f4 button.colab-df-convert');\n",
              "        buttonEl.style.display =\n",
              "          google.colab.kernel.accessAllowed ? 'block' : 'none';\n",
              "\n",
              "        async function convertToInteractive(key) {\n",
              "          const element = document.querySelector('#df-857081aa-e70f-4019-bad4-35540c50a6f4');\n",
              "          const dataTable =\n",
              "            await google.colab.kernel.invokeFunction('convertToInteractive',\n",
              "                                                     [key], {});\n",
              "          if (!dataTable) return;\n",
              "\n",
              "          const docLinkHtml = 'Like what you see? Visit the ' +\n",
              "            '<a target=\"_blank\" href=https://colab.research.google.com/notebooks/data_table.ipynb>data table notebook</a>'\n",
              "            + ' to learn more about interactive tables.';\n",
              "          element.innerHTML = '';\n",
              "          dataTable['output_type'] = 'display_data';\n",
              "          await google.colab.output.renderOutput(dataTable, element);\n",
              "          const docLink = document.createElement('div');\n",
              "          docLink.innerHTML = docLinkHtml;\n",
              "          element.appendChild(docLink);\n",
              "        }\n",
              "      </script>\n",
              "    </div>\n",
              "  </div>\n",
              "  "
            ],
            "text/plain": [
              "   Alcool  Malic_Acid    Po  Alcalinidade_po  Magnesio  Total_Fenois  \\\n",
              "0   14.23        1.71  2.43             15.6       127          2.80   \n",
              "1   13.20        1.78  2.14             11.2       100          2.65   \n",
              "2   13.16        2.36  2.67             18.6       101          2.80   \n",
              "3   14.37        1.95  2.50             16.8       113          3.85   \n",
              "4   13.24        2.59  2.87             21.0       118          2.80   \n",
              "\n",
              "   Flavanoids  Fenois_nao_flavalonoides  Proanthocyanins  Intensidade_de_cor  \\\n",
              "0        3.06                      0.28             2.29                5.64   \n",
              "1        2.76                      0.26             1.28                4.38   \n",
              "2        3.24                      0.30             2.81                5.68   \n",
              "3        3.49                      0.24             2.18                7.80   \n",
              "4        2.69                      0.39             1.82                4.32   \n",
              "\n",
              "    Hue  OD280  Proline  \n",
              "0  1.04   3.92     1065  \n",
              "1  1.05   3.40     1050  \n",
              "2  1.03   3.17     1185  \n",
              "3  0.86   3.45     1480  \n",
              "4  1.04   2.93      735  "
            ]
          },
          "metadata": {},
          "execution_count": 7
        }
      ]
    },
    {
      "cell_type": "code",
      "source": [
        "dados.describe()"
      ],
      "metadata": {
        "colab": {
          "base_uri": "https://localhost:8080/",
          "height": 364
        },
        "id": "qg_clXScfcEP",
        "outputId": "13d0de98-b15b-4ef3-9b04-1b532be53571"
      },
      "execution_count": null,
      "outputs": [
        {
          "output_type": "execute_result",
          "data": {
            "text/html": [
              "\n",
              "  <div id=\"df-9722e43b-8a32-4554-9758-0370cc00ce20\">\n",
              "    <div class=\"colab-df-container\">\n",
              "      <div>\n",
              "<style scoped>\n",
              "    .dataframe tbody tr th:only-of-type {\n",
              "        vertical-align: middle;\n",
              "    }\n",
              "\n",
              "    .dataframe tbody tr th {\n",
              "        vertical-align: top;\n",
              "    }\n",
              "\n",
              "    .dataframe thead th {\n",
              "        text-align: right;\n",
              "    }\n",
              "</style>\n",
              "<table border=\"1\" class=\"dataframe\">\n",
              "  <thead>\n",
              "    <tr style=\"text-align: right;\">\n",
              "      <th></th>\n",
              "      <th>Alcool</th>\n",
              "      <th>Malic_Acid</th>\n",
              "      <th>Po</th>\n",
              "      <th>Alcalinidade_po</th>\n",
              "      <th>Magnesio</th>\n",
              "      <th>Total_Fenois</th>\n",
              "      <th>Flavanoids</th>\n",
              "      <th>Fenois_nao_flavalonoides</th>\n",
              "      <th>Proanthocyanins</th>\n",
              "      <th>Intensidade_de_cor</th>\n",
              "      <th>Hue</th>\n",
              "      <th>OD280</th>\n",
              "      <th>Proline</th>\n",
              "    </tr>\n",
              "  </thead>\n",
              "  <tbody>\n",
              "    <tr>\n",
              "      <th>count</th>\n",
              "      <td>178.000000</td>\n",
              "      <td>178.000000</td>\n",
              "      <td>178.000000</td>\n",
              "      <td>178.000000</td>\n",
              "      <td>178.000000</td>\n",
              "      <td>178.000000</td>\n",
              "      <td>178.000000</td>\n",
              "      <td>178.000000</td>\n",
              "      <td>178.000000</td>\n",
              "      <td>178.000000</td>\n",
              "      <td>178.000000</td>\n",
              "      <td>178.000000</td>\n",
              "      <td>178.000000</td>\n",
              "    </tr>\n",
              "    <tr>\n",
              "      <th>mean</th>\n",
              "      <td>13.000618</td>\n",
              "      <td>2.336348</td>\n",
              "      <td>2.366517</td>\n",
              "      <td>19.494944</td>\n",
              "      <td>99.741573</td>\n",
              "      <td>2.295112</td>\n",
              "      <td>2.029270</td>\n",
              "      <td>0.361854</td>\n",
              "      <td>1.590899</td>\n",
              "      <td>5.058090</td>\n",
              "      <td>0.957449</td>\n",
              "      <td>2.611685</td>\n",
              "      <td>746.893258</td>\n",
              "    </tr>\n",
              "    <tr>\n",
              "      <th>std</th>\n",
              "      <td>0.811827</td>\n",
              "      <td>1.117146</td>\n",
              "      <td>0.274344</td>\n",
              "      <td>3.339564</td>\n",
              "      <td>14.282484</td>\n",
              "      <td>0.625851</td>\n",
              "      <td>0.998859</td>\n",
              "      <td>0.124453</td>\n",
              "      <td>0.572359</td>\n",
              "      <td>2.318286</td>\n",
              "      <td>0.228572</td>\n",
              "      <td>0.709990</td>\n",
              "      <td>314.907474</td>\n",
              "    </tr>\n",
              "    <tr>\n",
              "      <th>min</th>\n",
              "      <td>11.030000</td>\n",
              "      <td>0.740000</td>\n",
              "      <td>1.360000</td>\n",
              "      <td>10.600000</td>\n",
              "      <td>70.000000</td>\n",
              "      <td>0.980000</td>\n",
              "      <td>0.340000</td>\n",
              "      <td>0.130000</td>\n",
              "      <td>0.410000</td>\n",
              "      <td>1.280000</td>\n",
              "      <td>0.480000</td>\n",
              "      <td>1.270000</td>\n",
              "      <td>278.000000</td>\n",
              "    </tr>\n",
              "    <tr>\n",
              "      <th>25%</th>\n",
              "      <td>12.362500</td>\n",
              "      <td>1.602500</td>\n",
              "      <td>2.210000</td>\n",
              "      <td>17.200000</td>\n",
              "      <td>88.000000</td>\n",
              "      <td>1.742500</td>\n",
              "      <td>1.205000</td>\n",
              "      <td>0.270000</td>\n",
              "      <td>1.250000</td>\n",
              "      <td>3.220000</td>\n",
              "      <td>0.782500</td>\n",
              "      <td>1.937500</td>\n",
              "      <td>500.500000</td>\n",
              "    </tr>\n",
              "    <tr>\n",
              "      <th>50%</th>\n",
              "      <td>13.050000</td>\n",
              "      <td>1.865000</td>\n",
              "      <td>2.360000</td>\n",
              "      <td>19.500000</td>\n",
              "      <td>98.000000</td>\n",
              "      <td>2.355000</td>\n",
              "      <td>2.135000</td>\n",
              "      <td>0.340000</td>\n",
              "      <td>1.555000</td>\n",
              "      <td>4.690000</td>\n",
              "      <td>0.965000</td>\n",
              "      <td>2.780000</td>\n",
              "      <td>673.500000</td>\n",
              "    </tr>\n",
              "    <tr>\n",
              "      <th>75%</th>\n",
              "      <td>13.677500</td>\n",
              "      <td>3.082500</td>\n",
              "      <td>2.557500</td>\n",
              "      <td>21.500000</td>\n",
              "      <td>107.000000</td>\n",
              "      <td>2.800000</td>\n",
              "      <td>2.875000</td>\n",
              "      <td>0.437500</td>\n",
              "      <td>1.950000</td>\n",
              "      <td>6.200000</td>\n",
              "      <td>1.120000</td>\n",
              "      <td>3.170000</td>\n",
              "      <td>985.000000</td>\n",
              "    </tr>\n",
              "    <tr>\n",
              "      <th>max</th>\n",
              "      <td>14.830000</td>\n",
              "      <td>5.800000</td>\n",
              "      <td>3.230000</td>\n",
              "      <td>30.000000</td>\n",
              "      <td>162.000000</td>\n",
              "      <td>3.880000</td>\n",
              "      <td>5.080000</td>\n",
              "      <td>0.660000</td>\n",
              "      <td>3.580000</td>\n",
              "      <td>13.000000</td>\n",
              "      <td>1.710000</td>\n",
              "      <td>4.000000</td>\n",
              "      <td>1680.000000</td>\n",
              "    </tr>\n",
              "  </tbody>\n",
              "</table>\n",
              "</div>\n",
              "      <button class=\"colab-df-convert\" onclick=\"convertToInteractive('df-9722e43b-8a32-4554-9758-0370cc00ce20')\"\n",
              "              title=\"Convert this dataframe to an interactive table.\"\n",
              "              style=\"display:none;\">\n",
              "        \n",
              "  <svg xmlns=\"http://www.w3.org/2000/svg\" height=\"24px\"viewBox=\"0 0 24 24\"\n",
              "       width=\"24px\">\n",
              "    <path d=\"M0 0h24v24H0V0z\" fill=\"none\"/>\n",
              "    <path d=\"M18.56 5.44l.94 2.06.94-2.06 2.06-.94-2.06-.94-.94-2.06-.94 2.06-2.06.94zm-11 1L8.5 8.5l.94-2.06 2.06-.94-2.06-.94L8.5 2.5l-.94 2.06-2.06.94zm10 10l.94 2.06.94-2.06 2.06-.94-2.06-.94-.94-2.06-.94 2.06-2.06.94z\"/><path d=\"M17.41 7.96l-1.37-1.37c-.4-.4-.92-.59-1.43-.59-.52 0-1.04.2-1.43.59L10.3 9.45l-7.72 7.72c-.78.78-.78 2.05 0 2.83L4 21.41c.39.39.9.59 1.41.59.51 0 1.02-.2 1.41-.59l7.78-7.78 2.81-2.81c.8-.78.8-2.07 0-2.86zM5.41 20L4 18.59l7.72-7.72 1.47 1.35L5.41 20z\"/>\n",
              "  </svg>\n",
              "      </button>\n",
              "      \n",
              "  <style>\n",
              "    .colab-df-container {\n",
              "      display:flex;\n",
              "      flex-wrap:wrap;\n",
              "      gap: 12px;\n",
              "    }\n",
              "\n",
              "    .colab-df-convert {\n",
              "      background-color: #E8F0FE;\n",
              "      border: none;\n",
              "      border-radius: 50%;\n",
              "      cursor: pointer;\n",
              "      display: none;\n",
              "      fill: #1967D2;\n",
              "      height: 32px;\n",
              "      padding: 0 0 0 0;\n",
              "      width: 32px;\n",
              "    }\n",
              "\n",
              "    .colab-df-convert:hover {\n",
              "      background-color: #E2EBFA;\n",
              "      box-shadow: 0px 1px 2px rgba(60, 64, 67, 0.3), 0px 1px 3px 1px rgba(60, 64, 67, 0.15);\n",
              "      fill: #174EA6;\n",
              "    }\n",
              "\n",
              "    [theme=dark] .colab-df-convert {\n",
              "      background-color: #3B4455;\n",
              "      fill: #D2E3FC;\n",
              "    }\n",
              "\n",
              "    [theme=dark] .colab-df-convert:hover {\n",
              "      background-color: #434B5C;\n",
              "      box-shadow: 0px 1px 3px 1px rgba(0, 0, 0, 0.15);\n",
              "      filter: drop-shadow(0px 1px 2px rgba(0, 0, 0, 0.3));\n",
              "      fill: #FFFFFF;\n",
              "    }\n",
              "  </style>\n",
              "\n",
              "      <script>\n",
              "        const buttonEl =\n",
              "          document.querySelector('#df-9722e43b-8a32-4554-9758-0370cc00ce20 button.colab-df-convert');\n",
              "        buttonEl.style.display =\n",
              "          google.colab.kernel.accessAllowed ? 'block' : 'none';\n",
              "\n",
              "        async function convertToInteractive(key) {\n",
              "          const element = document.querySelector('#df-9722e43b-8a32-4554-9758-0370cc00ce20');\n",
              "          const dataTable =\n",
              "            await google.colab.kernel.invokeFunction('convertToInteractive',\n",
              "                                                     [key], {});\n",
              "          if (!dataTable) return;\n",
              "\n",
              "          const docLinkHtml = 'Like what you see? Visit the ' +\n",
              "            '<a target=\"_blank\" href=https://colab.research.google.com/notebooks/data_table.ipynb>data table notebook</a>'\n",
              "            + ' to learn more about interactive tables.';\n",
              "          element.innerHTML = '';\n",
              "          dataTable['output_type'] = 'display_data';\n",
              "          await google.colab.output.renderOutput(dataTable, element);\n",
              "          const docLink = document.createElement('div');\n",
              "          docLink.innerHTML = docLinkHtml;\n",
              "          element.appendChild(docLink);\n",
              "        }\n",
              "      </script>\n",
              "    </div>\n",
              "  </div>\n",
              "  "
            ],
            "text/plain": [
              "           Alcool  Malic_Acid          Po  Alcalinidade_po    Magnesio  \\\n",
              "count  178.000000  178.000000  178.000000       178.000000  178.000000   \n",
              "mean    13.000618    2.336348    2.366517        19.494944   99.741573   \n",
              "std      0.811827    1.117146    0.274344         3.339564   14.282484   \n",
              "min     11.030000    0.740000    1.360000        10.600000   70.000000   \n",
              "25%     12.362500    1.602500    2.210000        17.200000   88.000000   \n",
              "50%     13.050000    1.865000    2.360000        19.500000   98.000000   \n",
              "75%     13.677500    3.082500    2.557500        21.500000  107.000000   \n",
              "max     14.830000    5.800000    3.230000        30.000000  162.000000   \n",
              "\n",
              "       Total_Fenois  Flavanoids  Fenois_nao_flavalonoides  Proanthocyanins  \\\n",
              "count    178.000000  178.000000                178.000000       178.000000   \n",
              "mean       2.295112    2.029270                  0.361854         1.590899   \n",
              "std        0.625851    0.998859                  0.124453         0.572359   \n",
              "min        0.980000    0.340000                  0.130000         0.410000   \n",
              "25%        1.742500    1.205000                  0.270000         1.250000   \n",
              "50%        2.355000    2.135000                  0.340000         1.555000   \n",
              "75%        2.800000    2.875000                  0.437500         1.950000   \n",
              "max        3.880000    5.080000                  0.660000         3.580000   \n",
              "\n",
              "       Intensidade_de_cor         Hue       OD280      Proline  \n",
              "count          178.000000  178.000000  178.000000   178.000000  \n",
              "mean             5.058090    0.957449    2.611685   746.893258  \n",
              "std              2.318286    0.228572    0.709990   314.907474  \n",
              "min              1.280000    0.480000    1.270000   278.000000  \n",
              "25%              3.220000    0.782500    1.937500   500.500000  \n",
              "50%              4.690000    0.965000    2.780000   673.500000  \n",
              "75%              6.200000    1.120000    3.170000   985.000000  \n",
              "max             13.000000    1.710000    4.000000  1680.000000  "
            ]
          },
          "metadata": {},
          "execution_count": 8
        }
      ]
    },
    {
      "cell_type": "code",
      "source": [
        "correlacao = dados.corr()"
      ],
      "metadata": {
        "id": "rbwYlsz5ffYD"
      },
      "execution_count": null,
      "outputs": []
    },
    {
      "cell_type": "code",
      "source": [
        "pip install biokit"
      ],
      "metadata": {
        "colab": {
          "base_uri": "https://localhost:8080/"
        },
        "id": "D_47420VgaaS",
        "outputId": "e2d1ccbb-0502-41f2-8973-9f8381e7b5f4"
      },
      "execution_count": null,
      "outputs": [
        {
          "output_type": "stream",
          "name": "stdout",
          "text": [
            "Requirement already satisfied: biokit in /usr/local/lib/python3.7/dist-packages (0.5.0)\n",
            "Requirement already satisfied: biopython in /usr/local/lib/python3.7/dist-packages (from biokit) (1.79)\n",
            "Requirement already satisfied: easydev>=0.9.34 in /usr/local/lib/python3.7/dist-packages (from biokit) (0.12.0)\n",
            "Requirement already satisfied: pandas in /usr/local/lib/python3.7/dist-packages (from biokit) (1.3.5)\n",
            "Requirement already satisfied: scipy in /usr/local/lib/python3.7/dist-packages (from biokit) (1.4.1)\n",
            "Requirement already satisfied: bioservices>=1.4.5 in /usr/local/lib/python3.7/dist-packages (from biokit) (1.8.4)\n",
            "Requirement already satisfied: colormap in /usr/local/lib/python3.7/dist-packages (from biokit) (1.0.4)\n",
            "Requirement already satisfied: matplotlib in /usr/local/lib/python3.7/dist-packages (from biokit) (3.2.2)\n",
            "Requirement already satisfied: colorlog in /usr/local/lib/python3.7/dist-packages (from biokit) (6.6.0)\n",
            "Requirement already satisfied: numpydoc in /usr/local/lib/python3.7/dist-packages (from biokit) (1.2)\n",
            "Requirement already satisfied: requests in /usr/local/lib/python3.7/dist-packages (from bioservices>=1.4.5->biokit) (2.23.0)\n",
            "Requirement already satisfied: grequests in /usr/local/lib/python3.7/dist-packages (from bioservices>=1.4.5->biokit) (0.6.0)\n",
            "Requirement already satisfied: suds-community in /usr/local/lib/python3.7/dist-packages (from bioservices>=1.4.5->biokit) (1.0.0)\n",
            "Requirement already satisfied: wrapt in /usr/local/lib/python3.7/dist-packages (from bioservices>=1.4.5->biokit) (1.13.3)\n",
            "Requirement already satisfied: xmltodict in /usr/local/lib/python3.7/dist-packages (from bioservices>=1.4.5->biokit) (0.12.0)\n",
            "Requirement already satisfied: beautifulsoup4 in /usr/local/lib/python3.7/dist-packages (from bioservices>=1.4.5->biokit) (4.6.3)\n",
            "Requirement already satisfied: requests-cache in /usr/local/lib/python3.7/dist-packages (from bioservices>=1.4.5->biokit) (0.9.3)\n",
            "Requirement already satisfied: lxml in /usr/local/lib/python3.7/dist-packages (from bioservices>=1.4.5->biokit) (4.2.6)\n",
            "Requirement already satisfied: appdirs in /usr/local/lib/python3.7/dist-packages (from bioservices>=1.4.5->biokit) (1.4.4)\n",
            "Requirement already satisfied: pexpect in /usr/local/lib/python3.7/dist-packages (from easydev>=0.9.34->biokit) (4.8.0)\n",
            "Requirement already satisfied: colorama in /usr/local/lib/python3.7/dist-packages (from easydev>=0.9.34->biokit) (0.4.4)\n",
            "Requirement already satisfied: numpy in /usr/local/lib/python3.7/dist-packages (from biopython->biokit) (1.21.5)\n",
            "Requirement already satisfied: gevent in /usr/local/lib/python3.7/dist-packages (from grequests->bioservices>=1.4.5->biokit) (21.12.0)\n",
            "Requirement already satisfied: setuptools in /usr/local/lib/python3.7/dist-packages (from gevent->grequests->bioservices>=1.4.5->biokit) (57.4.0)\n",
            "Requirement already satisfied: zope.interface in /usr/local/lib/python3.7/dist-packages (from gevent->grequests->bioservices>=1.4.5->biokit) (5.4.0)\n",
            "Requirement already satisfied: greenlet<2.0,>=1.1.0 in /usr/local/lib/python3.7/dist-packages (from gevent->grequests->bioservices>=1.4.5->biokit) (1.1.2)\n",
            "Requirement already satisfied: zope.event in /usr/local/lib/python3.7/dist-packages (from gevent->grequests->bioservices>=1.4.5->biokit) (4.5.0)\n",
            "Requirement already satisfied: pyparsing!=2.0.4,!=2.1.2,!=2.1.6,>=2.0.1 in /usr/local/lib/python3.7/dist-packages (from matplotlib->biokit) (3.0.7)\n",
            "Requirement already satisfied: python-dateutil>=2.1 in /usr/local/lib/python3.7/dist-packages (from matplotlib->biokit) (2.8.2)\n",
            "Requirement already satisfied: cycler>=0.10 in /usr/local/lib/python3.7/dist-packages (from matplotlib->biokit) (0.11.0)\n",
            "Requirement already satisfied: kiwisolver>=1.0.1 in /usr/local/lib/python3.7/dist-packages (from matplotlib->biokit) (1.3.2)\n",
            "Requirement already satisfied: six>=1.5 in /usr/local/lib/python3.7/dist-packages (from python-dateutil>=2.1->matplotlib->biokit) (1.15.0)\n",
            "Requirement already satisfied: Jinja2>=2.10 in /usr/local/lib/python3.7/dist-packages (from numpydoc->biokit) (2.11.3)\n",
            "Requirement already satisfied: sphinx>=1.8 in /usr/local/lib/python3.7/dist-packages (from numpydoc->biokit) (1.8.6)\n",
            "Requirement already satisfied: MarkupSafe>=0.23 in /usr/local/lib/python3.7/dist-packages (from Jinja2>=2.10->numpydoc->biokit) (2.0.1)\n",
            "Requirement already satisfied: Pygments>=2.0 in /usr/local/lib/python3.7/dist-packages (from sphinx>=1.8->numpydoc->biokit) (2.6.1)\n",
            "Requirement already satisfied: alabaster<0.8,>=0.7 in /usr/local/lib/python3.7/dist-packages (from sphinx>=1.8->numpydoc->biokit) (0.7.12)\n",
            "Requirement already satisfied: snowballstemmer>=1.1 in /usr/local/lib/python3.7/dist-packages (from sphinx>=1.8->numpydoc->biokit) (2.2.0)\n",
            "Requirement already satisfied: imagesize in /usr/local/lib/python3.7/dist-packages (from sphinx>=1.8->numpydoc->biokit) (1.3.0)\n",
            "Requirement already satisfied: babel!=2.0,>=1.3 in /usr/local/lib/python3.7/dist-packages (from sphinx>=1.8->numpydoc->biokit) (2.9.1)\n",
            "Requirement already satisfied: packaging in /usr/local/lib/python3.7/dist-packages (from sphinx>=1.8->numpydoc->biokit) (21.3)\n",
            "Requirement already satisfied: sphinxcontrib-websupport in /usr/local/lib/python3.7/dist-packages (from sphinx>=1.8->numpydoc->biokit) (1.2.4)\n",
            "Requirement already satisfied: docutils<0.18,>=0.11 in /usr/local/lib/python3.7/dist-packages (from sphinx>=1.8->numpydoc->biokit) (0.17.1)\n",
            "Requirement already satisfied: pytz>=2015.7 in /usr/local/lib/python3.7/dist-packages (from babel!=2.0,>=1.3->sphinx>=1.8->numpydoc->biokit) (2018.9)\n",
            "Requirement already satisfied: urllib3!=1.25.0,!=1.25.1,<1.26,>=1.21.1 in /usr/local/lib/python3.7/dist-packages (from requests->bioservices>=1.4.5->biokit) (1.25.11)\n",
            "Requirement already satisfied: idna<3,>=2.5 in /usr/local/lib/python3.7/dist-packages (from requests->bioservices>=1.4.5->biokit) (2.10)\n",
            "Requirement already satisfied: chardet<4,>=3.0.2 in /usr/local/lib/python3.7/dist-packages (from requests->bioservices>=1.4.5->biokit) (3.0.4)\n",
            "Requirement already satisfied: certifi>=2017.4.17 in /usr/local/lib/python3.7/dist-packages (from requests->bioservices>=1.4.5->biokit) (2021.10.8)\n",
            "Requirement already satisfied: ptyprocess>=0.5 in /usr/local/lib/python3.7/dist-packages (from pexpect->easydev>=0.9.34->biokit) (0.7.0)\n",
            "Requirement already satisfied: cattrs<2.0,>=1.8 in /usr/local/lib/python3.7/dist-packages (from requests-cache->bioservices>=1.4.5->biokit) (1.10.0)\n",
            "Requirement already satisfied: attrs<22.0,>=21.2 in /usr/local/lib/python3.7/dist-packages (from requests-cache->bioservices>=1.4.5->biokit) (21.4.0)\n",
            "Requirement already satisfied: url-normalize<2.0,>=1.4 in /usr/local/lib/python3.7/dist-packages (from requests-cache->bioservices>=1.4.5->biokit) (1.4.3)\n",
            "Requirement already satisfied: typing_extensions in /usr/local/lib/python3.7/dist-packages (from cattrs<2.0,>=1.8->requests-cache->bioservices>=1.4.5->biokit) (3.10.0.2)\n",
            "Requirement already satisfied: sphinxcontrib-serializinghtml in /usr/local/lib/python3.7/dist-packages (from sphinxcontrib-websupport->sphinx>=1.8->numpydoc->biokit) (1.1.5)\n"
          ]
        }
      ]
    },
    {
      "cell_type": "markdown",
      "source": [
        "# Correlacionando"
      ],
      "metadata": {
        "id": "HDvkGItl1bu9"
      }
    },
    {
      "cell_type": "code",
      "source": [
        "from biokit.viz import corrplot\n",
        "import matplotlib.pyplot as plt"
      ],
      "metadata": {
        "id": "rY-F1xuAgdWJ"
      },
      "execution_count": null,
      "outputs": []
    },
    {
      "cell_type": "code",
      "source": [
        "corr_graf = corrplot.Corrplot(correlacao)\n",
        "corr_graf.plot(upper = 'ellipse', fontsize = 'x-large')\n",
        "fig=plt.gcf()\n",
        "fig.set_size_inches(13,8)\n",
        "fig.show()"
      ],
      "metadata": {
        "colab": {
          "base_uri": "https://localhost:8080/",
          "height": 429
        },
        "id": "1M3dhlFPg7t_",
        "outputId": "156e9f8f-4916-49b7-a627-57904b5c9c0d"
      },
      "execution_count": null,
      "outputs": [
        {
          "output_type": "display_data",
          "data": {
            "image/png": "[encoded data removed]",
            "text/plain": [
              "<Figure size 936x576 with 2 Axes>"
            ]
          },
          "metadata": {}
        }
      ]
    },
    {
      "cell_type": "code",
      "source": [
        "atributos = dados.columns"
      ],
      "metadata": {
        "id": "2SAeh7awh0hd"
      },
      "execution_count": null,
      "outputs": []
    },
    {
      "cell_type": "code",
      "source": [
        "from sklearn import preprocessing"
      ],
      "metadata": {
        "id": "UdZhIukmh4Kn"
      },
      "execution_count": null,
      "outputs": []
    },
    {
      "cell_type": "code",
      "source": [
        "min_max_scaler = preprocessing.MinMaxScaler()\n",
        "np_dados = min_max_scaler.fit_transform(dados)"
      ],
      "metadata": {
        "id": "8PfK5Kp_iWNw"
      },
      "execution_count": null,
      "outputs": []
    },
    {
      "cell_type": "code",
      "source": [
        "dados = pd.DataFrame(np_dados, columns = colunas)"
      ],
      "metadata": {
        "id": "b6lVrPWkiaud"
      },
      "execution_count": null,
      "outputs": []
    },
    {
      "cell_type": "code",
      "source": [
        "dados.describe()"
      ],
      "metadata": {
        "colab": {
          "base_uri": "https://localhost:8080/",
          "height": 364
        },
        "id": "0F7Lv3JWijiO",
        "outputId": "cbb66a69-874f-47e3-ecc4-cc2040e0f29d"
      },
      "execution_count": null,
      "outputs": [
        {
          "output_type": "execute_result",
          "data": {
            "text/html": [
              "\n",
              "  <div id=\"df-bbb2198a-f173-4326-b7b7-32e0f9d28088\">\n",
              "    <div class=\"colab-df-container\">\n",
              "      <div>\n",
              "<style scoped>\n",
              "    .dataframe tbody tr th:only-of-type {\n",
              "        vertical-align: middle;\n",
              "    }\n",
              "\n",
              "    .dataframe tbody tr th {\n",
              "        vertical-align: top;\n",
              "    }\n",
              "\n",
              "    .dataframe thead th {\n",
              "        text-align: right;\n",
              "    }\n",
              "</style>\n",
              "<table border=\"1\" class=\"dataframe\">\n",
              "  <thead>\n",
              "    <tr style=\"text-align: right;\">\n",
              "      <th></th>\n",
              "      <th>Alcool</th>\n",
              "      <th>Malic_Acid</th>\n",
              "      <th>Po</th>\n",
              "      <th>Alcalinidade_po</th>\n",
              "      <th>Magnesio</th>\n",
              "      <th>Total_Fenois</th>\n",
              "      <th>Flavanoids</th>\n",
              "      <th>Fenois_nao_flavalonoides</th>\n",
              "      <th>Proanthocyanins</th>\n",
              "      <th>Intensidade_de_cor</th>\n",
              "      <th>Hue</th>\n",
              "      <th>OD280</th>\n",
              "      <th>Proline</th>\n",
              "    </tr>\n",
              "  </thead>\n",
              "  <tbody>\n",
              "    <tr>\n",
              "      <th>count</th>\n",
              "      <td>178.000000</td>\n",
              "      <td>178.000000</td>\n",
              "      <td>178.000000</td>\n",
              "      <td>178.000000</td>\n",
              "      <td>178.000000</td>\n",
              "      <td>178.000000</td>\n",
              "      <td>178.000000</td>\n",
              "      <td>178.000000</td>\n",
              "      <td>178.000000</td>\n",
              "      <td>178.000000</td>\n",
              "      <td>178.000000</td>\n",
              "      <td>178.000000</td>\n",
              "      <td>178.000000</td>\n",
              "    </tr>\n",
              "    <tr>\n",
              "      <th>mean</th>\n",
              "      <td>0.518584</td>\n",
              "      <td>0.315484</td>\n",
              "      <td>0.538244</td>\n",
              "      <td>0.458502</td>\n",
              "      <td>0.323278</td>\n",
              "      <td>0.453487</td>\n",
              "      <td>0.356386</td>\n",
              "      <td>0.437460</td>\n",
              "      <td>0.372523</td>\n",
              "      <td>0.322363</td>\n",
              "      <td>0.388170</td>\n",
              "      <td>0.491460</td>\n",
              "      <td>0.334446</td>\n",
              "    </tr>\n",
              "    <tr>\n",
              "      <th>std</th>\n",
              "      <td>0.213639</td>\n",
              "      <td>0.220780</td>\n",
              "      <td>0.146708</td>\n",
              "      <td>0.172142</td>\n",
              "      <td>0.155244</td>\n",
              "      <td>0.215811</td>\n",
              "      <td>0.210730</td>\n",
              "      <td>0.234818</td>\n",
              "      <td>0.180555</td>\n",
              "      <td>0.197806</td>\n",
              "      <td>0.185831</td>\n",
              "      <td>0.260070</td>\n",
              "      <td>0.224613</td>\n",
              "    </tr>\n",
              "    <tr>\n",
              "      <th>min</th>\n",
              "      <td>0.000000</td>\n",
              "      <td>0.000000</td>\n",
              "      <td>0.000000</td>\n",
              "      <td>0.000000</td>\n",
              "      <td>0.000000</td>\n",
              "      <td>0.000000</td>\n",
              "      <td>0.000000</td>\n",
              "      <td>0.000000</td>\n",
              "      <td>0.000000</td>\n",
              "      <td>0.000000</td>\n",
              "      <td>0.000000</td>\n",
              "      <td>0.000000</td>\n",
              "      <td>0.000000</td>\n",
              "    </tr>\n",
              "    <tr>\n",
              "      <th>25%</th>\n",
              "      <td>0.350658</td>\n",
              "      <td>0.170455</td>\n",
              "      <td>0.454545</td>\n",
              "      <td>0.340206</td>\n",
              "      <td>0.195652</td>\n",
              "      <td>0.262931</td>\n",
              "      <td>0.182489</td>\n",
              "      <td>0.264151</td>\n",
              "      <td>0.264984</td>\n",
              "      <td>0.165529</td>\n",
              "      <td>0.245935</td>\n",
              "      <td>0.244505</td>\n",
              "      <td>0.158702</td>\n",
              "    </tr>\n",
              "    <tr>\n",
              "      <th>50%</th>\n",
              "      <td>0.531579</td>\n",
              "      <td>0.222332</td>\n",
              "      <td>0.534759</td>\n",
              "      <td>0.458763</td>\n",
              "      <td>0.304348</td>\n",
              "      <td>0.474138</td>\n",
              "      <td>0.378692</td>\n",
              "      <td>0.396226</td>\n",
              "      <td>0.361199</td>\n",
              "      <td>0.290956</td>\n",
              "      <td>0.394309</td>\n",
              "      <td>0.553114</td>\n",
              "      <td>0.282097</td>\n",
              "    </tr>\n",
              "    <tr>\n",
              "      <th>75%</th>\n",
              "      <td>0.696711</td>\n",
              "      <td>0.462945</td>\n",
              "      <td>0.640374</td>\n",
              "      <td>0.561856</td>\n",
              "      <td>0.402174</td>\n",
              "      <td>0.627586</td>\n",
              "      <td>0.534810</td>\n",
              "      <td>0.580189</td>\n",
              "      <td>0.485804</td>\n",
              "      <td>0.419795</td>\n",
              "      <td>0.520325</td>\n",
              "      <td>0.695971</td>\n",
              "      <td>0.504280</td>\n",
              "    </tr>\n",
              "    <tr>\n",
              "      <th>max</th>\n",
              "      <td>1.000000</td>\n",
              "      <td>1.000000</td>\n",
              "      <td>1.000000</td>\n",
              "      <td>1.000000</td>\n",
              "      <td>1.000000</td>\n",
              "      <td>1.000000</td>\n",
              "      <td>1.000000</td>\n",
              "      <td>1.000000</td>\n",
              "      <td>1.000000</td>\n",
              "      <td>1.000000</td>\n",
              "      <td>1.000000</td>\n",
              "      <td>1.000000</td>\n",
              "      <td>1.000000</td>\n",
              "    </tr>\n",
              "  </tbody>\n",
              "</table>\n",
              "</div>\n",
              "      <button class=\"colab-df-convert\" onclick=\"convertToInteractive('df-bbb2198a-f173-4326-b7b7-32e0f9d28088')\"\n",
              "              title=\"Convert this dataframe to an interactive table.\"\n",
              "              style=\"display:none;\">\n",
              "        \n",
              "  <svg xmlns=\"http://www.w3.org/2000/svg\" height=\"24px\"viewBox=\"0 0 24 24\"\n",
              "       width=\"24px\">\n",
              "    <path d=\"M0 0h24v24H0V0z\" fill=\"none\"/>\n",
              "    <path d=\"M18.56 5.44l.94 2.06.94-2.06 2.06-.94-2.06-.94-.94-2.06-.94 2.06-2.06.94zm-11 1L8.5 8.5l.94-2.06 2.06-.94-2.06-.94L8.5 2.5l-.94 2.06-2.06.94zm10 10l.94 2.06.94-2.06 2.06-.94-2.06-.94-.94-2.06-.94 2.06-2.06.94z\"/><path d=\"M17.41 7.96l-1.37-1.37c-.4-.4-.92-.59-1.43-.59-.52 0-1.04.2-1.43.59L10.3 9.45l-7.72 7.72c-.78.78-.78 2.05 0 2.83L4 21.41c.39.39.9.59 1.41.59.51 0 1.02-.2 1.41-.59l7.78-7.78 2.81-2.81c.8-.78.8-2.07 0-2.86zM5.41 20L4 18.59l7.72-7.72 1.47 1.35L5.41 20z\"/>\n",
              "  </svg>\n",
              "      </button>\n",
              "      \n",
              "  <style>\n",
              "    .colab-df-container {\n",
              "      display:flex;\n",
              "      flex-wrap:wrap;\n",
              "      gap: 12px;\n",
              "    }\n",
              "\n",
              "    .colab-df-convert {\n",
              "      background-color: #E8F0FE;\n",
              "      border: none;\n",
              "      border-radius: 50%;\n",
              "      cursor: pointer;\n",
              "      display: none;\n",
              "      fill: #1967D2;\n",
              "      height: 32px;\n",
              "      padding: 0 0 0 0;\n",
              "      width: 32px;\n",
              "    }\n",
              "\n",
              "    .colab-df-convert:hover {\n",
              "      background-color: #E2EBFA;\n",
              "      box-shadow: 0px 1px 2px rgba(60, 64, 67, 0.3), 0px 1px 3px 1px rgba(60, 64, 67, 0.15);\n",
              "      fill: #174EA6;\n",
              "    }\n",
              "\n",
              "    [theme=dark] .colab-df-convert {\n",
              "      background-color: #3B4455;\n",
              "      fill: #D2E3FC;\n",
              "    }\n",
              "\n",
              "    [theme=dark] .colab-df-convert:hover {\n",
              "      background-color: #434B5C;\n",
              "      box-shadow: 0px 1px 3px 1px rgba(0, 0, 0, 0.15);\n",
              "      filter: drop-shadow(0px 1px 2px rgba(0, 0, 0, 0.3));\n",
              "      fill: #FFFFFF;\n",
              "    }\n",
              "  </style>\n",
              "\n",
              "      <script>\n",
              "        const buttonEl =\n",
              "          document.querySelector('#df-bbb2198a-f173-4326-b7b7-32e0f9d28088 button.colab-df-convert');\n",
              "        buttonEl.style.display =\n",
              "          google.colab.kernel.accessAllowed ? 'block' : 'none';\n",
              "\n",
              "        async function convertToInteractive(key) {\n",
              "          const element = document.querySelector('#df-bbb2198a-f173-4326-b7b7-32e0f9d28088');\n",
              "          const dataTable =\n",
              "            await google.colab.kernel.invokeFunction('convertToInteractive',\n",
              "                                                     [key], {});\n",
              "          if (!dataTable) return;\n",
              "\n",
              "          const docLinkHtml = 'Like what you see? Visit the ' +\n",
              "            '<a target=\"_blank\" href=https://colab.research.google.com/notebooks/data_table.ipynb>data table notebook</a>'\n",
              "            + ' to learn more about interactive tables.';\n",
              "          element.innerHTML = '';\n",
              "          dataTable['output_type'] = 'display_data';\n",
              "          await google.colab.output.renderOutput(dataTable, element);\n",
              "          const docLink = document.createElement('div');\n",
              "          docLink.innerHTML = docLinkHtml;\n",
              "          element.appendChild(docLink);\n",
              "        }\n",
              "      </script>\n",
              "    </div>\n",
              "  </div>\n",
              "  "
            ],
            "text/plain": [
              "           Alcool  Malic_Acid          Po  Alcalinidade_po    Magnesio  \\\n",
              "count  178.000000  178.000000  178.000000       178.000000  178.000000   \n",
              "mean     0.518584    0.315484    0.538244         0.458502    0.323278   \n",
              "std      0.213639    0.220780    0.146708         0.172142    0.155244   \n",
              "min      0.000000    0.000000    0.000000         0.000000    0.000000   \n",
              "25%      0.350658    0.170455    0.454545         0.340206    0.195652   \n",
              "50%      0.531579    0.222332    0.534759         0.458763    0.304348   \n",
              "75%      0.696711    0.462945    0.640374         0.561856    0.402174   \n",
              "max      1.000000    1.000000    1.000000         1.000000    1.000000   \n",
              "\n",
              "       Total_Fenois  Flavanoids  Fenois_nao_flavalonoides  Proanthocyanins  \\\n",
              "count    178.000000  178.000000                178.000000       178.000000   \n",
              "mean       0.453487    0.356386                  0.437460         0.372523   \n",
              "std        0.215811    0.210730                  0.234818         0.180555   \n",
              "min        0.000000    0.000000                  0.000000         0.000000   \n",
              "25%        0.262931    0.182489                  0.264151         0.264984   \n",
              "50%        0.474138    0.378692                  0.396226         0.361199   \n",
              "75%        0.627586    0.534810                  0.580189         0.485804   \n",
              "max        1.000000    1.000000                  1.000000         1.000000   \n",
              "\n",
              "       Intensidade_de_cor         Hue       OD280     Proline  \n",
              "count          178.000000  178.000000  178.000000  178.000000  \n",
              "mean             0.322363    0.388170    0.491460    0.334446  \n",
              "std              0.197806    0.185831    0.260070    0.224613  \n",
              "min              0.000000    0.000000    0.000000    0.000000  \n",
              "25%              0.165529    0.245935    0.244505    0.158702  \n",
              "50%              0.290956    0.394309    0.553114    0.282097  \n",
              "75%              0.419795    0.520325    0.695971    0.504280  \n",
              "max              1.000000    1.000000    1.000000    1.000000  "
            ]
          },
          "metadata": {},
          "execution_count": 17
        }
      ]
    },
    {
      "cell_type": "markdown",
      "source": [
        "# Aplicando K-Means"
      ],
      "metadata": {
        "id": "9Hlm3ADa1hve"
      }
    },
    {
      "cell_type": "code",
      "source": [
        "from sklearn.cluster import KMeans"
      ],
      "metadata": {
        "id": "LnhJKHAKK7GU"
      },
      "execution_count": null,
      "outputs": []
    },
    {
      "cell_type": "code",
      "source": [
        "agrupador = KMeans(n_clusters = 4)"
      ],
      "metadata": {
        "id": "k54-jYwkK-Eq"
      },
      "execution_count": null,
      "outputs": []
    },
    {
      "cell_type": "code",
      "source": [
        "agrupador.fit(dados)"
      ],
      "metadata": {
        "colab": {
          "base_uri": "https://localhost:8080/"
        },
        "id": "p0nF20AOLFaD",
        "outputId": "19bc35a6-6c27-45b2-84b3-955d1a7e45fd"
      },
      "execution_count": null,
      "outputs": [
        {
          "output_type": "execute_result",
          "data": {
            "text/plain": [
              "KMeans(n_clusters=4)"
            ]
          },
          "metadata": {},
          "execution_count": 20
        }
      ]
    },
    {
      "cell_type": "code",
      "source": [
        "labels = agrupador.labels_\n",
        "print(labels)"
      ],
      "metadata": {
        "colab": {
          "base_uri": "https://localhost:8080/"
        },
        "id": "UN0XiqhFLQIO",
        "outputId": "41a03e54-ca28-4801-8c44-080faf1beaec"
      },
      "execution_count": null,
      "outputs": [
        {
          "output_type": "stream",
          "name": "stdout",
          "text": [
            "[1 1 1 1 3 1 1 1 1 1 1 1 1 1 1 1 1 1 1 1 1 3 1 1 1 3 1 1 1 1 1 1 1 1 1 1 1\n",
            " 1 1 1 1 1 1 3 1 1 1 1 1 1 1 1 1 1 1 1 1 1 1 0 0 0 0 3 0 0 3 0 0 3 0 3 0 3\n",
            " 3 0 0 0 0 3 0 3 0 2 3 0 0 0 0 0 0 0 0 3 3 3 0 0 3 3 0 0 3 0 0 0 0 0 0 3 3\n",
            " 3 0 0 0 0 0 0 2 0 3 3 3 3 3 3 3 0 0 0 2 2 2 2 2 2 2 2 2 2 2 2 2 2 2 2 2 2\n",
            " 2 2 2 2 2 2 2 2 2 2 2 2 2 2 2 2 2 2 2 2 2 2 2 2 2 2 2 2 2 2]\n"
          ]
        }
      ]
    },
    {
      "cell_type": "code",
      "source": [
        "agrupador.fit(dados)\n",
        "labels = agrupador.labels_\n",
        "print(labels)"
      ],
      "metadata": {
        "colab": {
          "base_uri": "https://localhost:8080/"
        },
        "id": "BZsdMOL9Lqo4",
        "outputId": "fbf57c57-14b0-4503-ceaf-8b12bad96d88"
      },
      "execution_count": null,
      "outputs": [
        {
          "output_type": "stream",
          "name": "stdout",
          "text": [
            "[2 2 2 2 2 2 2 2 2 2 2 2 2 2 2 2 2 2 2 2 2 1 2 2 2 2 2 2 2 2 2 2 2 2 2 2 2\n",
            " 2 2 2 2 2 2 1 2 2 2 2 2 2 2 2 2 2 2 2 2 2 2 0 0 0 0 1 0 1 1 1 0 1 0 1 0 2\n",
            " 1 0 1 0 1 1 1 1 0 3 1 1 0 0 0 0 0 0 0 1 1 1 0 1 1 1 1 0 1 0 1 0 0 0 1 1 1\n",
            " 1 0 0 0 0 1 0 3 1 1 1 0 1 1 1 1 0 0 0 3 3 3 3 3 3 3 3 3 3 3 3 3 3 3 3 3 3\n",
            " 3 3 3 3 3 3 3 3 3 3 3 3 3 3 3 3 3 3 3 3 3 3 3 3 3 3 3 3 3 3]\n"
          ]
        }
      ]
    },
    {
      "cell_type": "code",
      "source": [
        "fig = go.Figure()\n",
        "fig.add_trace(go.Scatter(x=dados['Intensidade_de_cor'], y = dados['Alcool'],\n",
        "                                                        mode = 'markers',                      \n",
        "                                                        marker = dict(color = agrupador.labels_.astype(np.float)),\n",
        "                                                        text = labels))\n",
        "fig.show()"
      ],
      "metadata": {
        "colab": {
          "base_uri": "https://localhost:8080/",
          "height": 649
        },
        "id": "jZosL938LtoN",
        "outputId": "12722c92-ce43-4f4b-c798-51e050104735"
      },
      "execution_count": null,
      "outputs": [
        {
          "output_type": "stream",
          "name": "stderr",
          "text": [
            "/usr/local/lib/python3.7/dist-packages/ipykernel_launcher.py:4: DeprecationWarning:\n",
            "\n",
            "`np.float` is a deprecated alias for the builtin `float`. To silence this warning, use `float` by itself. Doing this will not modify any behavior and is safe. If you specifically wanted the numpy scalar type, use `np.float64` here.\n",
            "Deprecated in NumPy 1.20; for more details and guidance: https://numpy.org/devdocs/release/1.20.0-notes.html#deprecations\n",
            "\n"
          ]
        },
        {
          "output_type": "display_data",
          "data": {
            "text/html": [
              "<html>\n",
              "<head><meta charset=\"utf-8\" /></head>\n",
              "<body>\n",
              "    <div>\n",
              "            <script src=\"https://cdnjs.cloudflare.com/ajax/libs/mathjax/2.7.5/MathJax.js?config=TeX-AMS-MML_SVG\"></script><script type=\"text/javascript\">if (window.MathJax) {MathJax.Hub.Config({SVG: {font: \"STIX-Web\"}});}</script>\n",
              "                <script type=\"text/javascript\">window.PlotlyConfig = {MathJaxConfig: 'local'};</script>\n",
              "        <script src=\"https://cdn.plot.ly/plotly-latest.min.js\"></script>    \n",
              "            <div id=\"1e4dc77a-37f2-4780-9012-588b4ca5ead0\" class=\"plotly-graph-div\" style=\"height:525px; width:100%;\"></div>\n",
              "            <script type=\"text/javascript\">\n",
              "                \n",
              "                    window.PLOTLYENV=window.PLOTLYENV || {};\n",
              "                    \n",
              "                if (document.getElementById(\"1e4dc77a-37f2-4780-9012-588b4ca5ead0\")) {\n",
              "                    Plotly.newPlot(\n",
              "                        '1e4dc77a-37f2-4780-9012-588b4ca5ead0',\n",
              "                        [{\"marker\": {\"color\": [2.0, 2.0, 2.0, 2.0, 2.0, 2.0, 2.0, 2.0, 2.0, 2.0, 2.0, 2.0, 2.0, 2.0, 2.0, 2.0, 2.0, 2.0, 2.0, 2.0, 2.0, 1.0, 2.0, 2.0, 2.0, 2.0, 2.0, 2.0, 2.0, 2.0, 2.0, 2.0, 2.0, 2.0, 2.0, 2.0, 2.0, 2.0, 2.0, 2.0, 2.0, 2.0, 2.0, 1.0, 2.0, 2.0, 2.0, 2.0, 2.0, 2.0, 2.0, 2.0, 2.0, 2.0, 2.0, 2.0, 2.0, 2.0, 2.0, 0.0, 0.0, 0.0, 0.0, 1.0, 0.0, 1.0, 1.0, 1.0, 0.0, 1.0, 0.0, 1.0, 0.0, 2.0, 1.0, 0.0, 1.0, 0.0, 1.0, 1.0, 1.0, 1.0, 0.0, 3.0, 1.0, 1.0, 0.0, 0.0, 0.0, 0.0, 0.0, 0.0, 0.0, 1.0, 1.0, 1.0, 0.0, 1.0, 1.0, 1.0, 1.0, 0.0, 1.0, 0.0, 1.0, 0.0, 0.0, 0.0, 1.0, 1.0, 1.0, 1.0, 0.0, 0.0, 0.0, 0.0, 1.0, 0.0, 3.0, 1.0, 1.0, 1.0, 0.0, 1.0, 1.0, 1.0, 1.0, 0.0, 0.0, 0.0, 3.0, 3.0, 3.0, 3.0, 3.0, 3.0, 3.0, 3.0, 3.0, 3.0, 3.0, 3.0, 3.0, 3.0, 3.0, 3.0, 3.0, 3.0, 3.0, 3.0, 3.0, 3.0, 3.0, 3.0, 3.0, 3.0, 3.0, 3.0, 3.0, 3.0, 3.0, 3.0, 3.0, 3.0, 3.0, 3.0, 3.0, 3.0, 3.0, 3.0, 3.0, 3.0, 3.0, 3.0, 3.0, 3.0, 3.0, 3.0]}, \"mode\": \"markers\", \"text\": [2.0, 2.0, 2.0, 2.0, 2.0, 2.0, 2.0, 2.0, 2.0, 2.0, 2.0, 2.0, 2.0, 2.0, 2.0, 2.0, 2.0, 2.0, 2.0, 2.0, 2.0, 1.0, 2.0, 2.0, 2.0, 2.0, 2.0, 2.0, 2.0, 2.0, 2.0, 2.0, 2.0, 2.0, 2.0, 2.0, 2.0, 2.0, 2.0, 2.0, 2.0, 2.0, 2.0, 1.0, 2.0, 2.0, 2.0, 2.0, 2.0, 2.0, 2.0, 2.0, 2.0, 2.0, 2.0, 2.0, 2.0, 2.0, 2.0, 0.0, 0.0, 0.0, 0.0, 1.0, 0.0, 1.0, 1.0, 1.0, 0.0, 1.0, 0.0, 1.0, 0.0, 2.0, 1.0, 0.0, 1.0, 0.0, 1.0, 1.0, 1.0, 1.0, 0.0, 3.0, 1.0, 1.0, 0.0, 0.0, 0.0, 0.0, 0.0, 0.0, 0.0, 1.0, 1.0, 1.0, 0.0, 1.0, 1.0, 1.0, 1.0, 0.0, 1.0, 0.0, 1.0, 0.0, 0.0, 0.0, 1.0, 1.0, 1.0, 1.0, 0.0, 0.0, 0.0, 0.0, 1.0, 0.0, 3.0, 1.0, 1.0, 1.0, 0.0, 1.0, 1.0, 1.0, 1.0, 0.0, 0.0, 0.0, 3.0, 3.0, 3.0, 3.0, 3.0, 3.0, 3.0, 3.0, 3.0, 3.0, 3.0, 3.0, 3.0, 3.0, 3.0, 3.0, 3.0, 3.0, 3.0, 3.0, 3.0, 3.0, 3.0, 3.0, 3.0, 3.0, 3.0, 3.0, 3.0, 3.0, 3.0, 3.0, 3.0, 3.0, 3.0, 3.0, 3.0, 3.0, 3.0, 3.0, 3.0, 3.0, 3.0, 3.0, 3.0, 3.0, 3.0, 3.0], \"type\": \"scatter\", \"x\": [0.3720136518771331, 0.26450511945392485, 0.3754266211604095, 0.5563139931740614, 0.2593856655290102, 0.4667235494880546, 0.3387372013651877, 0.3216723549488054, 0.33447098976109213, 0.5068259385665529, 0.3813993174061433, 0.31740614334470985, 0.3686006825938566, 0.3515358361774744, 0.5307167235494881, 0.5136518771331058, 0.41979522184300344, 0.4539249146757679, 0.6331058020477814, 0.325938566552901, 0.37286689419795227, 0.27474402730375425, 0.21501706484641633, 0.22610921501706485, 0.1911262798634812, 0.1962457337883959, 0.30034129692832756, 0.22781569965870305, 0.27474402730375425, 0.29180887372013653, 0.37713310580204773, 0.4795221843003413, 0.21843003412969278, 0.3515358361774744, 0.2491467576791809, 0.325938566552901, 0.2832764505119454, 0.2534129692832764, 0.20648464163822525, 0.325938566552901, 0.4138225255972696, 0.2559726962457338, 0.35409556313993173, 0.2627986348122867, 0.32081911262798635, 0.33788395904436863, 0.3088737201365188, 0.4112627986348123, 0.41979522184300344, 0.6501706484641638, 0.5051194539249146, 0.3686006825938566, 0.4923208191126279, 0.42832764505119447, 0.38993174061433444, 0.424061433447099, 0.4351535836177475, 0.40273037542662116, 0.4709897610921502, 0.057167235494880536, 0.1697952218430034, 0.3813993174061433, 0.21501706484641633, 0.2704778156996587, 0.1424914675767918, 0.2832764505119454, 0.3430034129692833, 0.2901023890784983, 0.16126279863481227, 0.13395904436860068, 0.15102389078498293, 0.17918088737201363, 0.2098976109215017, 0.1766211604095563, 0.16467576791808872, 0.21501706484641633, 0.2832764505119454, 0.11689419795221842, 0.18088737201365188, 0.1100682593856655, 0.10409556313993173, 0.22354948805460748, 0.07849829351535836, 0.30034129692832756, 0.15102389078498293, 0.1143344709897611, 0.09982935153583619, 0.11262798634812288, 0.1296928327645051, 0.03924914675767918, 0.09556313993174059, 0.1979522184300341, 0.15102389078498293, 0.07423208191126279, 0.16808873720136516, 0.11262798634812288, 0.10409556313993173, 0.13822525597269622, 0.27474402730375425, 0.08703071672354948, 0.17235494880546073, 0.09982935153583619, 0.1296928327645051, 0.06655290102389078, 0.14163822525597267, 0.12116040955631399, 0.18088737201365188, 0.17235494880546073, 0.12116040955631399, 0.11689419795221842, 0.13822525597269622, 0.06143344709897611, 0.21501706484641633, 0.15358361774744025, 0.13822525597269622, 0.052901023890784965, 0.057167235494880536, 0.06655290102389078, 0.18088737201365188, 0.0, 0.16808873720136516, 0.40273037542662116, 0.06825938566552903, 0.11262798634812288, 0.1296928327645051, 0.12627986348122863, 0.22696245733788392, 0.14675767918088736, 0.07167235494880547, 0.11262798634812288, 0.2406143344709897, 0.3515358361774744, 0.37713310580204773, 0.31740614334470985, 0.35580204778157, 0.4965870307167235, 0.21928327645051196, 0.31740614334470985, 0.37713310580204773, 0.31058020477815695, 0.2832764505119454, 0.3686006825938566, 0.26194539249146753, 0.2662116040955631, 0.5912969283276451, 0.23208191126279862, 0.3088737201365188, 0.5435153583617748, 0.6092150170648464, 0.6928327645051194, 0.6245733788395904, 0.8122866894197952, 0.4965870307167235, 0.78839590443686, 0.5392491467576791, 0.5648464163822525, 0.659556313993174, 0.5307167235494881, 0.9999999999999999, 0.893344709897611, 0.5435153583617748, 0.39249146757679176, 0.36689419795221845, 0.341296928327645, 0.7081911262798635, 0.45563139931740615, 0.8020477815699658, 0.7662116040955631, 0.6296928327645052, 0.6160409556313993, 0.36006825938566556, 0.7354947952218429, 0.7184300341296928, 0.5477815699658704, 0.5136518771331058, 0.7610921501706484, 0.6843003412969284, 0.6757679180887372], \"y\": [0.8421052631578951, 0.5710526315789473, 0.560526315789474, 0.8789473684210525, 0.5815789473684214, 0.8342105263157893, 0.8842105263157896, 0.797368421052632, 1.0, 0.7447368421052629, 0.8078947368421052, 0.8131578947368419, 0.7157894736842105, 0.9789473684210526, 0.8815789473684212, 0.6842105263157898, 0.8605263157894738, 0.736842105263158, 0.831578947368421, 0.6868421052631581, 0.797368421052632, 0.5, 0.7052631578947373, 0.47894736842105257, 0.6499999999999999, 0.5315789473684216, 0.6210526315789475, 0.5973684210526318, 0.7473684210526317, 0.7868421052631578, 0.7105263157894739, 0.6710526315789473, 0.6973684210526314, 0.7184210526315788, 0.6526315789473687, 0.6447368421052633, 0.5921052631578947, 0.5315789473684216, 0.5368421052631582, 0.8394736842105264, 0.6657894736842107, 0.6263157894736846, 0.7500000000000004, 0.5815789473684214, 0.5315789473684216, 0.836842105263158, 0.8815789473684212, 0.7552631578947371, 0.8078947368421052, 0.7657894736842104, 0.5315789473684216, 0.736842105263158, 0.7342105263157896, 0.7210526315789472, 0.7131578947368422, 0.6657894736842107, 0.8394736842105264, 0.594736842105263, 0.7078947368421056, 0.3526315789473684, 0.34210526315789513, 0.4236842105263161, 0.6947368421052631, 0.3526315789473684, 0.30000000000000027, 0.3526315789473684, 0.5473684210526315, 0.3526315789473684, 0.6078947368421055, 0.310526315789474, 0.331578947368421, 0.7447368421052629, 0.6473684210526316, 0.5157894736842108, 0.2447368421052638, 0.1657894736842107, 0.5263157894736841, 0.2131578947368422, 0.34210526315789513, 0.43947368421052646, 0.2552631578947371, 0.44473684210526354, 0.2763157894736845, 0.5315789473684216, 0.2131578947368422, 0.43157894736842106, 0.29736842105263195, 0.1631578947368424, 0.16052631578947407, 0.2763157894736845, 0.2763157894736845, 0.2552631578947371, 0.43684210526315814, 0.331578947368421, 0.155263157894737, 0.3789473684210529, 0.20526315789473726, 0.331578947368421, 0.3526315789473684, 0.331578947368421, 0.2763157894736845, 0.4131578947368424, 0.34473684210526345, 0.20789473684210558, 0.38947368421052664, 0.3657894736842109, 0.3210526315789477, 0.44473684210526354, 0.3131578947368423, 0.15263157894736867, 0.11315789473684257, 0.39210526315789496, 0.19210526315789478, 0.10000000000000053, 0.2763157894736845, 0.0, 0.20789473684210558, 0.3657894736842109, 0.45789473684210513, 0.2552631578947371, 0.1105263157894738, 0.13947368421052664, 0.3657894736842109, 0.5315789473684216, 0.2210526315789476, 0.2736842105263162, 0.3684210526315792, 0.20000000000000018, 0.3526315789473684, 0.26578947368421035, 0.4815789473684209, 0.4868421052631584, 0.4684210526315793, 0.43947368421052646, 0.38947368421052664, 0.4131578947368424, 0.3210526315789477, 0.3947368421052633, 0.6473684210526316, 0.47631578947368425, 0.5, 0.6131578947368421, 0.655263157894737, 0.6815789473684211, 0.3210526315789477, 0.560526315789474, 0.7500000000000004, 0.48421052631578965, 0.6026315789473689, 0.5394736842105265, 0.6499999999999999, 0.4631578947368422, 0.5473684210526315, 0.5789473684210531, 0.4078947368421053, 0.5631578947368423, 0.7394736842105263, 0.37368421052631584, 0.8710526315789475, 0.6447368421052633, 0.3500000000000001, 0.7000000000000002, 0.47894736842105257, 0.5078947368421058, 0.7236842105263159, 0.7105263157894739, 0.6368421052631579, 0.4710526315789476, 0.6710526315789473, 0.6236842105263158, 0.3078947368421052, 0.45789473684210513, 0.823684210526316, 0.7052631578947373, 0.6236842105263158, 0.5894736842105264, 0.5631578947368423, 0.8157894736842106]}],\n",
              "                        {\"template\": {\"data\": {\"bar\": [{\"error_x\": {\"color\": \"#2a3f5f\"}, \"error_y\": {\"color\": \"#2a3f5f\"}, \"marker\": {\"line\": {\"color\": \"#E5ECF6\", \"width\": 0.5}}, \"type\": \"bar\"}], \"barpolar\": [{\"marker\": {\"line\": {\"color\": \"#E5ECF6\", \"width\": 0.5}}, \"type\": \"barpolar\"}], \"carpet\": [{\"aaxis\": {\"endlinecolor\": \"#2a3f5f\", \"gridcolor\": \"white\", \"linecolor\": \"white\", \"minorgridcolor\": \"white\", \"startlinecolor\": \"#2a3f5f\"}, \"baxis\": {\"endlinecolor\": \"#2a3f5f\", \"gridcolor\": \"white\", \"linecolor\": \"white\", \"minorgridcolor\": \"white\", \"startlinecolor\": \"#2a3f5f\"}, \"type\": \"carpet\"}], \"choropleth\": [{\"colorbar\": {\"outlinewidth\": 0, \"ticks\": \"\"}, \"type\": \"choropleth\"}], \"contour\": [{\"colorbar\": {\"outlinewidth\": 0, \"ticks\": \"\"}, \"colorscale\": [[0.0, \"#0d0887\"], [0.1111111111111111, \"#46039f\"], [0.2222222222222222, \"#7201a8\"], [0.3333333333333333, \"#9c179e\"], [0.4444444444444444, \"#bd3786\"], [0.5555555555555556, \"#d8576b\"], [0.6666666666666666, \"#ed7953\"], [0.7777777777777778, \"#fb9f3a\"], [0.8888888888888888, \"#fdca26\"], [1.0, \"#f0f921\"]], \"type\": \"contour\"}], \"contourcarpet\": [{\"colorbar\": {\"outlinewidth\": 0, \"ticks\": \"\"}, \"type\": \"contourcarpet\"}], \"heatmap\": [{\"colorbar\": {\"outlinewidth\": 0, \"ticks\": \"\"}, \"colorscale\": [[0.0, \"#0d0887\"], [0.1111111111111111, \"#46039f\"], [0.2222222222222222, \"#7201a8\"], [0.3333333333333333, \"#9c179e\"], [0.4444444444444444, \"#bd3786\"], [0.5555555555555556, \"#d8576b\"], [0.6666666666666666, \"#ed7953\"], [0.7777777777777778, \"#fb9f3a\"], [0.8888888888888888, \"#fdca26\"], [1.0, \"#f0f921\"]], \"type\": \"heatmap\"}], \"heatmapgl\": [{\"colorbar\": {\"outlinewidth\": 0, \"ticks\": \"\"}, \"colorscale\": [[0.0, \"#0d0887\"], [0.1111111111111111, \"#46039f\"], [0.2222222222222222, \"#7201a8\"], [0.3333333333333333, \"#9c179e\"], [0.4444444444444444, \"#bd3786\"], [0.5555555555555556, \"#d8576b\"], [0.6666666666666666, \"#ed7953\"], [0.7777777777777778, \"#fb9f3a\"], [0.8888888888888888, \"#fdca26\"], [1.0, \"#f0f921\"]], \"type\": \"heatmapgl\"}], \"histogram\": [{\"marker\": {\"colorbar\": {\"outlinewidth\": 0, \"ticks\": \"\"}}, \"type\": \"histogram\"}], \"histogram2d\": [{\"colorbar\": {\"outlinewidth\": 0, \"ticks\": \"\"}, \"colorscale\": [[0.0, \"#0d0887\"], [0.1111111111111111, \"#46039f\"], [0.2222222222222222, \"#7201a8\"], [0.3333333333333333, \"#9c179e\"], [0.4444444444444444, \"#bd3786\"], [0.5555555555555556, \"#d8576b\"], [0.6666666666666666, \"#ed7953\"], [0.7777777777777778, \"#fb9f3a\"], [0.8888888888888888, \"#fdca26\"], [1.0, \"#f0f921\"]], \"type\": \"histogram2d\"}], \"histogram2dcontour\": [{\"colorbar\": {\"outlinewidth\": 0, \"ticks\": \"\"}, \"colorscale\": [[0.0, \"#0d0887\"], [0.1111111111111111, \"#46039f\"], [0.2222222222222222, \"#7201a8\"], [0.3333333333333333, \"#9c179e\"], [0.4444444444444444, \"#bd3786\"], [0.5555555555555556, \"#d8576b\"], [0.6666666666666666, \"#ed7953\"], [0.7777777777777778, \"#fb9f3a\"], [0.8888888888888888, \"#fdca26\"], [1.0, \"#f0f921\"]], \"type\": \"histogram2dcontour\"}], \"mesh3d\": [{\"colorbar\": {\"outlinewidth\": 0, \"ticks\": \"\"}, \"type\": \"mesh3d\"}], \"parcoords\": [{\"line\": {\"colorbar\": {\"outlinewidth\": 0, \"ticks\": \"\"}}, \"type\": \"parcoords\"}], \"scatter\": [{\"marker\": {\"colorbar\": {\"outlinewidth\": 0, \"ticks\": \"\"}}, \"type\": \"scatter\"}], \"scatter3d\": [{\"line\": {\"colorbar\": {\"outlinewidth\": 0, \"ticks\": \"\"}}, \"marker\": {\"colorbar\": {\"outlinewidth\": 0, \"ticks\": \"\"}}, \"type\": \"scatter3d\"}], \"scattercarpet\": [{\"marker\": {\"colorbar\": {\"outlinewidth\": 0, \"ticks\": \"\"}}, \"type\": \"scattercarpet\"}], \"scattergeo\": [{\"marker\": {\"colorbar\": {\"outlinewidth\": 0, \"ticks\": \"\"}}, \"type\": \"scattergeo\"}], \"scattergl\": [{\"marker\": {\"colorbar\": {\"outlinewidth\": 0, \"ticks\": \"\"}}, \"type\": \"scattergl\"}], \"scattermapbox\": [{\"marker\": {\"colorbar\": {\"outlinewidth\": 0, \"ticks\": \"\"}}, \"type\": \"scattermapbox\"}], \"scatterpolar\": [{\"marker\": {\"colorbar\": {\"outlinewidth\": 0, \"ticks\": \"\"}}, \"type\": \"scatterpolar\"}], \"scatterpolargl\": [{\"marker\": {\"colorbar\": {\"outlinewidth\": 0, \"ticks\": \"\"}}, \"type\": \"scatterpolargl\"}], \"scatterternary\": [{\"marker\": {\"colorbar\": {\"outlinewidth\": 0, \"ticks\": \"\"}}, \"type\": \"scatterternary\"}], \"surface\": [{\"colorbar\": {\"outlinewidth\": 0, \"ticks\": \"\"}, \"colorscale\": [[0.0, \"#0d0887\"], [0.1111111111111111, \"#46039f\"], [0.2222222222222222, \"#7201a8\"], [0.3333333333333333, \"#9c179e\"], [0.4444444444444444, \"#bd3786\"], [0.5555555555555556, \"#d8576b\"], [0.6666666666666666, \"#ed7953\"], [0.7777777777777778, \"#fb9f3a\"], [0.8888888888888888, \"#fdca26\"], [1.0, \"#f0f921\"]], \"type\": \"surface\"}], \"table\": [{\"cells\": {\"fill\": {\"color\": \"#EBF0F8\"}, \"line\": {\"color\": \"white\"}}, \"header\": {\"fill\": {\"color\": \"#C8D4E3\"}, \"line\": {\"color\": \"white\"}}, \"type\": \"table\"}]}, \"layout\": {\"annotationdefaults\": {\"arrowcolor\": \"#2a3f5f\", \"arrowhead\": 0, \"arrowwidth\": 1}, \"colorscale\": {\"diverging\": [[0, \"#8e0152\"], [0.1, \"#c51b7d\"], [0.2, \"#de77ae\"], [0.3, \"#f1b6da\"], [0.4, \"#fde0ef\"], [0.5, \"#f7f7f7\"], [0.6, \"#e6f5d0\"], [0.7, \"#b8e186\"], [0.8, \"#7fbc41\"], [0.9, \"#4d9221\"], [1, \"#276419\"]], \"sequential\": [[0.0, \"#0d0887\"], [0.1111111111111111, \"#46039f\"], [0.2222222222222222, \"#7201a8\"], [0.3333333333333333, \"#9c179e\"], [0.4444444444444444, \"#bd3786\"], [0.5555555555555556, \"#d8576b\"], [0.6666666666666666, \"#ed7953\"], [0.7777777777777778, \"#fb9f3a\"], [0.8888888888888888, \"#fdca26\"], [1.0, \"#f0f921\"]], \"sequentialminus\": [[0.0, \"#0d0887\"], [0.1111111111111111, \"#46039f\"], [0.2222222222222222, \"#7201a8\"], [0.3333333333333333, \"#9c179e\"], [0.4444444444444444, \"#bd3786\"], [0.5555555555555556, \"#d8576b\"], [0.6666666666666666, \"#ed7953\"], [0.7777777777777778, \"#fb9f3a\"], [0.8888888888888888, \"#fdca26\"], [1.0, \"#f0f921\"]]}, \"colorway\": [\"#636efa\", \"#EF553B\", \"#00cc96\", \"#ab63fa\", \"#FFA15A\", \"#19d3f3\", \"#FF6692\", \"#B6E880\", \"#FF97FF\", \"#FECB52\"], \"font\": {\"color\": \"#2a3f5f\"}, \"geo\": {\"bgcolor\": \"white\", \"lakecolor\": \"white\", \"landcolor\": \"#E5ECF6\", \"showlakes\": true, \"showland\": true, \"subunitcolor\": \"white\"}, \"hoverlabel\": {\"align\": \"left\"}, \"hovermode\": \"closest\", \"mapbox\": {\"style\": \"light\"}, \"paper_bgcolor\": \"white\", \"plot_bgcolor\": \"#E5ECF6\", \"polar\": {\"angularaxis\": {\"gridcolor\": \"white\", \"linecolor\": \"white\", \"ticks\": \"\"}, \"bgcolor\": \"#E5ECF6\", \"radialaxis\": {\"gridcolor\": \"white\", \"linecolor\": \"white\", \"ticks\": \"\"}}, \"scene\": {\"xaxis\": {\"backgroundcolor\": \"#E5ECF6\", \"gridcolor\": \"white\", \"gridwidth\": 2, \"linecolor\": \"white\", \"showbackground\": true, \"ticks\": \"\", \"zerolinecolor\": \"white\"}, \"yaxis\": {\"backgroundcolor\": \"#E5ECF6\", \"gridcolor\": \"white\", \"gridwidth\": 2, \"linecolor\": \"white\", \"showbackground\": true, \"ticks\": \"\", \"zerolinecolor\": \"white\"}, \"zaxis\": {\"backgroundcolor\": \"#E5ECF6\", \"gridcolor\": \"white\", \"gridwidth\": 2, \"linecolor\": \"white\", \"showbackground\": true, \"ticks\": \"\", \"zerolinecolor\": \"white\"}}, \"shapedefaults\": {\"line\": {\"color\": \"#2a3f5f\"}}, \"ternary\": {\"aaxis\": {\"gridcolor\": \"white\", \"linecolor\": \"white\", \"ticks\": \"\"}, \"baxis\": {\"gridcolor\": \"white\", \"linecolor\": \"white\", \"ticks\": \"\"}, \"bgcolor\": \"#E5ECF6\", \"caxis\": {\"gridcolor\": \"white\", \"linecolor\": \"white\", \"ticks\": \"\"}}, \"title\": {\"x\": 0.05}, \"xaxis\": {\"automargin\": true, \"gridcolor\": \"white\", \"linecolor\": \"white\", \"ticks\": \"\", \"zerolinecolor\": \"white\", \"zerolinewidth\": 2}, \"yaxis\": {\"automargin\": true, \"gridcolor\": \"white\", \"linecolor\": \"white\", \"ticks\": \"\", \"zerolinecolor\": \"white\", \"zerolinewidth\": 2}}}},\n",
              "                        {\"responsive\": true}\n",
              "                    ).then(function(){\n",
              "                            \n",
              "var gd = document.getElementById('1e4dc77a-37f2-4780-9012-588b4ca5ead0');\n",
              "var x = new MutationObserver(function (mutations, observer) {{\n",
              "        var display = window.getComputedStyle(gd).display;\n",
              "        if (!display || display === 'none') {{\n",
              "            console.log([gd, 'removed!']);\n",
              "            Plotly.purge(gd);\n",
              "            observer.disconnect();\n",
              "        }}\n",
              "}});\n",
              "\n",
              "// Listen for the removal of the full notebook cells\n",
              "var notebookContainer = gd.closest('#notebook-container');\n",
              "if (notebookContainer) {{\n",
              "    x.observe(notebookContainer, {childList: true});\n",
              "}}\n",
              "\n",
              "// Listen for the clearing of the current output cell\n",
              "var outputEl = gd.closest('.output');\n",
              "if (outputEl) {{\n",
              "    x.observe(outputEl, {childList: true});\n",
              "}}\n",
              "\n",
              "                        })\n",
              "                };\n",
              "                \n",
              "            </script>\n",
              "        </div>\n",
              "</body>\n",
              "</html>"
            ]
          },
          "metadata": {}
        }
      ]
    },
    {
      "cell_type": "code",
      "source": [
        "agrupador = KMeans(n_clusters=3)\n",
        "agrupador.fit(dados)\n",
        "labels = agrupador.labels_\n",
        "print(labels)"
      ],
      "metadata": {
        "colab": {
          "base_uri": "https://localhost:8080/"
        },
        "id": "fN9c-adNNSjw",
        "outputId": "0fd28f63-a988-4c68-b12d-ce2343a45738"
      },
      "execution_count": null,
      "outputs": [
        {
          "output_type": "stream",
          "name": "stdout",
          "text": [
            "[2 2 2 2 2 2 2 2 2 2 2 2 2 2 2 2 2 2 2 2 2 2 2 2 2 2 2 2 2 2 2 2 2 2 2 2 2\n",
            " 2 2 2 2 2 2 2 2 2 2 2 2 2 2 2 2 2 2 2 2 2 2 1 0 0 1 1 1 1 1 1 0 1 0 1 1 2\n",
            " 1 1 1 1 1 1 1 1 1 0 1 1 1 1 1 1 1 1 1 1 1 2 1 1 1 1 1 1 1 1 1 1 1 1 1 1 1\n",
            " 1 1 1 1 1 1 1 0 1 1 1 1 1 1 1 1 1 1 1 0 0 0 0 0 0 0 0 0 0 0 0 0 0 0 0 0 0\n",
            " 0 0 0 0 0 0 0 0 0 0 0 0 0 0 0 0 0 0 0 0 0 0 0 0 0 0 0 0 0 0]\n"
          ]
        }
      ]
    },
    {
      "cell_type": "code",
      "source": [
        "fig = go.Figure()\n",
        "fig.add_trace(go.Scatter(x=dados['Intensidade_de_cor'], y = dados['Alcool'],\n",
        "                                                        mode = 'markers',                      \n",
        "                                                        marker = dict(color = agrupador.labels_.astype(np.float)),\n",
        "                                                        text = labels))\n",
        "fig.show()"
      ],
      "metadata": {
        "colab": {
          "base_uri": "https://localhost:8080/",
          "height": 649
        },
        "id": "mPTmScZQNXFW",
        "outputId": "d3d8e25f-6af8-4d72-c728-f63698553cf7"
      },
      "execution_count": null,
      "outputs": [
        {
          "output_type": "stream",
          "name": "stderr",
          "text": [
            "/usr/local/lib/python3.7/dist-packages/ipykernel_launcher.py:4: DeprecationWarning:\n",
            "\n",
            "`np.float` is a deprecated alias for the builtin `float`. To silence this warning, use `float` by itself. Doing this will not modify any behavior and is safe. If you specifically wanted the numpy scalar type, use `np.float64` here.\n",
            "Deprecated in NumPy 1.20; for more details and guidance: https://numpy.org/devdocs/release/1.20.0-notes.html#deprecations\n",
            "\n"
          ]
        },
        {
          "output_type": "display_data",
          "data": {
            "text/html": [
              "<html>\n",
              "<head><meta charset=\"utf-8\" /></head>\n",
              "<body>\n",
              "    <div>\n",
              "            <script src=\"https://cdnjs.cloudflare.com/ajax/libs/mathjax/2.7.5/MathJax.js?config=TeX-AMS-MML_SVG\"></script><script type=\"text/javascript\">if (window.MathJax) {MathJax.Hub.Config({SVG: {font: \"STIX-Web\"}});}</script>\n",
              "                <script type=\"text/javascript\">window.PlotlyConfig = {MathJaxConfig: 'local'};</script>\n",
              "        <script src=\"https://cdn.plot.ly/plotly-latest.min.js\"></script>    \n",
              "            <div id=\"0b2541d7-8194-4590-8bc8-addb83982662\" class=\"plotly-graph-div\" style=\"height:525px; width:100%;\"></div>\n",
              "            <script type=\"text/javascript\">\n",
              "                \n",
              "                    window.PLOTLYENV=window.PLOTLYENV || {};\n",
              "                    \n",
              "                if (document.getElementById(\"0b2541d7-8194-4590-8bc8-addb83982662\")) {\n",
              "                    Plotly.newPlot(\n",
              "                        '0b2541d7-8194-4590-8bc8-addb83982662',\n",
              "                        [{\"marker\": {\"color\": [2.0, 2.0, 2.0, 2.0, 2.0, 2.0, 2.0, 2.0, 2.0, 2.0, 2.0, 2.0, 2.0, 2.0, 2.0, 2.0, 2.0, 2.0, 2.0, 2.0, 2.0, 2.0, 2.0, 2.0, 2.0, 2.0, 2.0, 2.0, 2.0, 2.0, 2.0, 2.0, 2.0, 2.0, 2.0, 2.0, 2.0, 2.0, 2.0, 2.0, 2.0, 2.0, 2.0, 2.0, 2.0, 2.0, 2.0, 2.0, 2.0, 2.0, 2.0, 2.0, 2.0, 2.0, 2.0, 2.0, 2.0, 2.0, 2.0, 1.0, 0.0, 0.0, 1.0, 1.0, 1.0, 1.0, 1.0, 1.0, 0.0, 1.0, 0.0, 1.0, 1.0, 2.0, 1.0, 1.0, 1.0, 1.0, 1.0, 1.0, 1.0, 1.0, 1.0, 0.0, 1.0, 1.0, 1.0, 1.0, 1.0, 1.0, 1.0, 1.0, 1.0, 1.0, 1.0, 2.0, 1.0, 1.0, 1.0, 1.0, 1.0, 1.0, 1.0, 1.0, 1.0, 1.0, 1.0, 1.0, 1.0, 1.0, 1.0, 1.0, 1.0, 1.0, 1.0, 1.0, 1.0, 1.0, 0.0, 1.0, 1.0, 1.0, 1.0, 1.0, 1.0, 1.0, 1.0, 1.0, 1.0, 1.0, 0.0, 0.0, 0.0, 0.0, 0.0, 0.0, 0.0, 0.0, 0.0, 0.0, 0.0, 0.0, 0.0, 0.0, 0.0, 0.0, 0.0, 0.0, 0.0, 0.0, 0.0, 0.0, 0.0, 0.0, 0.0, 0.0, 0.0, 0.0, 0.0, 0.0, 0.0, 0.0, 0.0, 0.0, 0.0, 0.0, 0.0, 0.0, 0.0, 0.0, 0.0, 0.0, 0.0, 0.0, 0.0, 0.0, 0.0, 0.0]}, \"mode\": \"markers\", \"text\": [2.0, 2.0, 2.0, 2.0, 2.0, 2.0, 2.0, 2.0, 2.0, 2.0, 2.0, 2.0, 2.0, 2.0, 2.0, 2.0, 2.0, 2.0, 2.0, 2.0, 2.0, 2.0, 2.0, 2.0, 2.0, 2.0, 2.0, 2.0, 2.0, 2.0, 2.0, 2.0, 2.0, 2.0, 2.0, 2.0, 2.0, 2.0, 2.0, 2.0, 2.0, 2.0, 2.0, 2.0, 2.0, 2.0, 2.0, 2.0, 2.0, 2.0, 2.0, 2.0, 2.0, 2.0, 2.0, 2.0, 2.0, 2.0, 2.0, 1.0, 0.0, 0.0, 1.0, 1.0, 1.0, 1.0, 1.0, 1.0, 0.0, 1.0, 0.0, 1.0, 1.0, 2.0, 1.0, 1.0, 1.0, 1.0, 1.0, 1.0, 1.0, 1.0, 1.0, 0.0, 1.0, 1.0, 1.0, 1.0, 1.0, 1.0, 1.0, 1.0, 1.0, 1.0, 1.0, 2.0, 1.0, 1.0, 1.0, 1.0, 1.0, 1.0, 1.0, 1.0, 1.0, 1.0, 1.0, 1.0, 1.0, 1.0, 1.0, 1.0, 1.0, 1.0, 1.0, 1.0, 1.0, 1.0, 0.0, 1.0, 1.0, 1.0, 1.0, 1.0, 1.0, 1.0, 1.0, 1.0, 1.0, 1.0, 0.0, 0.0, 0.0, 0.0, 0.0, 0.0, 0.0, 0.0, 0.0, 0.0, 0.0, 0.0, 0.0, 0.0, 0.0, 0.0, 0.0, 0.0, 0.0, 0.0, 0.0, 0.0, 0.0, 0.0, 0.0, 0.0, 0.0, 0.0, 0.0, 0.0, 0.0, 0.0, 0.0, 0.0, 0.0, 0.0, 0.0, 0.0, 0.0, 0.0, 0.0, 0.0, 0.0, 0.0, 0.0, 0.0, 0.0, 0.0], \"type\": \"scatter\", \"x\": [0.3720136518771331, 0.26450511945392485, 0.3754266211604095, 0.5563139931740614, 0.2593856655290102, 0.4667235494880546, 0.3387372013651877, 0.3216723549488054, 0.33447098976109213, 0.5068259385665529, 0.3813993174061433, 0.31740614334470985, 0.3686006825938566, 0.3515358361774744, 0.5307167235494881, 0.5136518771331058, 0.41979522184300344, 0.4539249146757679, 0.6331058020477814, 0.325938566552901, 0.37286689419795227, 0.27474402730375425, 0.21501706484641633, 0.22610921501706485, 0.1911262798634812, 0.1962457337883959, 0.30034129692832756, 0.22781569965870305, 0.27474402730375425, 0.29180887372013653, 0.37713310580204773, 0.4795221843003413, 0.21843003412969278, 0.3515358361774744, 0.2491467576791809, 0.325938566552901, 0.2832764505119454, 0.2534129692832764, 0.20648464163822525, 0.325938566552901, 0.4138225255972696, 0.2559726962457338, 0.35409556313993173, 0.2627986348122867, 0.32081911262798635, 0.33788395904436863, 0.3088737201365188, 0.4112627986348123, 0.41979522184300344, 0.6501706484641638, 0.5051194539249146, 0.3686006825938566, 0.4923208191126279, 0.42832764505119447, 0.38993174061433444, 0.424061433447099, 0.4351535836177475, 0.40273037542662116, 0.4709897610921502, 0.057167235494880536, 0.1697952218430034, 0.3813993174061433, 0.21501706484641633, 0.2704778156996587, 0.1424914675767918, 0.2832764505119454, 0.3430034129692833, 0.2901023890784983, 0.16126279863481227, 0.13395904436860068, 0.15102389078498293, 0.17918088737201363, 0.2098976109215017, 0.1766211604095563, 0.16467576791808872, 0.21501706484641633, 0.2832764505119454, 0.11689419795221842, 0.18088737201365188, 0.1100682593856655, 0.10409556313993173, 0.22354948805460748, 0.07849829351535836, 0.30034129692832756, 0.15102389078498293, 0.1143344709897611, 0.09982935153583619, 0.11262798634812288, 0.1296928327645051, 0.03924914675767918, 0.09556313993174059, 0.1979522184300341, 0.15102389078498293, 0.07423208191126279, 0.16808873720136516, 0.11262798634812288, 0.10409556313993173, 0.13822525597269622, 0.27474402730375425, 0.08703071672354948, 0.17235494880546073, 0.09982935153583619, 0.1296928327645051, 0.06655290102389078, 0.14163822525597267, 0.12116040955631399, 0.18088737201365188, 0.17235494880546073, 0.12116040955631399, 0.11689419795221842, 0.13822525597269622, 0.06143344709897611, 0.21501706484641633, 0.15358361774744025, 0.13822525597269622, 0.052901023890784965, 0.057167235494880536, 0.06655290102389078, 0.18088737201365188, 0.0, 0.16808873720136516, 0.40273037542662116, 0.06825938566552903, 0.11262798634812288, 0.1296928327645051, 0.12627986348122863, 0.22696245733788392, 0.14675767918088736, 0.07167235494880547, 0.11262798634812288, 0.2406143344709897, 0.3515358361774744, 0.37713310580204773, 0.31740614334470985, 0.35580204778157, 0.4965870307167235, 0.21928327645051196, 0.31740614334470985, 0.37713310580204773, 0.31058020477815695, 0.2832764505119454, 0.3686006825938566, 0.26194539249146753, 0.2662116040955631, 0.5912969283276451, 0.23208191126279862, 0.3088737201365188, 0.5435153583617748, 0.6092150170648464, 0.6928327645051194, 0.6245733788395904, 0.8122866894197952, 0.4965870307167235, 0.78839590443686, 0.5392491467576791, 0.5648464163822525, 0.659556313993174, 0.5307167235494881, 0.9999999999999999, 0.893344709897611, 0.5435153583617748, 0.39249146757679176, 0.36689419795221845, 0.341296928327645, 0.7081911262798635, 0.45563139931740615, 0.8020477815699658, 0.7662116040955631, 0.6296928327645052, 0.6160409556313993, 0.36006825938566556, 0.7354947952218429, 0.7184300341296928, 0.5477815699658704, 0.5136518771331058, 0.7610921501706484, 0.6843003412969284, 0.6757679180887372], \"y\": [0.8421052631578951, 0.5710526315789473, 0.560526315789474, 0.8789473684210525, 0.5815789473684214, 0.8342105263157893, 0.8842105263157896, 0.797368421052632, 1.0, 0.7447368421052629, 0.8078947368421052, 0.8131578947368419, 0.7157894736842105, 0.9789473684210526, 0.8815789473684212, 0.6842105263157898, 0.8605263157894738, 0.736842105263158, 0.831578947368421, 0.6868421052631581, 0.797368421052632, 0.5, 0.7052631578947373, 0.47894736842105257, 0.6499999999999999, 0.5315789473684216, 0.6210526315789475, 0.5973684210526318, 0.7473684210526317, 0.7868421052631578, 0.7105263157894739, 0.6710526315789473, 0.6973684210526314, 0.7184210526315788, 0.6526315789473687, 0.6447368421052633, 0.5921052631578947, 0.5315789473684216, 0.5368421052631582, 0.8394736842105264, 0.6657894736842107, 0.6263157894736846, 0.7500000000000004, 0.5815789473684214, 0.5315789473684216, 0.836842105263158, 0.8815789473684212, 0.7552631578947371, 0.8078947368421052, 0.7657894736842104, 0.5315789473684216, 0.736842105263158, 0.7342105263157896, 0.7210526315789472, 0.7131578947368422, 0.6657894736842107, 0.8394736842105264, 0.594736842105263, 0.7078947368421056, 0.3526315789473684, 0.34210526315789513, 0.4236842105263161, 0.6947368421052631, 0.3526315789473684, 0.30000000000000027, 0.3526315789473684, 0.5473684210526315, 0.3526315789473684, 0.6078947368421055, 0.310526315789474, 0.331578947368421, 0.7447368421052629, 0.6473684210526316, 0.5157894736842108, 0.2447368421052638, 0.1657894736842107, 0.5263157894736841, 0.2131578947368422, 0.34210526315789513, 0.43947368421052646, 0.2552631578947371, 0.44473684210526354, 0.2763157894736845, 0.5315789473684216, 0.2131578947368422, 0.43157894736842106, 0.29736842105263195, 0.1631578947368424, 0.16052631578947407, 0.2763157894736845, 0.2763157894736845, 0.2552631578947371, 0.43684210526315814, 0.331578947368421, 0.155263157894737, 0.3789473684210529, 0.20526315789473726, 0.331578947368421, 0.3526315789473684, 0.331578947368421, 0.2763157894736845, 0.4131578947368424, 0.34473684210526345, 0.20789473684210558, 0.38947368421052664, 0.3657894736842109, 0.3210526315789477, 0.44473684210526354, 0.3131578947368423, 0.15263157894736867, 0.11315789473684257, 0.39210526315789496, 0.19210526315789478, 0.10000000000000053, 0.2763157894736845, 0.0, 0.20789473684210558, 0.3657894736842109, 0.45789473684210513, 0.2552631578947371, 0.1105263157894738, 0.13947368421052664, 0.3657894736842109, 0.5315789473684216, 0.2210526315789476, 0.2736842105263162, 0.3684210526315792, 0.20000000000000018, 0.3526315789473684, 0.26578947368421035, 0.4815789473684209, 0.4868421052631584, 0.4684210526315793, 0.43947368421052646, 0.38947368421052664, 0.4131578947368424, 0.3210526315789477, 0.3947368421052633, 0.6473684210526316, 0.47631578947368425, 0.5, 0.6131578947368421, 0.655263157894737, 0.6815789473684211, 0.3210526315789477, 0.560526315789474, 0.7500000000000004, 0.48421052631578965, 0.6026315789473689, 0.5394736842105265, 0.6499999999999999, 0.4631578947368422, 0.5473684210526315, 0.5789473684210531, 0.4078947368421053, 0.5631578947368423, 0.7394736842105263, 0.37368421052631584, 0.8710526315789475, 0.6447368421052633, 0.3500000000000001, 0.7000000000000002, 0.47894736842105257, 0.5078947368421058, 0.7236842105263159, 0.7105263157894739, 0.6368421052631579, 0.4710526315789476, 0.6710526315789473, 0.6236842105263158, 0.3078947368421052, 0.45789473684210513, 0.823684210526316, 0.7052631578947373, 0.6236842105263158, 0.5894736842105264, 0.5631578947368423, 0.8157894736842106]}],\n",
              "                        {\"template\": {\"data\": {\"bar\": [{\"error_x\": {\"color\": \"#2a3f5f\"}, \"error_y\": {\"color\": \"#2a3f5f\"}, \"marker\": {\"line\": {\"color\": \"#E5ECF6\", \"width\": 0.5}}, \"type\": \"bar\"}], \"barpolar\": [{\"marker\": {\"line\": {\"color\": \"#E5ECF6\", \"width\": 0.5}}, \"type\": \"barpolar\"}], \"carpet\": [{\"aaxis\": {\"endlinecolor\": \"#2a3f5f\", \"gridcolor\": \"white\", \"linecolor\": \"white\", \"minorgridcolor\": \"white\", \"startlinecolor\": \"#2a3f5f\"}, \"baxis\": {\"endlinecolor\": \"#2a3f5f\", \"gridcolor\": \"white\", \"linecolor\": \"white\", \"minorgridcolor\": \"white\", \"startlinecolor\": \"#2a3f5f\"}, \"type\": \"carpet\"}], \"choropleth\": [{\"colorbar\": {\"outlinewidth\": 0, \"ticks\": \"\"}, \"type\": \"choropleth\"}], \"contour\": [{\"colorbar\": {\"outlinewidth\": 0, \"ticks\": \"\"}, \"colorscale\": [[0.0, \"#0d0887\"], [0.1111111111111111, \"#46039f\"], [0.2222222222222222, \"#7201a8\"], [0.3333333333333333, \"#9c179e\"], [0.4444444444444444, \"#bd3786\"], [0.5555555555555556, \"#d8576b\"], [0.6666666666666666, \"#ed7953\"], [0.7777777777777778, \"#fb9f3a\"], [0.8888888888888888, \"#fdca26\"], [1.0, \"#f0f921\"]], \"type\": \"contour\"}], \"contourcarpet\": [{\"colorbar\": {\"outlinewidth\": 0, \"ticks\": \"\"}, \"type\": \"contourcarpet\"}], \"heatmap\": [{\"colorbar\": {\"outlinewidth\": 0, \"ticks\": \"\"}, \"colorscale\": [[0.0, \"#0d0887\"], [0.1111111111111111, \"#46039f\"], [0.2222222222222222, \"#7201a8\"], [0.3333333333333333, \"#9c179e\"], [0.4444444444444444, \"#bd3786\"], [0.5555555555555556, \"#d8576b\"], [0.6666666666666666, \"#ed7953\"], [0.7777777777777778, \"#fb9f3a\"], [0.8888888888888888, \"#fdca26\"], [1.0, \"#f0f921\"]], \"type\": \"heatmap\"}], \"heatmapgl\": [{\"colorbar\": {\"outlinewidth\": 0, \"ticks\": \"\"}, \"colorscale\": [[0.0, \"#0d0887\"], [0.1111111111111111, \"#46039f\"], [0.2222222222222222, \"#7201a8\"], [0.3333333333333333, \"#9c179e\"], [0.4444444444444444, \"#bd3786\"], [0.5555555555555556, \"#d8576b\"], [0.6666666666666666, \"#ed7953\"], [0.7777777777777778, \"#fb9f3a\"], [0.8888888888888888, \"#fdca26\"], [1.0, \"#f0f921\"]], \"type\": \"heatmapgl\"}], \"histogram\": [{\"marker\": {\"colorbar\": {\"outlinewidth\": 0, \"ticks\": \"\"}}, \"type\": \"histogram\"}], \"histogram2d\": [{\"colorbar\": {\"outlinewidth\": 0, \"ticks\": \"\"}, \"colorscale\": [[0.0, \"#0d0887\"], [0.1111111111111111, \"#46039f\"], [0.2222222222222222, \"#7201a8\"], [0.3333333333333333, \"#9c179e\"], [0.4444444444444444, \"#bd3786\"], [0.5555555555555556, \"#d8576b\"], [0.6666666666666666, \"#ed7953\"], [0.7777777777777778, \"#fb9f3a\"], [0.8888888888888888, \"#fdca26\"], [1.0, \"#f0f921\"]], \"type\": \"histogram2d\"}], \"histogram2dcontour\": [{\"colorbar\": {\"outlinewidth\": 0, \"ticks\": \"\"}, \"colorscale\": [[0.0, \"#0d0887\"], [0.1111111111111111, \"#46039f\"], [0.2222222222222222, \"#7201a8\"], [0.3333333333333333, \"#9c179e\"], [0.4444444444444444, \"#bd3786\"], [0.5555555555555556, \"#d8576b\"], [0.6666666666666666, \"#ed7953\"], [0.7777777777777778, \"#fb9f3a\"], [0.8888888888888888, \"#fdca26\"], [1.0, \"#f0f921\"]], \"type\": \"histogram2dcontour\"}], \"mesh3d\": [{\"colorbar\": {\"outlinewidth\": 0, \"ticks\": \"\"}, \"type\": \"mesh3d\"}], \"parcoords\": [{\"line\": {\"colorbar\": {\"outlinewidth\": 0, \"ticks\": \"\"}}, \"type\": \"parcoords\"}], \"scatter\": [{\"marker\": {\"colorbar\": {\"outlinewidth\": 0, \"ticks\": \"\"}}, \"type\": \"scatter\"}], \"scatter3d\": [{\"line\": {\"colorbar\": {\"outlinewidth\": 0, \"ticks\": \"\"}}, \"marker\": {\"colorbar\": {\"outlinewidth\": 0, \"ticks\": \"\"}}, \"type\": \"scatter3d\"}], \"scattercarpet\": [{\"marker\": {\"colorbar\": {\"outlinewidth\": 0, \"ticks\": \"\"}}, \"type\": \"scattercarpet\"}], \"scattergeo\": [{\"marker\": {\"colorbar\": {\"outlinewidth\": 0, \"ticks\": \"\"}}, \"type\": \"scattergeo\"}], \"scattergl\": [{\"marker\": {\"colorbar\": {\"outlinewidth\": 0, \"ticks\": \"\"}}, \"type\": \"scattergl\"}], \"scattermapbox\": [{\"marker\": {\"colorbar\": {\"outlinewidth\": 0, \"ticks\": \"\"}}, \"type\": \"scattermapbox\"}], \"scatterpolar\": [{\"marker\": {\"colorbar\": {\"outlinewidth\": 0, \"ticks\": \"\"}}, \"type\": \"scatterpolar\"}], \"scatterpolargl\": [{\"marker\": {\"colorbar\": {\"outlinewidth\": 0, \"ticks\": \"\"}}, \"type\": \"scatterpolargl\"}], \"scatterternary\": [{\"marker\": {\"colorbar\": {\"outlinewidth\": 0, \"ticks\": \"\"}}, \"type\": \"scatterternary\"}], \"surface\": [{\"colorbar\": {\"outlinewidth\": 0, \"ticks\": \"\"}, \"colorscale\": [[0.0, \"#0d0887\"], [0.1111111111111111, \"#46039f\"], [0.2222222222222222, \"#7201a8\"], [0.3333333333333333, \"#9c179e\"], [0.4444444444444444, \"#bd3786\"], [0.5555555555555556, \"#d8576b\"], [0.6666666666666666, \"#ed7953\"], [0.7777777777777778, \"#fb9f3a\"], [0.8888888888888888, \"#fdca26\"], [1.0, \"#f0f921\"]], \"type\": \"surface\"}], \"table\": [{\"cells\": {\"fill\": {\"color\": \"#EBF0F8\"}, \"line\": {\"color\": \"white\"}}, \"header\": {\"fill\": {\"color\": \"#C8D4E3\"}, \"line\": {\"color\": \"white\"}}, \"type\": \"table\"}]}, \"layout\": {\"annotationdefaults\": {\"arrowcolor\": \"#2a3f5f\", \"arrowhead\": 0, \"arrowwidth\": 1}, \"colorscale\": {\"diverging\": [[0, \"#8e0152\"], [0.1, \"#c51b7d\"], [0.2, \"#de77ae\"], [0.3, \"#f1b6da\"], [0.4, \"#fde0ef\"], [0.5, \"#f7f7f7\"], [0.6, \"#e6f5d0\"], [0.7, \"#b8e186\"], [0.8, \"#7fbc41\"], [0.9, \"#4d9221\"], [1, \"#276419\"]], \"sequential\": [[0.0, \"#0d0887\"], [0.1111111111111111, \"#46039f\"], [0.2222222222222222, \"#7201a8\"], [0.3333333333333333, \"#9c179e\"], [0.4444444444444444, \"#bd3786\"], [0.5555555555555556, \"#d8576b\"], [0.6666666666666666, \"#ed7953\"], [0.7777777777777778, \"#fb9f3a\"], [0.8888888888888888, \"#fdca26\"], [1.0, \"#f0f921\"]], \"sequentialminus\": [[0.0, \"#0d0887\"], [0.1111111111111111, \"#46039f\"], [0.2222222222222222, \"#7201a8\"], [0.3333333333333333, \"#9c179e\"], [0.4444444444444444, \"#bd3786\"], [0.5555555555555556, \"#d8576b\"], [0.6666666666666666, \"#ed7953\"], [0.7777777777777778, \"#fb9f3a\"], [0.8888888888888888, \"#fdca26\"], [1.0, \"#f0f921\"]]}, \"colorway\": [\"#636efa\", \"#EF553B\", \"#00cc96\", \"#ab63fa\", \"#FFA15A\", \"#19d3f3\", \"#FF6692\", \"#B6E880\", \"#FF97FF\", \"#FECB52\"], \"font\": {\"color\": \"#2a3f5f\"}, \"geo\": {\"bgcolor\": \"white\", \"lakecolor\": \"white\", \"landcolor\": \"#E5ECF6\", \"showlakes\": true, \"showland\": true, \"subunitcolor\": \"white\"}, \"hoverlabel\": {\"align\": \"left\"}, \"hovermode\": \"closest\", \"mapbox\": {\"style\": \"light\"}, \"paper_bgcolor\": \"white\", \"plot_bgcolor\": \"#E5ECF6\", \"polar\": {\"angularaxis\": {\"gridcolor\": \"white\", \"linecolor\": \"white\", \"ticks\": \"\"}, \"bgcolor\": \"#E5ECF6\", \"radialaxis\": {\"gridcolor\": \"white\", \"linecolor\": \"white\", \"ticks\": \"\"}}, \"scene\": {\"xaxis\": {\"backgroundcolor\": \"#E5ECF6\", \"gridcolor\": \"white\", \"gridwidth\": 2, \"linecolor\": \"white\", \"showbackground\": true, \"ticks\": \"\", \"zerolinecolor\": \"white\"}, \"yaxis\": {\"backgroundcolor\": \"#E5ECF6\", \"gridcolor\": \"white\", \"gridwidth\": 2, \"linecolor\": \"white\", \"showbackground\": true, \"ticks\": \"\", \"zerolinecolor\": \"white\"}, \"zaxis\": {\"backgroundcolor\": \"#E5ECF6\", \"gridcolor\": \"white\", \"gridwidth\": 2, \"linecolor\": \"white\", \"showbackground\": true, \"ticks\": \"\", \"zerolinecolor\": \"white\"}}, \"shapedefaults\": {\"line\": {\"color\": \"#2a3f5f\"}}, \"ternary\": {\"aaxis\": {\"gridcolor\": \"white\", \"linecolor\": \"white\", \"ticks\": \"\"}, \"baxis\": {\"gridcolor\": \"white\", \"linecolor\": \"white\", \"ticks\": \"\"}, \"bgcolor\": \"#E5ECF6\", \"caxis\": {\"gridcolor\": \"white\", \"linecolor\": \"white\", \"ticks\": \"\"}}, \"title\": {\"x\": 0.05}, \"xaxis\": {\"automargin\": true, \"gridcolor\": \"white\", \"linecolor\": \"white\", \"ticks\": \"\", \"zerolinecolor\": \"white\", \"zerolinewidth\": 2}, \"yaxis\": {\"automargin\": true, \"gridcolor\": \"white\", \"linecolor\": \"white\", \"ticks\": \"\", \"zerolinecolor\": \"white\", \"zerolinewidth\": 2}}}},\n",
              "                        {\"responsive\": true}\n",
              "                    ).then(function(){\n",
              "                            \n",
              "var gd = document.getElementById('0b2541d7-8194-4590-8bc8-addb83982662');\n",
              "var x = new MutationObserver(function (mutations, observer) {{\n",
              "        var display = window.getComputedStyle(gd).display;\n",
              "        if (!display || display === 'none') {{\n",
              "            console.log([gd, 'removed!']);\n",
              "            Plotly.purge(gd);\n",
              "            observer.disconnect();\n",
              "        }}\n",
              "}});\n",
              "\n",
              "// Listen for the removal of the full notebook cells\n",
              "var notebookContainer = gd.closest('#notebook-container');\n",
              "if (notebookContainer) {{\n",
              "    x.observe(notebookContainer, {childList: true});\n",
              "}}\n",
              "\n",
              "// Listen for the clearing of the current output cell\n",
              "var outputEl = gd.closest('.output');\n",
              "if (outputEl) {{\n",
              "    x.observe(outputEl, {childList: true});\n",
              "}}\n",
              "\n",
              "                        })\n",
              "                };\n",
              "                \n",
              "            </script>\n",
              "        </div>\n",
              "</body>\n",
              "</html>"
            ]
          },
          "metadata": {}
        }
      ]
    },
    {
      "cell_type": "code",
      "source": [
        "fig = go.Figure()\n",
        "fig.add_trace(go.Scatter3d(x = dados['Intensidade_de_cor'],\n",
        "                           y = dados['Alcool'],\n",
        "                           z = dados['Proline'],\n",
        "                           mode = 'markers',\n",
        "                           marker = dict(color = labels.astype(np.float)),\n",
        "                           text = labels))\n",
        "fig.show()"
      ],
      "metadata": {
        "colab": {
          "base_uri": "https://localhost:8080/",
          "height": 649
        },
        "id": "WgU0XYqXN4co",
        "outputId": "8c7d4551-549b-4033-8916-28a7a16cd2e8"
      },
      "execution_count": null,
      "outputs": [
        {
          "output_type": "stream",
          "name": "stderr",
          "text": [
            "/usr/local/lib/python3.7/dist-packages/ipykernel_launcher.py:6: DeprecationWarning:\n",
            "\n",
            "`np.float` is a deprecated alias for the builtin `float`. To silence this warning, use `float` by itself. Doing this will not modify any behavior and is safe. If you specifically wanted the numpy scalar type, use `np.float64` here.\n",
            "Deprecated in NumPy 1.20; for more details and guidance: https://numpy.org/devdocs/release/1.20.0-notes.html#deprecations\n",
            "\n"
          ]
        },
        {
          "output_type": "display_data",
          "data": {
            "text/html": [
              "<html>\n",
              "<head><meta charset=\"utf-8\" /></head>\n",
              "<body>\n",
              "    <div>\n",
              "            <script src=\"https://cdnjs.cloudflare.com/ajax/libs/mathjax/2.7.5/MathJax.js?config=TeX-AMS-MML_SVG\"></script><script type=\"text/javascript\">if (window.MathJax) {MathJax.Hub.Config({SVG: {font: \"STIX-Web\"}});}</script>\n",
              "                <script type=\"text/javascript\">window.PlotlyConfig = {MathJaxConfig: 'local'};</script>\n",
              "        <script src=\"https://cdn.plot.ly/plotly-latest.min.js\"></script>    \n",
              "            <div id=\"0a9d6ec1-5232-4910-849f-e03530a55d59\" class=\"plotly-graph-div\" style=\"height:525px; width:100%;\"></div>\n",
              "            <script type=\"text/javascript\">\n",
              "                \n",
              "                    window.PLOTLYENV=window.PLOTLYENV || {};\n",
              "                    \n",
              "                if (document.getElementById(\"0a9d6ec1-5232-4910-849f-e03530a55d59\")) {\n",
              "                    Plotly.newPlot(\n",
              "                        '0a9d6ec1-5232-4910-849f-e03530a55d59',\n",
              "                        [{\"marker\": {\"color\": [2.0, 2.0, 2.0, 2.0, 2.0, 2.0, 2.0, 2.0, 2.0, 2.0, 2.0, 2.0, 2.0, 2.0, 2.0, 2.0, 2.0, 2.0, 2.0, 2.0, 2.0, 2.0, 2.0, 2.0, 2.0, 2.0, 2.0, 2.0, 2.0, 2.0, 2.0, 2.0, 2.0, 2.0, 2.0, 2.0, 2.0, 2.0, 2.0, 2.0, 2.0, 2.0, 2.0, 2.0, 2.0, 2.0, 2.0, 2.0, 2.0, 2.0, 2.0, 2.0, 2.0, 2.0, 2.0, 2.0, 2.0, 2.0, 2.0, 1.0, 0.0, 0.0, 1.0, 1.0, 1.0, 1.0, 1.0, 1.0, 0.0, 1.0, 0.0, 1.0, 1.0, 2.0, 1.0, 1.0, 1.0, 1.0, 1.0, 1.0, 1.0, 1.0, 1.0, 0.0, 1.0, 1.0, 1.0, 1.0, 1.0, 1.0, 1.0, 1.0, 1.0, 1.0, 1.0, 2.0, 1.0, 1.0, 1.0, 1.0, 1.0, 1.0, 1.0, 1.0, 1.0, 1.0, 1.0, 1.0, 1.0, 1.0, 1.0, 1.0, 1.0, 1.0, 1.0, 1.0, 1.0, 1.0, 0.0, 1.0, 1.0, 1.0, 1.0, 1.0, 1.0, 1.0, 1.0, 1.0, 1.0, 1.0, 0.0, 0.0, 0.0, 0.0, 0.0, 0.0, 0.0, 0.0, 0.0, 0.0, 0.0, 0.0, 0.0, 0.0, 0.0, 0.0, 0.0, 0.0, 0.0, 0.0, 0.0, 0.0, 0.0, 0.0, 0.0, 0.0, 0.0, 0.0, 0.0, 0.0, 0.0, 0.0, 0.0, 0.0, 0.0, 0.0, 0.0, 0.0, 0.0, 0.0, 0.0, 0.0, 0.0, 0.0, 0.0, 0.0, 0.0, 0.0]}, \"mode\": \"markers\", \"text\": [2.0, 2.0, 2.0, 2.0, 2.0, 2.0, 2.0, 2.0, 2.0, 2.0, 2.0, 2.0, 2.0, 2.0, 2.0, 2.0, 2.0, 2.0, 2.0, 2.0, 2.0, 2.0, 2.0, 2.0, 2.0, 2.0, 2.0, 2.0, 2.0, 2.0, 2.0, 2.0, 2.0, 2.0, 2.0, 2.0, 2.0, 2.0, 2.0, 2.0, 2.0, 2.0, 2.0, 2.0, 2.0, 2.0, 2.0, 2.0, 2.0, 2.0, 2.0, 2.0, 2.0, 2.0, 2.0, 2.0, 2.0, 2.0, 2.0, 1.0, 0.0, 0.0, 1.0, 1.0, 1.0, 1.0, 1.0, 1.0, 0.0, 1.0, 0.0, 1.0, 1.0, 2.0, 1.0, 1.0, 1.0, 1.0, 1.0, 1.0, 1.0, 1.0, 1.0, 0.0, 1.0, 1.0, 1.0, 1.0, 1.0, 1.0, 1.0, 1.0, 1.0, 1.0, 1.0, 2.0, 1.0, 1.0, 1.0, 1.0, 1.0, 1.0, 1.0, 1.0, 1.0, 1.0, 1.0, 1.0, 1.0, 1.0, 1.0, 1.0, 1.0, 1.0, 1.0, 1.0, 1.0, 1.0, 0.0, 1.0, 1.0, 1.0, 1.0, 1.0, 1.0, 1.0, 1.0, 1.0, 1.0, 1.0, 0.0, 0.0, 0.0, 0.0, 0.0, 0.0, 0.0, 0.0, 0.0, 0.0, 0.0, 0.0, 0.0, 0.0, 0.0, 0.0, 0.0, 0.0, 0.0, 0.0, 0.0, 0.0, 0.0, 0.0, 0.0, 0.0, 0.0, 0.0, 0.0, 0.0, 0.0, 0.0, 0.0, 0.0, 0.0, 0.0, 0.0, 0.0, 0.0, 0.0, 0.0, 0.0, 0.0, 0.0, 0.0, 0.0, 0.0, 0.0], \"type\": \"scatter3d\", \"x\": [0.3720136518771331, 0.26450511945392485, 0.3754266211604095, 0.5563139931740614, 0.2593856655290102, 0.4667235494880546, 0.3387372013651877, 0.3216723549488054, 0.33447098976109213, 0.5068259385665529, 0.3813993174061433, 0.31740614334470985, 0.3686006825938566, 0.3515358361774744, 0.5307167235494881, 0.5136518771331058, 0.41979522184300344, 0.4539249146757679, 0.6331058020477814, 0.325938566552901, 0.37286689419795227, 0.27474402730375425, 0.21501706484641633, 0.22610921501706485, 0.1911262798634812, 0.1962457337883959, 0.30034129692832756, 0.22781569965870305, 0.27474402730375425, 0.29180887372013653, 0.37713310580204773, 0.4795221843003413, 0.21843003412969278, 0.3515358361774744, 0.2491467576791809, 0.325938566552901, 0.2832764505119454, 0.2534129692832764, 0.20648464163822525, 0.325938566552901, 0.4138225255972696, 0.2559726962457338, 0.35409556313993173, 0.2627986348122867, 0.32081911262798635, 0.33788395904436863, 0.3088737201365188, 0.4112627986348123, 0.41979522184300344, 0.6501706484641638, 0.5051194539249146, 0.3686006825938566, 0.4923208191126279, 0.42832764505119447, 0.38993174061433444, 0.424061433447099, 0.4351535836177475, 0.40273037542662116, 0.4709897610921502, 0.057167235494880536, 0.1697952218430034, 0.3813993174061433, 0.21501706484641633, 0.2704778156996587, 0.1424914675767918, 0.2832764505119454, 0.3430034129692833, 0.2901023890784983, 0.16126279863481227, 0.13395904436860068, 0.15102389078498293, 0.17918088737201363, 0.2098976109215017, 0.1766211604095563, 0.16467576791808872, 0.21501706484641633, 0.2832764505119454, 0.11689419795221842, 0.18088737201365188, 0.1100682593856655, 0.10409556313993173, 0.22354948805460748, 0.07849829351535836, 0.30034129692832756, 0.15102389078498293, 0.1143344709897611, 0.09982935153583619, 0.11262798634812288, 0.1296928327645051, 0.03924914675767918, 0.09556313993174059, 0.1979522184300341, 0.15102389078498293, 0.07423208191126279, 0.16808873720136516, 0.11262798634812288, 0.10409556313993173, 0.13822525597269622, 0.27474402730375425, 0.08703071672354948, 0.17235494880546073, 0.09982935153583619, 0.1296928327645051, 0.06655290102389078, 0.14163822525597267, 0.12116040955631399, 0.18088737201365188, 0.17235494880546073, 0.12116040955631399, 0.11689419795221842, 0.13822525597269622, 0.06143344709897611, 0.21501706484641633, 0.15358361774744025, 0.13822525597269622, 0.052901023890784965, 0.057167235494880536, 0.06655290102389078, 0.18088737201365188, 0.0, 0.16808873720136516, 0.40273037542662116, 0.06825938566552903, 0.11262798634812288, 0.1296928327645051, 0.12627986348122863, 0.22696245733788392, 0.14675767918088736, 0.07167235494880547, 0.11262798634812288, 0.2406143344709897, 0.3515358361774744, 0.37713310580204773, 0.31740614334470985, 0.35580204778157, 0.4965870307167235, 0.21928327645051196, 0.31740614334470985, 0.37713310580204773, 0.31058020477815695, 0.2832764505119454, 0.3686006825938566, 0.26194539249146753, 0.2662116040955631, 0.5912969283276451, 0.23208191126279862, 0.3088737201365188, 0.5435153583617748, 0.6092150170648464, 0.6928327645051194, 0.6245733788395904, 0.8122866894197952, 0.4965870307167235, 0.78839590443686, 0.5392491467576791, 0.5648464163822525, 0.659556313993174, 0.5307167235494881, 0.9999999999999999, 0.893344709897611, 0.5435153583617748, 0.39249146757679176, 0.36689419795221845, 0.341296928327645, 0.7081911262798635, 0.45563139931740615, 0.8020477815699658, 0.7662116040955631, 0.6296928327645052, 0.6160409556313993, 0.36006825938566556, 0.7354947952218429, 0.7184300341296928, 0.5477815699658704, 0.5136518771331058, 0.7610921501706484, 0.6843003412969284, 0.6757679180887372], \"y\": [0.8421052631578951, 0.5710526315789473, 0.560526315789474, 0.8789473684210525, 0.5815789473684214, 0.8342105263157893, 0.8842105263157896, 0.797368421052632, 1.0, 0.7447368421052629, 0.8078947368421052, 0.8131578947368419, 0.7157894736842105, 0.9789473684210526, 0.8815789473684212, 0.6842105263157898, 0.8605263157894738, 0.736842105263158, 0.831578947368421, 0.6868421052631581, 0.797368421052632, 0.5, 0.7052631578947373, 0.47894736842105257, 0.6499999999999999, 0.5315789473684216, 0.6210526315789475, 0.5973684210526318, 0.7473684210526317, 0.7868421052631578, 0.7105263157894739, 0.6710526315789473, 0.6973684210526314, 0.7184210526315788, 0.6526315789473687, 0.6447368421052633, 0.5921052631578947, 0.5315789473684216, 0.5368421052631582, 0.8394736842105264, 0.6657894736842107, 0.6263157894736846, 0.7500000000000004, 0.5815789473684214, 0.5315789473684216, 0.836842105263158, 0.8815789473684212, 0.7552631578947371, 0.8078947368421052, 0.7657894736842104, 0.5315789473684216, 0.736842105263158, 0.7342105263157896, 0.7210526315789472, 0.7131578947368422, 0.6657894736842107, 0.8394736842105264, 0.594736842105263, 0.7078947368421056, 0.3526315789473684, 0.34210526315789513, 0.4236842105263161, 0.6947368421052631, 0.3526315789473684, 0.30000000000000027, 0.3526315789473684, 0.5473684210526315, 0.3526315789473684, 0.6078947368421055, 0.310526315789474, 0.331578947368421, 0.7447368421052629, 0.6473684210526316, 0.5157894736842108, 0.2447368421052638, 0.1657894736842107, 0.5263157894736841, 0.2131578947368422, 0.34210526315789513, 0.43947368421052646, 0.2552631578947371, 0.44473684210526354, 0.2763157894736845, 0.5315789473684216, 0.2131578947368422, 0.43157894736842106, 0.29736842105263195, 0.1631578947368424, 0.16052631578947407, 0.2763157894736845, 0.2763157894736845, 0.2552631578947371, 0.43684210526315814, 0.331578947368421, 0.155263157894737, 0.3789473684210529, 0.20526315789473726, 0.331578947368421, 0.3526315789473684, 0.331578947368421, 0.2763157894736845, 0.4131578947368424, 0.34473684210526345, 0.20789473684210558, 0.38947368421052664, 0.3657894736842109, 0.3210526315789477, 0.44473684210526354, 0.3131578947368423, 0.15263157894736867, 0.11315789473684257, 0.39210526315789496, 0.19210526315789478, 0.10000000000000053, 0.2763157894736845, 0.0, 0.20789473684210558, 0.3657894736842109, 0.45789473684210513, 0.2552631578947371, 0.1105263157894738, 0.13947368421052664, 0.3657894736842109, 0.5315789473684216, 0.2210526315789476, 0.2736842105263162, 0.3684210526315792, 0.20000000000000018, 0.3526315789473684, 0.26578947368421035, 0.4815789473684209, 0.4868421052631584, 0.4684210526315793, 0.43947368421052646, 0.38947368421052664, 0.4131578947368424, 0.3210526315789477, 0.3947368421052633, 0.6473684210526316, 0.47631578947368425, 0.5, 0.6131578947368421, 0.655263157894737, 0.6815789473684211, 0.3210526315789477, 0.560526315789474, 0.7500000000000004, 0.48421052631578965, 0.6026315789473689, 0.5394736842105265, 0.6499999999999999, 0.4631578947368422, 0.5473684210526315, 0.5789473684210531, 0.4078947368421053, 0.5631578947368423, 0.7394736842105263, 0.37368421052631584, 0.8710526315789475, 0.6447368421052633, 0.3500000000000001, 0.7000000000000002, 0.47894736842105257, 0.5078947368421058, 0.7236842105263159, 0.7105263157894739, 0.6368421052631579, 0.4710526315789476, 0.6710526315789473, 0.6236842105263158, 0.3078947368421052, 0.45789473684210513, 0.823684210526316, 0.7052631578947373, 0.6236842105263158, 0.5894736842105264, 0.5631578947368423, 0.8157894736842106], \"z\": [0.5613409415121255, 0.5506419400855921, 0.6469329529243938, 0.8573466476462198, 0.3259629101283881, 0.8359486447931527, 0.7218259629101285, 0.725392296718973, 0.5470756062767476, 0.5470756062767476, 0.8787446504992867, 0.7146932952924394, 0.7432239657631955, 0.6219686162624822, 0.9051355206847361, 0.7360912981455064, 0.7146932952924394, 0.6077032810271041, 1.0, 0.40442225392296727, 0.35805991440798857, 0.35092724679029963, 0.5399429386590585, 0.5256776034236805, 0.40442225392296727, 0.3937232524964337, 0.6540656205420827, 0.7182596291012839, 0.4543509272467904, 0.5399429386590585, 0.7182596291012839, 0.8823109843081313, 0.5078459343794579, 0.6825962910128388, 0.5827389443651926, 0.4579172610556348, 0.4293865905848788, 0.5898716119828816, 0.529243937232525, 0.3437945791726106, 0.36875891583452214, 0.5399429386590585, 0.5827389443651926, 0.2867332382310984, 0.43295292439372324, 0.5720399429386591, 0.5613409415121255, 0.5042796005706135, 0.557774607703281, 0.7004279600570614, 0.6219686162624822, 0.7039942938659058, 0.6504992867332383, 0.782453637660485, 0.557774607703281, 0.6005706134094152, 0.4935805991440799, 0.7075606276747504, 0.7182596291012839, 0.17261055634807418, 0.2867332382310984, 0.12268188302425106, 0.2510699001426534, 0.10128388017118403, 0.054921540656205386, 0.2853067047075606, 0.15977175463623397, 0.1654778887303852, 0.33666191155492153, 0.31383737517831667, 0.4222539229671898, 0.09415121255349498, 0.13837375178316688, 0.5042796005706135, 0.4336661911554922, 0.10699001426533525, 0.08131241084165478, 0.15834522111269614, 0.33666191155492153, 0.1319543509272468, 0.0, 0.3109843081312411, 0.2510699001426534, 0.16904422253922965, 0.17261055634807418, 0.12268188302425106, 0.15477888730385161, 0.20256776034236804, 0.2867332382310984, 0.24750356633380885, 0.1440798858773181, 0.12268188302425106, 0.15477888730385161, 0.008559201141226797, 0.047788873038516394, 0.4700427960057062, 0.24750356633380885, 0.10699001426533525, 0.27246790299572043, 0.09129814550641938, 0.30813124108416545, 0.20256776034236804, 0.11412268188302424, 0.09771754636233951, 0.2810271041369472, 0.02639087018544936, 0.1654778887303852, 0.14978601997146931, 0.02425106990014264, 0.2867332382310984, 0.20256776034236804, 0.033523537803138354, 0.23466476462196864, 0.11126961483594863, 0.07631954350927247, 0.09201141226818829, 0.15477888730385161, 0.047788873038516394, 0.06704707560627673, 0.20399429386590587, 0.24750356633380885, 0.13338088445078458, 0.062054208273894434, 0.07275320970042795, 0.07275320970042795, 0.07132667617689017, 0.052781740370898694, 0.1340941512125535, 0.0456490727532097, 0.21540656205420824, 0.2510699001426534, 0.17974322396576317, 0.20114122681883026, 0.22967189728958629, 0.2653352353780314, 0.297432239657632, 0.3152639087018545, 0.16904422253922965, 0.21540656205420824, 0.2225392296718973, 0.22967189728958629, 0.35805991440798857, 0.17261055634807418, 0.1940085592011412, 0.4115549215406562, 0.3937232524964337, 0.09771754636233951, 0.24750356633380885, 0.2653352353780314, 0.1940085592011412, 0.15834522111269614, 0.1440798858773181, 0.1048502139800285, 0.2831669044222539, 0.25820256776034234, 0.318830242510699, 0.1440798858773181, 0.4293865905848788, 0.27246790299572043, 0.24393723252496433, 0.17261055634807418, 0.2867332382310984, 0.20827389443651925, 0.2831669044222539, 0.2403708987161198, 0.17261055634807418, 0.297432239657632, 0.29029957203994294, 0.33666191155492153, 0.2510699001426534, 0.1654778887303852, 0.1369472182596291, 0.27246790299572043, 0.3295292439372326, 0.33666191155492153, 0.3972895863052782, 0.40085592011412274, 0.20114122681883026]}],\n",
              "                        {\"template\": {\"data\": {\"bar\": [{\"error_x\": {\"color\": \"#2a3f5f\"}, \"error_y\": {\"color\": \"#2a3f5f\"}, \"marker\": {\"line\": {\"color\": \"#E5ECF6\", \"width\": 0.5}}, \"type\": \"bar\"}], \"barpolar\": [{\"marker\": {\"line\": {\"color\": \"#E5ECF6\", \"width\": 0.5}}, \"type\": \"barpolar\"}], \"carpet\": [{\"aaxis\": {\"endlinecolor\": \"#2a3f5f\", \"gridcolor\": \"white\", \"linecolor\": \"white\", \"minorgridcolor\": \"white\", \"startlinecolor\": \"#2a3f5f\"}, \"baxis\": {\"endlinecolor\": \"#2a3f5f\", \"gridcolor\": \"white\", \"linecolor\": \"white\", \"minorgridcolor\": \"white\", \"startlinecolor\": \"#2a3f5f\"}, \"type\": \"carpet\"}], \"choropleth\": [{\"colorbar\": {\"outlinewidth\": 0, \"ticks\": \"\"}, \"type\": \"choropleth\"}], \"contour\": [{\"colorbar\": {\"outlinewidth\": 0, \"ticks\": \"\"}, \"colorscale\": [[0.0, \"#0d0887\"], [0.1111111111111111, \"#46039f\"], [0.2222222222222222, \"#7201a8\"], [0.3333333333333333, \"#9c179e\"], [0.4444444444444444, \"#bd3786\"], [0.5555555555555556, \"#d8576b\"], [0.6666666666666666, \"#ed7953\"], [0.7777777777777778, \"#fb9f3a\"], [0.8888888888888888, \"#fdca26\"], [1.0, \"#f0f921\"]], \"type\": \"contour\"}], \"contourcarpet\": [{\"colorbar\": {\"outlinewidth\": 0, \"ticks\": \"\"}, \"type\": \"contourcarpet\"}], \"heatmap\": [{\"colorbar\": {\"outlinewidth\": 0, \"ticks\": \"\"}, \"colorscale\": [[0.0, \"#0d0887\"], [0.1111111111111111, \"#46039f\"], [0.2222222222222222, \"#7201a8\"], [0.3333333333333333, \"#9c179e\"], [0.4444444444444444, \"#bd3786\"], [0.5555555555555556, \"#d8576b\"], [0.6666666666666666, \"#ed7953\"], [0.7777777777777778, \"#fb9f3a\"], [0.8888888888888888, \"#fdca26\"], [1.0, \"#f0f921\"]], \"type\": \"heatmap\"}], \"heatmapgl\": [{\"colorbar\": {\"outlinewidth\": 0, \"ticks\": \"\"}, \"colorscale\": [[0.0, \"#0d0887\"], [0.1111111111111111, \"#46039f\"], [0.2222222222222222, \"#7201a8\"], [0.3333333333333333, \"#9c179e\"], [0.4444444444444444, \"#bd3786\"], [0.5555555555555556, \"#d8576b\"], [0.6666666666666666, \"#ed7953\"], [0.7777777777777778, \"#fb9f3a\"], [0.8888888888888888, \"#fdca26\"], [1.0, \"#f0f921\"]], \"type\": \"heatmapgl\"}], \"histogram\": [{\"marker\": {\"colorbar\": {\"outlinewidth\": 0, \"ticks\": \"\"}}, \"type\": \"histogram\"}], \"histogram2d\": [{\"colorbar\": {\"outlinewidth\": 0, \"ticks\": \"\"}, \"colorscale\": [[0.0, \"#0d0887\"], [0.1111111111111111, \"#46039f\"], [0.2222222222222222, \"#7201a8\"], [0.3333333333333333, \"#9c179e\"], [0.4444444444444444, \"#bd3786\"], [0.5555555555555556, \"#d8576b\"], [0.6666666666666666, \"#ed7953\"], [0.7777777777777778, \"#fb9f3a\"], [0.8888888888888888, \"#fdca26\"], [1.0, \"#f0f921\"]], \"type\": \"histogram2d\"}], \"histogram2dcontour\": [{\"colorbar\": {\"outlinewidth\": 0, \"ticks\": \"\"}, \"colorscale\": [[0.0, \"#0d0887\"], [0.1111111111111111, \"#46039f\"], [0.2222222222222222, \"#7201a8\"], [0.3333333333333333, \"#9c179e\"], [0.4444444444444444, \"#bd3786\"], [0.5555555555555556, \"#d8576b\"], [0.6666666666666666, \"#ed7953\"], [0.7777777777777778, \"#fb9f3a\"], [0.8888888888888888, \"#fdca26\"], [1.0, \"#f0f921\"]], \"type\": \"histogram2dcontour\"}], \"mesh3d\": [{\"colorbar\": {\"outlinewidth\": 0, \"ticks\": \"\"}, \"type\": \"mesh3d\"}], \"parcoords\": [{\"line\": {\"colorbar\": {\"outlinewidth\": 0, \"ticks\": \"\"}}, \"type\": \"parcoords\"}], \"scatter\": [{\"marker\": {\"colorbar\": {\"outlinewidth\": 0, \"ticks\": \"\"}}, \"type\": \"scatter\"}], \"scatter3d\": [{\"line\": {\"colorbar\": {\"outlinewidth\": 0, \"ticks\": \"\"}}, \"marker\": {\"colorbar\": {\"outlinewidth\": 0, \"ticks\": \"\"}}, \"type\": \"scatter3d\"}], \"scattercarpet\": [{\"marker\": {\"colorbar\": {\"outlinewidth\": 0, \"ticks\": \"\"}}, \"type\": \"scattercarpet\"}], \"scattergeo\": [{\"marker\": {\"colorbar\": {\"outlinewidth\": 0, \"ticks\": \"\"}}, \"type\": \"scattergeo\"}], \"scattergl\": [{\"marker\": {\"colorbar\": {\"outlinewidth\": 0, \"ticks\": \"\"}}, \"type\": \"scattergl\"}], \"scattermapbox\": [{\"marker\": {\"colorbar\": {\"outlinewidth\": 0, \"ticks\": \"\"}}, \"type\": \"scattermapbox\"}], \"scatterpolar\": [{\"marker\": {\"colorbar\": {\"outlinewidth\": 0, \"ticks\": \"\"}}, \"type\": \"scatterpolar\"}], \"scatterpolargl\": [{\"marker\": {\"colorbar\": {\"outlinewidth\": 0, \"ticks\": \"\"}}, \"type\": \"scatterpolargl\"}], \"scatterternary\": [{\"marker\": {\"colorbar\": {\"outlinewidth\": 0, \"ticks\": \"\"}}, \"type\": \"scatterternary\"}], \"surface\": [{\"colorbar\": {\"outlinewidth\": 0, \"ticks\": \"\"}, \"colorscale\": [[0.0, \"#0d0887\"], [0.1111111111111111, \"#46039f\"], [0.2222222222222222, \"#7201a8\"], [0.3333333333333333, \"#9c179e\"], [0.4444444444444444, \"#bd3786\"], [0.5555555555555556, \"#d8576b\"], [0.6666666666666666, \"#ed7953\"], [0.7777777777777778, \"#fb9f3a\"], [0.8888888888888888, \"#fdca26\"], [1.0, \"#f0f921\"]], \"type\": \"surface\"}], \"table\": [{\"cells\": {\"fill\": {\"color\": \"#EBF0F8\"}, \"line\": {\"color\": \"white\"}}, \"header\": {\"fill\": {\"color\": \"#C8D4E3\"}, \"line\": {\"color\": \"white\"}}, \"type\": \"table\"}]}, \"layout\": {\"annotationdefaults\": {\"arrowcolor\": \"#2a3f5f\", \"arrowhead\": 0, \"arrowwidth\": 1}, \"colorscale\": {\"diverging\": [[0, \"#8e0152\"], [0.1, \"#c51b7d\"], [0.2, \"#de77ae\"], [0.3, \"#f1b6da\"], [0.4, \"#fde0ef\"], [0.5, \"#f7f7f7\"], [0.6, \"#e6f5d0\"], [0.7, \"#b8e186\"], [0.8, \"#7fbc41\"], [0.9, \"#4d9221\"], [1, \"#276419\"]], \"sequential\": [[0.0, \"#0d0887\"], [0.1111111111111111, \"#46039f\"], [0.2222222222222222, \"#7201a8\"], [0.3333333333333333, \"#9c179e\"], [0.4444444444444444, \"#bd3786\"], [0.5555555555555556, \"#d8576b\"], [0.6666666666666666, \"#ed7953\"], [0.7777777777777778, \"#fb9f3a\"], [0.8888888888888888, \"#fdca26\"], [1.0, \"#f0f921\"]], \"sequentialminus\": [[0.0, \"#0d0887\"], [0.1111111111111111, \"#46039f\"], [0.2222222222222222, \"#7201a8\"], [0.3333333333333333, \"#9c179e\"], [0.4444444444444444, \"#bd3786\"], [0.5555555555555556, \"#d8576b\"], [0.6666666666666666, \"#ed7953\"], [0.7777777777777778, \"#fb9f3a\"], [0.8888888888888888, \"#fdca26\"], [1.0, \"#f0f921\"]]}, \"colorway\": [\"#636efa\", \"#EF553B\", \"#00cc96\", \"#ab63fa\", \"#FFA15A\", \"#19d3f3\", \"#FF6692\", \"#B6E880\", \"#FF97FF\", \"#FECB52\"], \"font\": {\"color\": \"#2a3f5f\"}, \"geo\": {\"bgcolor\": \"white\", \"lakecolor\": \"white\", \"landcolor\": \"#E5ECF6\", \"showlakes\": true, \"showland\": true, \"subunitcolor\": \"white\"}, \"hoverlabel\": {\"align\": \"left\"}, \"hovermode\": \"closest\", \"mapbox\": {\"style\": \"light\"}, \"paper_bgcolor\": \"white\", \"plot_bgcolor\": \"#E5ECF6\", \"polar\": {\"angularaxis\": {\"gridcolor\": \"white\", \"linecolor\": \"white\", \"ticks\": \"\"}, \"bgcolor\": \"#E5ECF6\", \"radialaxis\": {\"gridcolor\": \"white\", \"linecolor\": \"white\", \"ticks\": \"\"}}, \"scene\": {\"xaxis\": {\"backgroundcolor\": \"#E5ECF6\", \"gridcolor\": \"white\", \"gridwidth\": 2, \"linecolor\": \"white\", \"showbackground\": true, \"ticks\": \"\", \"zerolinecolor\": \"white\"}, \"yaxis\": {\"backgroundcolor\": \"#E5ECF6\", \"gridcolor\": \"white\", \"gridwidth\": 2, \"linecolor\": \"white\", \"showbackground\": true, \"ticks\": \"\", \"zerolinecolor\": \"white\"}, \"zaxis\": {\"backgroundcolor\": \"#E5ECF6\", \"gridcolor\": \"white\", \"gridwidth\": 2, \"linecolor\": \"white\", \"showbackground\": true, \"ticks\": \"\", \"zerolinecolor\": \"white\"}}, \"shapedefaults\": {\"line\": {\"color\": \"#2a3f5f\"}}, \"ternary\": {\"aaxis\": {\"gridcolor\": \"white\", \"linecolor\": \"white\", \"ticks\": \"\"}, \"baxis\": {\"gridcolor\": \"white\", \"linecolor\": \"white\", \"ticks\": \"\"}, \"bgcolor\": \"#E5ECF6\", \"caxis\": {\"gridcolor\": \"white\", \"linecolor\": \"white\", \"ticks\": \"\"}}, \"title\": {\"x\": 0.05}, \"xaxis\": {\"automargin\": true, \"gridcolor\": \"white\", \"linecolor\": \"white\", \"ticks\": \"\", \"zerolinecolor\": \"white\", \"zerolinewidth\": 2}, \"yaxis\": {\"automargin\": true, \"gridcolor\": \"white\", \"linecolor\": \"white\", \"ticks\": \"\", \"zerolinecolor\": \"white\", \"zerolinewidth\": 2}}}},\n",
              "                        {\"responsive\": true}\n",
              "                    ).then(function(){\n",
              "                            \n",
              "var gd = document.getElementById('0a9d6ec1-5232-4910-849f-e03530a55d59');\n",
              "var x = new MutationObserver(function (mutations, observer) {{\n",
              "        var display = window.getComputedStyle(gd).display;\n",
              "        if (!display || display === 'none') {{\n",
              "            console.log([gd, 'removed!']);\n",
              "            Plotly.purge(gd);\n",
              "            observer.disconnect();\n",
              "        }}\n",
              "}});\n",
              "\n",
              "// Listen for the removal of the full notebook cells\n",
              "var notebookContainer = gd.closest('#notebook-container');\n",
              "if (notebookContainer) {{\n",
              "    x.observe(notebookContainer, {childList: true});\n",
              "}}\n",
              "\n",
              "// Listen for the clearing of the current output cell\n",
              "var outputEl = gd.closest('.output');\n",
              "if (outputEl) {{\n",
              "    x.observe(outputEl, {childList: true});\n",
              "}}\n",
              "\n",
              "                        })\n",
              "                };\n",
              "                \n",
              "            </script>\n",
              "        </div>\n",
              "</body>\n",
              "</html>"
            ]
          },
          "metadata": {}
        }
      ]
    },
    {
      "cell_type": "code",
      "source": [
        "fig.update_layout(scene = dict(\n",
        "    xaxis_title = 'Intensidade de Cor',\n",
        "    yaxis_title = 'Álcool',\n",
        "    zaxis_title = 'Proline'\n",
        "))\n",
        "fig.show()"
      ],
      "metadata": {
        "colab": {
          "base_uri": "https://localhost:8080/",
          "height": 542
        },
        "id": "gEyFUWtLPRrQ",
        "outputId": "de17da33-1baa-4f6e-e586-b0e22a326999"
      },
      "execution_count": null,
      "outputs": [
        {
          "output_type": "display_data",
          "data": {
            "text/html": [
              "<html>\n",
              "<head><meta charset=\"utf-8\" /></head>\n",
              "<body>\n",
              "    <div>\n",
              "            <script src=\"https://cdnjs.cloudflare.com/ajax/libs/mathjax/2.7.5/MathJax.js?config=TeX-AMS-MML_SVG\"></script><script type=\"text/javascript\">if (window.MathJax) {MathJax.Hub.Config({SVG: {font: \"STIX-Web\"}});}</script>\n",
              "                <script type=\"text/javascript\">window.PlotlyConfig = {MathJaxConfig: 'local'};</script>\n",
              "        <script src=\"https://cdn.plot.ly/plotly-latest.min.js\"></script>    \n",
              "            <div id=\"5c8a6f63-1404-41f1-a56c-3ccb838e7a64\" class=\"plotly-graph-div\" style=\"height:525px; width:100%;\"></div>\n",
              "            <script type=\"text/javascript\">\n",
              "                \n",
              "                    window.PLOTLYENV=window.PLOTLYENV || {};\n",
              "                    \n",
              "                if (document.getElementById(\"5c8a6f63-1404-41f1-a56c-3ccb838e7a64\")) {\n",
              "                    Plotly.newPlot(\n",
              "                        '5c8a6f63-1404-41f1-a56c-3ccb838e7a64',\n",
              "                        [{\"marker\": {\"color\": [2.0, 2.0, 2.0, 2.0, 2.0, 2.0, 2.0, 2.0, 2.0, 2.0, 2.0, 2.0, 2.0, 2.0, 2.0, 2.0, 2.0, 2.0, 2.0, 2.0, 2.0, 2.0, 2.0, 2.0, 2.0, 2.0, 2.0, 2.0, 2.0, 2.0, 2.0, 2.0, 2.0, 2.0, 2.0, 2.0, 2.0, 2.0, 2.0, 2.0, 2.0, 2.0, 2.0, 2.0, 2.0, 2.0, 2.0, 2.0, 2.0, 2.0, 2.0, 2.0, 2.0, 2.0, 2.0, 2.0, 2.0, 2.0, 2.0, 1.0, 0.0, 0.0, 1.0, 1.0, 1.0, 1.0, 1.0, 1.0, 0.0, 1.0, 0.0, 1.0, 1.0, 2.0, 1.0, 1.0, 1.0, 1.0, 1.0, 1.0, 1.0, 1.0, 1.0, 0.0, 1.0, 1.0, 1.0, 1.0, 1.0, 1.0, 1.0, 1.0, 1.0, 1.0, 1.0, 2.0, 1.0, 1.0, 1.0, 1.0, 1.0, 1.0, 1.0, 1.0, 1.0, 1.0, 1.0, 1.0, 1.0, 1.0, 1.0, 1.0, 1.0, 1.0, 1.0, 1.0, 1.0, 1.0, 0.0, 1.0, 1.0, 1.0, 1.0, 1.0, 1.0, 1.0, 1.0, 1.0, 1.0, 1.0, 0.0, 0.0, 0.0, 0.0, 0.0, 0.0, 0.0, 0.0, 0.0, 0.0, 0.0, 0.0, 0.0, 0.0, 0.0, 0.0, 0.0, 0.0, 0.0, 0.0, 0.0, 0.0, 0.0, 0.0, 0.0, 0.0, 0.0, 0.0, 0.0, 0.0, 0.0, 0.0, 0.0, 0.0, 0.0, 0.0, 0.0, 0.0, 0.0, 0.0, 0.0, 0.0, 0.0, 0.0, 0.0, 0.0, 0.0, 0.0]}, \"mode\": \"markers\", \"text\": [2.0, 2.0, 2.0, 2.0, 2.0, 2.0, 2.0, 2.0, 2.0, 2.0, 2.0, 2.0, 2.0, 2.0, 2.0, 2.0, 2.0, 2.0, 2.0, 2.0, 2.0, 2.0, 2.0, 2.0, 2.0, 2.0, 2.0, 2.0, 2.0, 2.0, 2.0, 2.0, 2.0, 2.0, 2.0, 2.0, 2.0, 2.0, 2.0, 2.0, 2.0, 2.0, 2.0, 2.0, 2.0, 2.0, 2.0, 2.0, 2.0, 2.0, 2.0, 2.0, 2.0, 2.0, 2.0, 2.0, 2.0, 2.0, 2.0, 1.0, 0.0, 0.0, 1.0, 1.0, 1.0, 1.0, 1.0, 1.0, 0.0, 1.0, 0.0, 1.0, 1.0, 2.0, 1.0, 1.0, 1.0, 1.0, 1.0, 1.0, 1.0, 1.0, 1.0, 0.0, 1.0, 1.0, 1.0, 1.0, 1.0, 1.0, 1.0, 1.0, 1.0, 1.0, 1.0, 2.0, 1.0, 1.0, 1.0, 1.0, 1.0, 1.0, 1.0, 1.0, 1.0, 1.0, 1.0, 1.0, 1.0, 1.0, 1.0, 1.0, 1.0, 1.0, 1.0, 1.0, 1.0, 1.0, 0.0, 1.0, 1.0, 1.0, 1.0, 1.0, 1.0, 1.0, 1.0, 1.0, 1.0, 1.0, 0.0, 0.0, 0.0, 0.0, 0.0, 0.0, 0.0, 0.0, 0.0, 0.0, 0.0, 0.0, 0.0, 0.0, 0.0, 0.0, 0.0, 0.0, 0.0, 0.0, 0.0, 0.0, 0.0, 0.0, 0.0, 0.0, 0.0, 0.0, 0.0, 0.0, 0.0, 0.0, 0.0, 0.0, 0.0, 0.0, 0.0, 0.0, 0.0, 0.0, 0.0, 0.0, 0.0, 0.0, 0.0, 0.0, 0.0, 0.0], \"type\": \"scatter3d\", \"x\": [0.3720136518771331, 0.26450511945392485, 0.3754266211604095, 0.5563139931740614, 0.2593856655290102, 0.4667235494880546, 0.3387372013651877, 0.3216723549488054, 0.33447098976109213, 0.5068259385665529, 0.3813993174061433, 0.31740614334470985, 0.3686006825938566, 0.3515358361774744, 0.5307167235494881, 0.5136518771331058, 0.41979522184300344, 0.4539249146757679, 0.6331058020477814, 0.325938566552901, 0.37286689419795227, 0.27474402730375425, 0.21501706484641633, 0.22610921501706485, 0.1911262798634812, 0.1962457337883959, 0.30034129692832756, 0.22781569965870305, 0.27474402730375425, 0.29180887372013653, 0.37713310580204773, 0.4795221843003413, 0.21843003412969278, 0.3515358361774744, 0.2491467576791809, 0.325938566552901, 0.2832764505119454, 0.2534129692832764, 0.20648464163822525, 0.325938566552901, 0.4138225255972696, 0.2559726962457338, 0.35409556313993173, 0.2627986348122867, 0.32081911262798635, 0.33788395904436863, 0.3088737201365188, 0.4112627986348123, 0.41979522184300344, 0.6501706484641638, 0.5051194539249146, 0.3686006825938566, 0.4923208191126279, 0.42832764505119447, 0.38993174061433444, 0.424061433447099, 0.4351535836177475, 0.40273037542662116, 0.4709897610921502, 0.057167235494880536, 0.1697952218430034, 0.3813993174061433, 0.21501706484641633, 0.2704778156996587, 0.1424914675767918, 0.2832764505119454, 0.3430034129692833, 0.2901023890784983, 0.16126279863481227, 0.13395904436860068, 0.15102389078498293, 0.17918088737201363, 0.2098976109215017, 0.1766211604095563, 0.16467576791808872, 0.21501706484641633, 0.2832764505119454, 0.11689419795221842, 0.18088737201365188, 0.1100682593856655, 0.10409556313993173, 0.22354948805460748, 0.07849829351535836, 0.30034129692832756, 0.15102389078498293, 0.1143344709897611, 0.09982935153583619, 0.11262798634812288, 0.1296928327645051, 0.03924914675767918, 0.09556313993174059, 0.1979522184300341, 0.15102389078498293, 0.07423208191126279, 0.16808873720136516, 0.11262798634812288, 0.10409556313993173, 0.13822525597269622, 0.27474402730375425, 0.08703071672354948, 0.17235494880546073, 0.09982935153583619, 0.1296928327645051, 0.06655290102389078, 0.14163822525597267, 0.12116040955631399, 0.18088737201365188, 0.17235494880546073, 0.12116040955631399, 0.11689419795221842, 0.13822525597269622, 0.06143344709897611, 0.21501706484641633, 0.15358361774744025, 0.13822525597269622, 0.052901023890784965, 0.057167235494880536, 0.06655290102389078, 0.18088737201365188, 0.0, 0.16808873720136516, 0.40273037542662116, 0.06825938566552903, 0.11262798634812288, 0.1296928327645051, 0.12627986348122863, 0.22696245733788392, 0.14675767918088736, 0.07167235494880547, 0.11262798634812288, 0.2406143344709897, 0.3515358361774744, 0.37713310580204773, 0.31740614334470985, 0.35580204778157, 0.4965870307167235, 0.21928327645051196, 0.31740614334470985, 0.37713310580204773, 0.31058020477815695, 0.2832764505119454, 0.3686006825938566, 0.26194539249146753, 0.2662116040955631, 0.5912969283276451, 0.23208191126279862, 0.3088737201365188, 0.5435153583617748, 0.6092150170648464, 0.6928327645051194, 0.6245733788395904, 0.8122866894197952, 0.4965870307167235, 0.78839590443686, 0.5392491467576791, 0.5648464163822525, 0.659556313993174, 0.5307167235494881, 0.9999999999999999, 0.893344709897611, 0.5435153583617748, 0.39249146757679176, 0.36689419795221845, 0.341296928327645, 0.7081911262798635, 0.45563139931740615, 0.8020477815699658, 0.7662116040955631, 0.6296928327645052, 0.6160409556313993, 0.36006825938566556, 0.7354947952218429, 0.7184300341296928, 0.5477815699658704, 0.5136518771331058, 0.7610921501706484, 0.6843003412969284, 0.6757679180887372], \"y\": [0.8421052631578951, 0.5710526315789473, 0.560526315789474, 0.8789473684210525, 0.5815789473684214, 0.8342105263157893, 0.8842105263157896, 0.797368421052632, 1.0, 0.7447368421052629, 0.8078947368421052, 0.8131578947368419, 0.7157894736842105, 0.9789473684210526, 0.8815789473684212, 0.6842105263157898, 0.8605263157894738, 0.736842105263158, 0.831578947368421, 0.6868421052631581, 0.797368421052632, 0.5, 0.7052631578947373, 0.47894736842105257, 0.6499999999999999, 0.5315789473684216, 0.6210526315789475, 0.5973684210526318, 0.7473684210526317, 0.7868421052631578, 0.7105263157894739, 0.6710526315789473, 0.6973684210526314, 0.7184210526315788, 0.6526315789473687, 0.6447368421052633, 0.5921052631578947, 0.5315789473684216, 0.5368421052631582, 0.8394736842105264, 0.6657894736842107, 0.6263157894736846, 0.7500000000000004, 0.5815789473684214, 0.5315789473684216, 0.836842105263158, 0.8815789473684212, 0.7552631578947371, 0.8078947368421052, 0.7657894736842104, 0.5315789473684216, 0.736842105263158, 0.7342105263157896, 0.7210526315789472, 0.7131578947368422, 0.6657894736842107, 0.8394736842105264, 0.594736842105263, 0.7078947368421056, 0.3526315789473684, 0.34210526315789513, 0.4236842105263161, 0.6947368421052631, 0.3526315789473684, 0.30000000000000027, 0.3526315789473684, 0.5473684210526315, 0.3526315789473684, 0.6078947368421055, 0.310526315789474, 0.331578947368421, 0.7447368421052629, 0.6473684210526316, 0.5157894736842108, 0.2447368421052638, 0.1657894736842107, 0.5263157894736841, 0.2131578947368422, 0.34210526315789513, 0.43947368421052646, 0.2552631578947371, 0.44473684210526354, 0.2763157894736845, 0.5315789473684216, 0.2131578947368422, 0.43157894736842106, 0.29736842105263195, 0.1631578947368424, 0.16052631578947407, 0.2763157894736845, 0.2763157894736845, 0.2552631578947371, 0.43684210526315814, 0.331578947368421, 0.155263157894737, 0.3789473684210529, 0.20526315789473726, 0.331578947368421, 0.3526315789473684, 0.331578947368421, 0.2763157894736845, 0.4131578947368424, 0.34473684210526345, 0.20789473684210558, 0.38947368421052664, 0.3657894736842109, 0.3210526315789477, 0.44473684210526354, 0.3131578947368423, 0.15263157894736867, 0.11315789473684257, 0.39210526315789496, 0.19210526315789478, 0.10000000000000053, 0.2763157894736845, 0.0, 0.20789473684210558, 0.3657894736842109, 0.45789473684210513, 0.2552631578947371, 0.1105263157894738, 0.13947368421052664, 0.3657894736842109, 0.5315789473684216, 0.2210526315789476, 0.2736842105263162, 0.3684210526315792, 0.20000000000000018, 0.3526315789473684, 0.26578947368421035, 0.4815789473684209, 0.4868421052631584, 0.4684210526315793, 0.43947368421052646, 0.38947368421052664, 0.4131578947368424, 0.3210526315789477, 0.3947368421052633, 0.6473684210526316, 0.47631578947368425, 0.5, 0.6131578947368421, 0.655263157894737, 0.6815789473684211, 0.3210526315789477, 0.560526315789474, 0.7500000000000004, 0.48421052631578965, 0.6026315789473689, 0.5394736842105265, 0.6499999999999999, 0.4631578947368422, 0.5473684210526315, 0.5789473684210531, 0.4078947368421053, 0.5631578947368423, 0.7394736842105263, 0.37368421052631584, 0.8710526315789475, 0.6447368421052633, 0.3500000000000001, 0.7000000000000002, 0.47894736842105257, 0.5078947368421058, 0.7236842105263159, 0.7105263157894739, 0.6368421052631579, 0.4710526315789476, 0.6710526315789473, 0.6236842105263158, 0.3078947368421052, 0.45789473684210513, 0.823684210526316, 0.7052631578947373, 0.6236842105263158, 0.5894736842105264, 0.5631578947368423, 0.8157894736842106], \"z\": [0.5613409415121255, 0.5506419400855921, 0.6469329529243938, 0.8573466476462198, 0.3259629101283881, 0.8359486447931527, 0.7218259629101285, 0.725392296718973, 0.5470756062767476, 0.5470756062767476, 0.8787446504992867, 0.7146932952924394, 0.7432239657631955, 0.6219686162624822, 0.9051355206847361, 0.7360912981455064, 0.7146932952924394, 0.6077032810271041, 1.0, 0.40442225392296727, 0.35805991440798857, 0.35092724679029963, 0.5399429386590585, 0.5256776034236805, 0.40442225392296727, 0.3937232524964337, 0.6540656205420827, 0.7182596291012839, 0.4543509272467904, 0.5399429386590585, 0.7182596291012839, 0.8823109843081313, 0.5078459343794579, 0.6825962910128388, 0.5827389443651926, 0.4579172610556348, 0.4293865905848788, 0.5898716119828816, 0.529243937232525, 0.3437945791726106, 0.36875891583452214, 0.5399429386590585, 0.5827389443651926, 0.2867332382310984, 0.43295292439372324, 0.5720399429386591, 0.5613409415121255, 0.5042796005706135, 0.557774607703281, 0.7004279600570614, 0.6219686162624822, 0.7039942938659058, 0.6504992867332383, 0.782453637660485, 0.557774607703281, 0.6005706134094152, 0.4935805991440799, 0.7075606276747504, 0.7182596291012839, 0.17261055634807418, 0.2867332382310984, 0.12268188302425106, 0.2510699001426534, 0.10128388017118403, 0.054921540656205386, 0.2853067047075606, 0.15977175463623397, 0.1654778887303852, 0.33666191155492153, 0.31383737517831667, 0.4222539229671898, 0.09415121255349498, 0.13837375178316688, 0.5042796005706135, 0.4336661911554922, 0.10699001426533525, 0.08131241084165478, 0.15834522111269614, 0.33666191155492153, 0.1319543509272468, 0.0, 0.3109843081312411, 0.2510699001426534, 0.16904422253922965, 0.17261055634807418, 0.12268188302425106, 0.15477888730385161, 0.20256776034236804, 0.2867332382310984, 0.24750356633380885, 0.1440798858773181, 0.12268188302425106, 0.15477888730385161, 0.008559201141226797, 0.047788873038516394, 0.4700427960057062, 0.24750356633380885, 0.10699001426533525, 0.27246790299572043, 0.09129814550641938, 0.30813124108416545, 0.20256776034236804, 0.11412268188302424, 0.09771754636233951, 0.2810271041369472, 0.02639087018544936, 0.1654778887303852, 0.14978601997146931, 0.02425106990014264, 0.2867332382310984, 0.20256776034236804, 0.033523537803138354, 0.23466476462196864, 0.11126961483594863, 0.07631954350927247, 0.09201141226818829, 0.15477888730385161, 0.047788873038516394, 0.06704707560627673, 0.20399429386590587, 0.24750356633380885, 0.13338088445078458, 0.062054208273894434, 0.07275320970042795, 0.07275320970042795, 0.07132667617689017, 0.052781740370898694, 0.1340941512125535, 0.0456490727532097, 0.21540656205420824, 0.2510699001426534, 0.17974322396576317, 0.20114122681883026, 0.22967189728958629, 0.2653352353780314, 0.297432239657632, 0.3152639087018545, 0.16904422253922965, 0.21540656205420824, 0.2225392296718973, 0.22967189728958629, 0.35805991440798857, 0.17261055634807418, 0.1940085592011412, 0.4115549215406562, 0.3937232524964337, 0.09771754636233951, 0.24750356633380885, 0.2653352353780314, 0.1940085592011412, 0.15834522111269614, 0.1440798858773181, 0.1048502139800285, 0.2831669044222539, 0.25820256776034234, 0.318830242510699, 0.1440798858773181, 0.4293865905848788, 0.27246790299572043, 0.24393723252496433, 0.17261055634807418, 0.2867332382310984, 0.20827389443651925, 0.2831669044222539, 0.2403708987161198, 0.17261055634807418, 0.297432239657632, 0.29029957203994294, 0.33666191155492153, 0.2510699001426534, 0.1654778887303852, 0.1369472182596291, 0.27246790299572043, 0.3295292439372326, 0.33666191155492153, 0.3972895863052782, 0.40085592011412274, 0.20114122681883026]}],\n",
              "                        {\"scene\": {\"xaxis\": {\"title\": {\"text\": \"Intensidade de Cor\"}}, \"yaxis\": {\"title\": {\"text\": \"\\u00c1lcool\"}}, \"zaxis\": {\"title\": {\"text\": \"Proline\"}}}, \"template\": {\"data\": {\"bar\": [{\"error_x\": {\"color\": \"#2a3f5f\"}, \"error_y\": {\"color\": \"#2a3f5f\"}, \"marker\": {\"line\": {\"color\": \"#E5ECF6\", \"width\": 0.5}}, \"type\": \"bar\"}], \"barpolar\": [{\"marker\": {\"line\": {\"color\": \"#E5ECF6\", \"width\": 0.5}}, \"type\": \"barpolar\"}], \"carpet\": [{\"aaxis\": {\"endlinecolor\": \"#2a3f5f\", \"gridcolor\": \"white\", \"linecolor\": \"white\", \"minorgridcolor\": \"white\", \"startlinecolor\": \"#2a3f5f\"}, \"baxis\": {\"endlinecolor\": \"#2a3f5f\", \"gridcolor\": \"white\", \"linecolor\": \"white\", \"minorgridcolor\": \"white\", \"startlinecolor\": \"#2a3f5f\"}, \"type\": \"carpet\"}], \"choropleth\": [{\"colorbar\": {\"outlinewidth\": 0, \"ticks\": \"\"}, \"type\": \"choropleth\"}], \"contour\": [{\"colorbar\": {\"outlinewidth\": 0, \"ticks\": \"\"}, \"colorscale\": [[0.0, \"#0d0887\"], [0.1111111111111111, \"#46039f\"], [0.2222222222222222, \"#7201a8\"], [0.3333333333333333, \"#9c179e\"], [0.4444444444444444, \"#bd3786\"], [0.5555555555555556, \"#d8576b\"], [0.6666666666666666, \"#ed7953\"], [0.7777777777777778, \"#fb9f3a\"], [0.8888888888888888, \"#fdca26\"], [1.0, \"#f0f921\"]], \"type\": \"contour\"}], \"contourcarpet\": [{\"colorbar\": {\"outlinewidth\": 0, \"ticks\": \"\"}, \"type\": \"contourcarpet\"}], \"heatmap\": [{\"colorbar\": {\"outlinewidth\": 0, \"ticks\": \"\"}, \"colorscale\": [[0.0, \"#0d0887\"], [0.1111111111111111, \"#46039f\"], [0.2222222222222222, \"#7201a8\"], [0.3333333333333333, \"#9c179e\"], [0.4444444444444444, \"#bd3786\"], [0.5555555555555556, \"#d8576b\"], [0.6666666666666666, \"#ed7953\"], [0.7777777777777778, \"#fb9f3a\"], [0.8888888888888888, \"#fdca26\"], [1.0, \"#f0f921\"]], \"type\": \"heatmap\"}], \"heatmapgl\": [{\"colorbar\": {\"outlinewidth\": 0, \"ticks\": \"\"}, \"colorscale\": [[0.0, \"#0d0887\"], [0.1111111111111111, \"#46039f\"], [0.2222222222222222, \"#7201a8\"], [0.3333333333333333, \"#9c179e\"], [0.4444444444444444, \"#bd3786\"], [0.5555555555555556, \"#d8576b\"], [0.6666666666666666, \"#ed7953\"], [0.7777777777777778, \"#fb9f3a\"], [0.8888888888888888, \"#fdca26\"], [1.0, \"#f0f921\"]], \"type\": \"heatmapgl\"}], \"histogram\": [{\"marker\": {\"colorbar\": {\"outlinewidth\": 0, \"ticks\": \"\"}}, \"type\": \"histogram\"}], \"histogram2d\": [{\"colorbar\": {\"outlinewidth\": 0, \"ticks\": \"\"}, \"colorscale\": [[0.0, \"#0d0887\"], [0.1111111111111111, \"#46039f\"], [0.2222222222222222, \"#7201a8\"], [0.3333333333333333, \"#9c179e\"], [0.4444444444444444, \"#bd3786\"], [0.5555555555555556, \"#d8576b\"], [0.6666666666666666, \"#ed7953\"], [0.7777777777777778, \"#fb9f3a\"], [0.8888888888888888, \"#fdca26\"], [1.0, \"#f0f921\"]], \"type\": \"histogram2d\"}], \"histogram2dcontour\": [{\"colorbar\": {\"outlinewidth\": 0, \"ticks\": \"\"}, \"colorscale\": [[0.0, \"#0d0887\"], [0.1111111111111111, \"#46039f\"], [0.2222222222222222, \"#7201a8\"], [0.3333333333333333, \"#9c179e\"], [0.4444444444444444, \"#bd3786\"], [0.5555555555555556, \"#d8576b\"], [0.6666666666666666, \"#ed7953\"], [0.7777777777777778, \"#fb9f3a\"], [0.8888888888888888, \"#fdca26\"], [1.0, \"#f0f921\"]], \"type\": \"histogram2dcontour\"}], \"mesh3d\": [{\"colorbar\": {\"outlinewidth\": 0, \"ticks\": \"\"}, \"type\": \"mesh3d\"}], \"parcoords\": [{\"line\": {\"colorbar\": {\"outlinewidth\": 0, \"ticks\": \"\"}}, \"type\": \"parcoords\"}], \"scatter\": [{\"marker\": {\"colorbar\": {\"outlinewidth\": 0, \"ticks\": \"\"}}, \"type\": \"scatter\"}], \"scatter3d\": [{\"line\": {\"colorbar\": {\"outlinewidth\": 0, \"ticks\": \"\"}}, \"marker\": {\"colorbar\": {\"outlinewidth\": 0, \"ticks\": \"\"}}, \"type\": \"scatter3d\"}], \"scattercarpet\": [{\"marker\": {\"colorbar\": {\"outlinewidth\": 0, \"ticks\": \"\"}}, \"type\": \"scattercarpet\"}], \"scattergeo\": [{\"marker\": {\"colorbar\": {\"outlinewidth\": 0, \"ticks\": \"\"}}, \"type\": \"scattergeo\"}], \"scattergl\": [{\"marker\": {\"colorbar\": {\"outlinewidth\": 0, \"ticks\": \"\"}}, \"type\": \"scattergl\"}], \"scattermapbox\": [{\"marker\": {\"colorbar\": {\"outlinewidth\": 0, \"ticks\": \"\"}}, \"type\": \"scattermapbox\"}], \"scatterpolar\": [{\"marker\": {\"colorbar\": {\"outlinewidth\": 0, \"ticks\": \"\"}}, \"type\": \"scatterpolar\"}], \"scatterpolargl\": [{\"marker\": {\"colorbar\": {\"outlinewidth\": 0, \"ticks\": \"\"}}, \"type\": \"scatterpolargl\"}], \"scatterternary\": [{\"marker\": {\"colorbar\": {\"outlinewidth\": 0, \"ticks\": \"\"}}, \"type\": \"scatterternary\"}], \"surface\": [{\"colorbar\": {\"outlinewidth\": 0, \"ticks\": \"\"}, \"colorscale\": [[0.0, \"#0d0887\"], [0.1111111111111111, \"#46039f\"], [0.2222222222222222, \"#7201a8\"], [0.3333333333333333, \"#9c179e\"], [0.4444444444444444, \"#bd3786\"], [0.5555555555555556, \"#d8576b\"], [0.6666666666666666, \"#ed7953\"], [0.7777777777777778, \"#fb9f3a\"], [0.8888888888888888, \"#fdca26\"], [1.0, \"#f0f921\"]], \"type\": \"surface\"}], \"table\": [{\"cells\": {\"fill\": {\"color\": \"#EBF0F8\"}, \"line\": {\"color\": \"white\"}}, \"header\": {\"fill\": {\"color\": \"#C8D4E3\"}, \"line\": {\"color\": \"white\"}}, \"type\": \"table\"}]}, \"layout\": {\"annotationdefaults\": {\"arrowcolor\": \"#2a3f5f\", \"arrowhead\": 0, \"arrowwidth\": 1}, \"colorscale\": {\"diverging\": [[0, \"#8e0152\"], [0.1, \"#c51b7d\"], [0.2, \"#de77ae\"], [0.3, \"#f1b6da\"], [0.4, \"#fde0ef\"], [0.5, \"#f7f7f7\"], [0.6, \"#e6f5d0\"], [0.7, \"#b8e186\"], [0.8, \"#7fbc41\"], [0.9, \"#4d9221\"], [1, \"#276419\"]], \"sequential\": [[0.0, \"#0d0887\"], [0.1111111111111111, \"#46039f\"], [0.2222222222222222, \"#7201a8\"], [0.3333333333333333, \"#9c179e\"], [0.4444444444444444, \"#bd3786\"], [0.5555555555555556, \"#d8576b\"], [0.6666666666666666, \"#ed7953\"], [0.7777777777777778, \"#fb9f3a\"], [0.8888888888888888, \"#fdca26\"], [1.0, \"#f0f921\"]], \"sequentialminus\": [[0.0, \"#0d0887\"], [0.1111111111111111, \"#46039f\"], [0.2222222222222222, \"#7201a8\"], [0.3333333333333333, \"#9c179e\"], [0.4444444444444444, \"#bd3786\"], [0.5555555555555556, \"#d8576b\"], [0.6666666666666666, \"#ed7953\"], [0.7777777777777778, \"#fb9f3a\"], [0.8888888888888888, \"#fdca26\"], [1.0, \"#f0f921\"]]}, \"colorway\": [\"#636efa\", \"#EF553B\", \"#00cc96\", \"#ab63fa\", \"#FFA15A\", \"#19d3f3\", \"#FF6692\", \"#B6E880\", \"#FF97FF\", \"#FECB52\"], \"font\": {\"color\": \"#2a3f5f\"}, \"geo\": {\"bgcolor\": \"white\", \"lakecolor\": \"white\", \"landcolor\": \"#E5ECF6\", \"showlakes\": true, \"showland\": true, \"subunitcolor\": \"white\"}, \"hoverlabel\": {\"align\": \"left\"}, \"hovermode\": \"closest\", \"mapbox\": {\"style\": \"light\"}, \"paper_bgcolor\": \"white\", \"plot_bgcolor\": \"#E5ECF6\", \"polar\": {\"angularaxis\": {\"gridcolor\": \"white\", \"linecolor\": \"white\", \"ticks\": \"\"}, \"bgcolor\": \"#E5ECF6\", \"radialaxis\": {\"gridcolor\": \"white\", \"linecolor\": \"white\", \"ticks\": \"\"}}, \"scene\": {\"xaxis\": {\"backgroundcolor\": \"#E5ECF6\", \"gridcolor\": \"white\", \"gridwidth\": 2, \"linecolor\": \"white\", \"showbackground\": true, \"ticks\": \"\", \"zerolinecolor\": \"white\"}, \"yaxis\": {\"backgroundcolor\": \"#E5ECF6\", \"gridcolor\": \"white\", \"gridwidth\": 2, \"linecolor\": \"white\", \"showbackground\": true, \"ticks\": \"\", \"zerolinecolor\": \"white\"}, \"zaxis\": {\"backgroundcolor\": \"#E5ECF6\", \"gridcolor\": \"white\", \"gridwidth\": 2, \"linecolor\": \"white\", \"showbackground\": true, \"ticks\": \"\", \"zerolinecolor\": \"white\"}}, \"shapedefaults\": {\"line\": {\"color\": \"#2a3f5f\"}}, \"ternary\": {\"aaxis\": {\"gridcolor\": \"white\", \"linecolor\": \"white\", \"ticks\": \"\"}, \"baxis\": {\"gridcolor\": \"white\", \"linecolor\": \"white\", \"ticks\": \"\"}, \"bgcolor\": \"#E5ECF6\", \"caxis\": {\"gridcolor\": \"white\", \"linecolor\": \"white\", \"ticks\": \"\"}}, \"title\": {\"x\": 0.05}, \"xaxis\": {\"automargin\": true, \"gridcolor\": \"white\", \"linecolor\": \"white\", \"ticks\": \"\", \"zerolinecolor\": \"white\", \"zerolinewidth\": 2}, \"yaxis\": {\"automargin\": true, \"gridcolor\": \"white\", \"linecolor\": \"white\", \"ticks\": \"\", \"zerolinecolor\": \"white\", \"zerolinewidth\": 2}}}},\n",
              "                        {\"responsive\": true}\n",
              "                    ).then(function(){\n",
              "                            \n",
              "var gd = document.getElementById('5c8a6f63-1404-41f1-a56c-3ccb838e7a64');\n",
              "var x = new MutationObserver(function (mutations, observer) {{\n",
              "        var display = window.getComputedStyle(gd).display;\n",
              "        if (!display || display === 'none') {{\n",
              "            console.log([gd, 'removed!']);\n",
              "            Plotly.purge(gd);\n",
              "            observer.disconnect();\n",
              "        }}\n",
              "}});\n",
              "\n",
              "// Listen for the removal of the full notebook cells\n",
              "var notebookContainer = gd.closest('#notebook-container');\n",
              "if (notebookContainer) {{\n",
              "    x.observe(notebookContainer, {childList: true});\n",
              "}}\n",
              "\n",
              "// Listen for the clearing of the current output cell\n",
              "var outputEl = gd.closest('.output');\n",
              "if (outputEl) {{\n",
              "    x.observe(outputEl, {childList: true});\n",
              "}}\n",
              "\n",
              "                        })\n",
              "                };\n",
              "                \n",
              "            </script>\n",
              "        </div>\n",
              "</body>\n",
              "</html>"
            ]
          },
          "metadata": {}
        }
      ]
    },
    {
      "cell_type": "code",
      "source": [
        "centros = pd.DataFrame(agrupador.cluster_centers_)\n",
        "centros.columns = colunas\n",
        "centros.head()"
      ],
      "metadata": {
        "colab": {
          "base_uri": "https://localhost:8080/",
          "height": 187
        },
        "id": "sYZi17wNTk2C",
        "outputId": "b602f0e5-ec05-462e-e3b5-8610f0cc3781"
      },
      "execution_count": null,
      "outputs": [
        {
          "output_type": "execute_result",
          "data": {
            "text/html": [
              "\n",
              "  <div id=\"df-762860b8-d989-40af-aa95-a8dd5533b68d\">\n",
              "    <div class=\"colab-df-container\">\n",
              "      <div>\n",
              "<style scoped>\n",
              "    .dataframe tbody tr th:only-of-type {\n",
              "        vertical-align: middle;\n",
              "    }\n",
              "\n",
              "    .dataframe tbody tr th {\n",
              "        vertical-align: top;\n",
              "    }\n",
              "\n",
              "    .dataframe thead th {\n",
              "        text-align: right;\n",
              "    }\n",
              "</style>\n",
              "<table border=\"1\" class=\"dataframe\">\n",
              "  <thead>\n",
              "    <tr style=\"text-align: right;\">\n",
              "      <th></th>\n",
              "      <th>Alcool</th>\n",
              "      <th>Malic_Acid</th>\n",
              "      <th>Po</th>\n",
              "      <th>Alcalinidade_po</th>\n",
              "      <th>Magnesio</th>\n",
              "      <th>Total_Fenois</th>\n",
              "      <th>Flavanoids</th>\n",
              "      <th>Fenois_nao_flavalonoides</th>\n",
              "      <th>Proanthocyanins</th>\n",
              "      <th>Intensidade_de_cor</th>\n",
              "      <th>Hue</th>\n",
              "      <th>OD280</th>\n",
              "      <th>Proline</th>\n",
              "    </tr>\n",
              "  </thead>\n",
              "  <tbody>\n",
              "    <tr>\n",
              "      <th>0</th>\n",
              "      <td>0.546686</td>\n",
              "      <td>0.484409</td>\n",
              "      <td>0.561596</td>\n",
              "      <td>0.538660</td>\n",
              "      <td>0.315217</td>\n",
              "      <td>0.246743</td>\n",
              "      <td>0.104743</td>\n",
              "      <td>0.614256</td>\n",
              "      <td>0.225435</td>\n",
              "      <td>0.488781</td>\n",
              "      <td>0.188889</td>\n",
              "      <td>0.158527</td>\n",
              "      <td>0.249115</td>\n",
              "    </tr>\n",
              "    <tr>\n",
              "      <th>1</th>\n",
              "      <td>0.313367</td>\n",
              "      <td>0.235617</td>\n",
              "      <td>0.473050</td>\n",
              "      <td>0.500245</td>\n",
              "      <td>0.245514</td>\n",
              "      <td>0.448057</td>\n",
              "      <td>0.380082</td>\n",
              "      <td>0.418688</td>\n",
              "      <td>0.397176</td>\n",
              "      <td>0.147787</td>\n",
              "      <td>0.472190</td>\n",
              "      <td>0.584220</td>\n",
              "      <td>0.156375</td>\n",
              "    </tr>\n",
              "    <tr>\n",
              "      <th>2</th>\n",
              "      <td>0.705651</td>\n",
              "      <td>0.248429</td>\n",
              "      <td>0.584904</td>\n",
              "      <td>0.344431</td>\n",
              "      <td>0.410727</td>\n",
              "      <td>0.642114</td>\n",
              "      <td>0.554679</td>\n",
              "      <td>0.300340</td>\n",
              "      <td>0.477272</td>\n",
              "      <td>0.355340</td>\n",
              "      <td>0.477809</td>\n",
              "      <td>0.690386</td>\n",
              "      <td>0.593894</td>\n",
              "    </tr>\n",
              "  </tbody>\n",
              "</table>\n",
              "</div>\n",
              "      <button class=\"colab-df-convert\" onclick=\"convertToInteractive('df-762860b8-d989-40af-aa95-a8dd5533b68d')\"\n",
              "              title=\"Convert this dataframe to an interactive table.\"\n",
              "              style=\"display:none;\">\n",
              "        \n",
              "  <svg xmlns=\"http://www.w3.org/2000/svg\" height=\"24px\"viewBox=\"0 0 24 24\"\n",
              "       width=\"24px\">\n",
              "    <path d=\"M0 0h24v24H0V0z\" fill=\"none\"/>\n",
              "    <path d=\"M18.56 5.44l.94 2.06.94-2.06 2.06-.94-2.06-.94-.94-2.06-.94 2.06-2.06.94zm-11 1L8.5 8.5l.94-2.06 2.06-.94-2.06-.94L8.5 2.5l-.94 2.06-2.06.94zm10 10l.94 2.06.94-2.06 2.06-.94-2.06-.94-.94-2.06-.94 2.06-2.06.94z\"/><path d=\"M17.41 7.96l-1.37-1.37c-.4-.4-.92-.59-1.43-.59-.52 0-1.04.2-1.43.59L10.3 9.45l-7.72 7.72c-.78.78-.78 2.05 0 2.83L4 21.41c.39.39.9.59 1.41.59.51 0 1.02-.2 1.41-.59l7.78-7.78 2.81-2.81c.8-.78.8-2.07 0-2.86zM5.41 20L4 18.59l7.72-7.72 1.47 1.35L5.41 20z\"/>\n",
              "  </svg>\n",
              "      </button>\n",
              "      \n",
              "  <style>\n",
              "    .colab-df-container {\n",
              "      display:flex;\n",
              "      flex-wrap:wrap;\n",
              "      gap: 12px;\n",
              "    }\n",
              "\n",
              "    .colab-df-convert {\n",
              "      background-color: #E8F0FE;\n",
              "      border: none;\n",
              "      border-radius: 50%;\n",
              "      cursor: pointer;\n",
              "      display: none;\n",
              "      fill: #1967D2;\n",
              "      height: 32px;\n",
              "      padding: 0 0 0 0;\n",
              "      width: 32px;\n",
              "    }\n",
              "\n",
              "    .colab-df-convert:hover {\n",
              "      background-color: #E2EBFA;\n",
              "      box-shadow: 0px 1px 2px rgba(60, 64, 67, 0.3), 0px 1px 3px 1px rgba(60, 64, 67, 0.15);\n",
              "      fill: #174EA6;\n",
              "    }\n",
              "\n",
              "    [theme=dark] .colab-df-convert {\n",
              "      background-color: #3B4455;\n",
              "      fill: #D2E3FC;\n",
              "    }\n",
              "\n",
              "    [theme=dark] .colab-df-convert:hover {\n",
              "      background-color: #434B5C;\n",
              "      box-shadow: 0px 1px 3px 1px rgba(0, 0, 0, 0.15);\n",
              "      filter: drop-shadow(0px 1px 2px rgba(0, 0, 0, 0.3));\n",
              "      fill: #FFFFFF;\n",
              "    }\n",
              "  </style>\n",
              "\n",
              "      <script>\n",
              "        const buttonEl =\n",
              "          document.querySelector('#df-762860b8-d989-40af-aa95-a8dd5533b68d button.colab-df-convert');\n",
              "        buttonEl.style.display =\n",
              "          google.colab.kernel.accessAllowed ? 'block' : 'none';\n",
              "\n",
              "        async function convertToInteractive(key) {\n",
              "          const element = document.querySelector('#df-762860b8-d989-40af-aa95-a8dd5533b68d');\n",
              "          const dataTable =\n",
              "            await google.colab.kernel.invokeFunction('convertToInteractive',\n",
              "                                                     [key], {});\n",
              "          if (!dataTable) return;\n",
              "\n",
              "          const docLinkHtml = 'Like what you see? Visit the ' +\n",
              "            '<a target=\"_blank\" href=https://colab.research.google.com/notebooks/data_table.ipynb>data table notebook</a>'\n",
              "            + ' to learn more about interactive tables.';\n",
              "          element.innerHTML = '';\n",
              "          dataTable['output_type'] = 'display_data';\n",
              "          await google.colab.output.renderOutput(dataTable, element);\n",
              "          const docLink = document.createElement('div');\n",
              "          docLink.innerHTML = docLinkHtml;\n",
              "          element.appendChild(docLink);\n",
              "        }\n",
              "      </script>\n",
              "    </div>\n",
              "  </div>\n",
              "  "
            ],
            "text/plain": [
              "     Alcool  Malic_Acid        Po  Alcalinidade_po  Magnesio  Total_Fenois  \\\n",
              "0  0.546686    0.484409  0.561596         0.538660  0.315217      0.246743   \n",
              "1  0.313367    0.235617  0.473050         0.500245  0.245514      0.448057   \n",
              "2  0.705651    0.248429  0.584904         0.344431  0.410727      0.642114   \n",
              "\n",
              "   Flavanoids  Fenois_nao_flavalonoides  Proanthocyanins  Intensidade_de_cor  \\\n",
              "0    0.104743                  0.614256         0.225435            0.488781   \n",
              "1    0.380082                  0.418688         0.397176            0.147787   \n",
              "2    0.554679                  0.300340         0.477272            0.355340   \n",
              "\n",
              "        Hue     OD280   Proline  \n",
              "0  0.188889  0.158527  0.249115  \n",
              "1  0.472190  0.584220  0.156375  \n",
              "2  0.477809  0.690386  0.593894  "
            ]
          },
          "metadata": {},
          "execution_count": 33
        }
      ]
    },
    {
      "cell_type": "code",
      "source": [
        "fig.add_trace(go.Scatter3d(x = centros['Intensidade_de_cor'],\n",
        "                           y = centros['Alcool'],\n",
        "                           z = centros['Proline'],\n",
        "                           mode = 'markers',\n",
        "                           marker = dict(color = 'red'),\n",
        "                           text = [0, 1, 2]))"
      ],
      "metadata": {
        "colab": {
          "base_uri": "https://localhost:8080/",
          "height": 542
        },
        "id": "puBsXK37T5W4",
        "outputId": "9204065b-74ed-48a6-c9f7-2a43d34ef4e9"
      },
      "execution_count": null,
      "outputs": [
        {
          "output_type": "display_data",
          "data": {
            "text/html": [
              "<html>\n",
              "<head><meta charset=\"utf-8\" /></head>\n",
              "<body>\n",
              "    <div>\n",
              "            <script src=\"https://cdnjs.cloudflare.com/ajax/libs/mathjax/2.7.5/MathJax.js?config=TeX-AMS-MML_SVG\"></script><script type=\"text/javascript\">if (window.MathJax) {MathJax.Hub.Config({SVG: {font: \"STIX-Web\"}});}</script>\n",
              "                <script type=\"text/javascript\">window.PlotlyConfig = {MathJaxConfig: 'local'};</script>\n",
              "        <script src=\"https://cdn.plot.ly/plotly-latest.min.js\"></script>    \n",
              "            <div id=\"5e4ca13a-5e6d-4720-a740-17e3028ab4ff\" class=\"plotly-graph-div\" style=\"height:525px; width:100%;\"></div>\n",
              "            <script type=\"text/javascript\">\n",
              "                \n",
              "                    window.PLOTLYENV=window.PLOTLYENV || {};\n",
              "                    \n",
              "                if (document.getElementById(\"5e4ca13a-5e6d-4720-a740-17e3028ab4ff\")) {\n",
              "                    Plotly.newPlot(\n",
              "                        '5e4ca13a-5e6d-4720-a740-17e3028ab4ff',\n",
              "                        [{\"marker\": {\"color\": [2.0, 2.0, 2.0, 2.0, 2.0, 2.0, 2.0, 2.0, 2.0, 2.0, 2.0, 2.0, 2.0, 2.0, 2.0, 2.0, 2.0, 2.0, 2.0, 2.0, 2.0, 2.0, 2.0, 2.0, 2.0, 2.0, 2.0, 2.0, 2.0, 2.0, 2.0, 2.0, 2.0, 2.0, 2.0, 2.0, 2.0, 2.0, 2.0, 2.0, 2.0, 2.0, 2.0, 2.0, 2.0, 2.0, 2.0, 2.0, 2.0, 2.0, 2.0, 2.0, 2.0, 2.0, 2.0, 2.0, 2.0, 2.0, 2.0, 1.0, 0.0, 0.0, 1.0, 1.0, 1.0, 1.0, 1.0, 1.0, 0.0, 1.0, 0.0, 1.0, 1.0, 2.0, 1.0, 1.0, 1.0, 1.0, 1.0, 1.0, 1.0, 1.0, 1.0, 0.0, 1.0, 1.0, 1.0, 1.0, 1.0, 1.0, 1.0, 1.0, 1.0, 1.0, 1.0, 2.0, 1.0, 1.0, 1.0, 1.0, 1.0, 1.0, 1.0, 1.0, 1.0, 1.0, 1.0, 1.0, 1.0, 1.0, 1.0, 1.0, 1.0, 1.0, 1.0, 1.0, 1.0, 1.0, 0.0, 1.0, 1.0, 1.0, 1.0, 1.0, 1.0, 1.0, 1.0, 1.0, 1.0, 1.0, 0.0, 0.0, 0.0, 0.0, 0.0, 0.0, 0.0, 0.0, 0.0, 0.0, 0.0, 0.0, 0.0, 0.0, 0.0, 0.0, 0.0, 0.0, 0.0, 0.0, 0.0, 0.0, 0.0, 0.0, 0.0, 0.0, 0.0, 0.0, 0.0, 0.0, 0.0, 0.0, 0.0, 0.0, 0.0, 0.0, 0.0, 0.0, 0.0, 0.0, 0.0, 0.0, 0.0, 0.0, 0.0, 0.0, 0.0, 0.0]}, \"mode\": \"markers\", \"text\": [2.0, 2.0, 2.0, 2.0, 2.0, 2.0, 2.0, 2.0, 2.0, 2.0, 2.0, 2.0, 2.0, 2.0, 2.0, 2.0, 2.0, 2.0, 2.0, 2.0, 2.0, 2.0, 2.0, 2.0, 2.0, 2.0, 2.0, 2.0, 2.0, 2.0, 2.0, 2.0, 2.0, 2.0, 2.0, 2.0, 2.0, 2.0, 2.0, 2.0, 2.0, 2.0, 2.0, 2.0, 2.0, 2.0, 2.0, 2.0, 2.0, 2.0, 2.0, 2.0, 2.0, 2.0, 2.0, 2.0, 2.0, 2.0, 2.0, 1.0, 0.0, 0.0, 1.0, 1.0, 1.0, 1.0, 1.0, 1.0, 0.0, 1.0, 0.0, 1.0, 1.0, 2.0, 1.0, 1.0, 1.0, 1.0, 1.0, 1.0, 1.0, 1.0, 1.0, 0.0, 1.0, 1.0, 1.0, 1.0, 1.0, 1.0, 1.0, 1.0, 1.0, 1.0, 1.0, 2.0, 1.0, 1.0, 1.0, 1.0, 1.0, 1.0, 1.0, 1.0, 1.0, 1.0, 1.0, 1.0, 1.0, 1.0, 1.0, 1.0, 1.0, 1.0, 1.0, 1.0, 1.0, 1.0, 0.0, 1.0, 1.0, 1.0, 1.0, 1.0, 1.0, 1.0, 1.0, 1.0, 1.0, 1.0, 0.0, 0.0, 0.0, 0.0, 0.0, 0.0, 0.0, 0.0, 0.0, 0.0, 0.0, 0.0, 0.0, 0.0, 0.0, 0.0, 0.0, 0.0, 0.0, 0.0, 0.0, 0.0, 0.0, 0.0, 0.0, 0.0, 0.0, 0.0, 0.0, 0.0, 0.0, 0.0, 0.0, 0.0, 0.0, 0.0, 0.0, 0.0, 0.0, 0.0, 0.0, 0.0, 0.0, 0.0, 0.0, 0.0, 0.0, 0.0], \"type\": \"scatter3d\", \"x\": [0.3720136518771331, 0.26450511945392485, 0.3754266211604095, 0.5563139931740614, 0.2593856655290102, 0.4667235494880546, 0.3387372013651877, 0.3216723549488054, 0.33447098976109213, 0.5068259385665529, 0.3813993174061433, 0.31740614334470985, 0.3686006825938566, 0.3515358361774744, 0.5307167235494881, 0.5136518771331058, 0.41979522184300344, 0.4539249146757679, 0.6331058020477814, 0.325938566552901, 0.37286689419795227, 0.27474402730375425, 0.21501706484641633, 0.22610921501706485, 0.1911262798634812, 0.1962457337883959, 0.30034129692832756, 0.22781569965870305, 0.27474402730375425, 0.29180887372013653, 0.37713310580204773, 0.4795221843003413, 0.21843003412969278, 0.3515358361774744, 0.2491467576791809, 0.325938566552901, 0.2832764505119454, 0.2534129692832764, 0.20648464163822525, 0.325938566552901, 0.4138225255972696, 0.2559726962457338, 0.35409556313993173, 0.2627986348122867, 0.32081911262798635, 0.33788395904436863, 0.3088737201365188, 0.4112627986348123, 0.41979522184300344, 0.6501706484641638, 0.5051194539249146, 0.3686006825938566, 0.4923208191126279, 0.42832764505119447, 0.38993174061433444, 0.424061433447099, 0.4351535836177475, 0.40273037542662116, 0.4709897610921502, 0.057167235494880536, 0.1697952218430034, 0.3813993174061433, 0.21501706484641633, 0.2704778156996587, 0.1424914675767918, 0.2832764505119454, 0.3430034129692833, 0.2901023890784983, 0.16126279863481227, 0.13395904436860068, 0.15102389078498293, 0.17918088737201363, 0.2098976109215017, 0.1766211604095563, 0.16467576791808872, 0.21501706484641633, 0.2832764505119454, 0.11689419795221842, 0.18088737201365188, 0.1100682593856655, 0.10409556313993173, 0.22354948805460748, 0.07849829351535836, 0.30034129692832756, 0.15102389078498293, 0.1143344709897611, 0.09982935153583619, 0.11262798634812288, 0.1296928327645051, 0.03924914675767918, 0.09556313993174059, 0.1979522184300341, 0.15102389078498293, 0.07423208191126279, 0.16808873720136516, 0.11262798634812288, 0.10409556313993173, 0.13822525597269622, 0.27474402730375425, 0.08703071672354948, 0.17235494880546073, 0.09982935153583619, 0.1296928327645051, 0.06655290102389078, 0.14163822525597267, 0.12116040955631399, 0.18088737201365188, 0.17235494880546073, 0.12116040955631399, 0.11689419795221842, 0.13822525597269622, 0.06143344709897611, 0.21501706484641633, 0.15358361774744025, 0.13822525597269622, 0.052901023890784965, 0.057167235494880536, 0.06655290102389078, 0.18088737201365188, 0.0, 0.16808873720136516, 0.40273037542662116, 0.06825938566552903, 0.11262798634812288, 0.1296928327645051, 0.12627986348122863, 0.22696245733788392, 0.14675767918088736, 0.07167235494880547, 0.11262798634812288, 0.2406143344709897, 0.3515358361774744, 0.37713310580204773, 0.31740614334470985, 0.35580204778157, 0.4965870307167235, 0.21928327645051196, 0.31740614334470985, 0.37713310580204773, 0.31058020477815695, 0.2832764505119454, 0.3686006825938566, 0.26194539249146753, 0.2662116040955631, 0.5912969283276451, 0.23208191126279862, 0.3088737201365188, 0.5435153583617748, 0.6092150170648464, 0.6928327645051194, 0.6245733788395904, 0.8122866894197952, 0.4965870307167235, 0.78839590443686, 0.5392491467576791, 0.5648464163822525, 0.659556313993174, 0.5307167235494881, 0.9999999999999999, 0.893344709897611, 0.5435153583617748, 0.39249146757679176, 0.36689419795221845, 0.341296928327645, 0.7081911262798635, 0.45563139931740615, 0.8020477815699658, 0.7662116040955631, 0.6296928327645052, 0.6160409556313993, 0.36006825938566556, 0.7354947952218429, 0.7184300341296928, 0.5477815699658704, 0.5136518771331058, 0.7610921501706484, 0.6843003412969284, 0.6757679180887372], \"y\": [0.8421052631578951, 0.5710526315789473, 0.560526315789474, 0.8789473684210525, 0.5815789473684214, 0.8342105263157893, 0.8842105263157896, 0.797368421052632, 1.0, 0.7447368421052629, 0.8078947368421052, 0.8131578947368419, 0.7157894736842105, 0.9789473684210526, 0.8815789473684212, 0.6842105263157898, 0.8605263157894738, 0.736842105263158, 0.831578947368421, 0.6868421052631581, 0.797368421052632, 0.5, 0.7052631578947373, 0.47894736842105257, 0.6499999999999999, 0.5315789473684216, 0.6210526315789475, 0.5973684210526318, 0.7473684210526317, 0.7868421052631578, 0.7105263157894739, 0.6710526315789473, 0.6973684210526314, 0.7184210526315788, 0.6526315789473687, 0.6447368421052633, 0.5921052631578947, 0.5315789473684216, 0.5368421052631582, 0.8394736842105264, 0.6657894736842107, 0.6263157894736846, 0.7500000000000004, 0.5815789473684214, 0.5315789473684216, 0.836842105263158, 0.8815789473684212, 0.7552631578947371, 0.8078947368421052, 0.7657894736842104, 0.5315789473684216, 0.736842105263158, 0.7342105263157896, 0.7210526315789472, 0.7131578947368422, 0.6657894736842107, 0.8394736842105264, 0.594736842105263, 0.7078947368421056, 0.3526315789473684, 0.34210526315789513, 0.4236842105263161, 0.6947368421052631, 0.3526315789473684, 0.30000000000000027, 0.3526315789473684, 0.5473684210526315, 0.3526315789473684, 0.6078947368421055, 0.310526315789474, 0.331578947368421, 0.7447368421052629, 0.6473684210526316, 0.5157894736842108, 0.2447368421052638, 0.1657894736842107, 0.5263157894736841, 0.2131578947368422, 0.34210526315789513, 0.43947368421052646, 0.2552631578947371, 0.44473684210526354, 0.2763157894736845, 0.5315789473684216, 0.2131578947368422, 0.43157894736842106, 0.29736842105263195, 0.1631578947368424, 0.16052631578947407, 0.2763157894736845, 0.2763157894736845, 0.2552631578947371, 0.43684210526315814, 0.331578947368421, 0.155263157894737, 0.3789473684210529, 0.20526315789473726, 0.331578947368421, 0.3526315789473684, 0.331578947368421, 0.2763157894736845, 0.4131578947368424, 0.34473684210526345, 0.20789473684210558, 0.38947368421052664, 0.3657894736842109, 0.3210526315789477, 0.44473684210526354, 0.3131578947368423, 0.15263157894736867, 0.11315789473684257, 0.39210526315789496, 0.19210526315789478, 0.10000000000000053, 0.2763157894736845, 0.0, 0.20789473684210558, 0.3657894736842109, 0.45789473684210513, 0.2552631578947371, 0.1105263157894738, 0.13947368421052664, 0.3657894736842109, 0.5315789473684216, 0.2210526315789476, 0.2736842105263162, 0.3684210526315792, 0.20000000000000018, 0.3526315789473684, 0.26578947368421035, 0.4815789473684209, 0.4868421052631584, 0.4684210526315793, 0.43947368421052646, 0.38947368421052664, 0.4131578947368424, 0.3210526315789477, 0.3947368421052633, 0.6473684210526316, 0.47631578947368425, 0.5, 0.6131578947368421, 0.655263157894737, 0.6815789473684211, 0.3210526315789477, 0.560526315789474, 0.7500000000000004, 0.48421052631578965, 0.6026315789473689, 0.5394736842105265, 0.6499999999999999, 0.4631578947368422, 0.5473684210526315, 0.5789473684210531, 0.4078947368421053, 0.5631578947368423, 0.7394736842105263, 0.37368421052631584, 0.8710526315789475, 0.6447368421052633, 0.3500000000000001, 0.7000000000000002, 0.47894736842105257, 0.5078947368421058, 0.7236842105263159, 0.7105263157894739, 0.6368421052631579, 0.4710526315789476, 0.6710526315789473, 0.6236842105263158, 0.3078947368421052, 0.45789473684210513, 0.823684210526316, 0.7052631578947373, 0.6236842105263158, 0.5894736842105264, 0.5631578947368423, 0.8157894736842106], \"z\": [0.5613409415121255, 0.5506419400855921, 0.6469329529243938, 0.8573466476462198, 0.3259629101283881, 0.8359486447931527, 0.7218259629101285, 0.725392296718973, 0.5470756062767476, 0.5470756062767476, 0.8787446504992867, 0.7146932952924394, 0.7432239657631955, 0.6219686162624822, 0.9051355206847361, 0.7360912981455064, 0.7146932952924394, 0.6077032810271041, 1.0, 0.40442225392296727, 0.35805991440798857, 0.35092724679029963, 0.5399429386590585, 0.5256776034236805, 0.40442225392296727, 0.3937232524964337, 0.6540656205420827, 0.7182596291012839, 0.4543509272467904, 0.5399429386590585, 0.7182596291012839, 0.8823109843081313, 0.5078459343794579, 0.6825962910128388, 0.5827389443651926, 0.4579172610556348, 0.4293865905848788, 0.5898716119828816, 0.529243937232525, 0.3437945791726106, 0.36875891583452214, 0.5399429386590585, 0.5827389443651926, 0.2867332382310984, 0.43295292439372324, 0.5720399429386591, 0.5613409415121255, 0.5042796005706135, 0.557774607703281, 0.7004279600570614, 0.6219686162624822, 0.7039942938659058, 0.6504992867332383, 0.782453637660485, 0.557774607703281, 0.6005706134094152, 0.4935805991440799, 0.7075606276747504, 0.7182596291012839, 0.17261055634807418, 0.2867332382310984, 0.12268188302425106, 0.2510699001426534, 0.10128388017118403, 0.054921540656205386, 0.2853067047075606, 0.15977175463623397, 0.1654778887303852, 0.33666191155492153, 0.31383737517831667, 0.4222539229671898, 0.09415121255349498, 0.13837375178316688, 0.5042796005706135, 0.4336661911554922, 0.10699001426533525, 0.08131241084165478, 0.15834522111269614, 0.33666191155492153, 0.1319543509272468, 0.0, 0.3109843081312411, 0.2510699001426534, 0.16904422253922965, 0.17261055634807418, 0.12268188302425106, 0.15477888730385161, 0.20256776034236804, 0.2867332382310984, 0.24750356633380885, 0.1440798858773181, 0.12268188302425106, 0.15477888730385161, 0.008559201141226797, 0.047788873038516394, 0.4700427960057062, 0.24750356633380885, 0.10699001426533525, 0.27246790299572043, 0.09129814550641938, 0.30813124108416545, 0.20256776034236804, 0.11412268188302424, 0.09771754636233951, 0.2810271041369472, 0.02639087018544936, 0.1654778887303852, 0.14978601997146931, 0.02425106990014264, 0.2867332382310984, 0.20256776034236804, 0.033523537803138354, 0.23466476462196864, 0.11126961483594863, 0.07631954350927247, 0.09201141226818829, 0.15477888730385161, 0.047788873038516394, 0.06704707560627673, 0.20399429386590587, 0.24750356633380885, 0.13338088445078458, 0.062054208273894434, 0.07275320970042795, 0.07275320970042795, 0.07132667617689017, 0.052781740370898694, 0.1340941512125535, 0.0456490727532097, 0.21540656205420824, 0.2510699001426534, 0.17974322396576317, 0.20114122681883026, 0.22967189728958629, 0.2653352353780314, 0.297432239657632, 0.3152639087018545, 0.16904422253922965, 0.21540656205420824, 0.2225392296718973, 0.22967189728958629, 0.35805991440798857, 0.17261055634807418, 0.1940085592011412, 0.4115549215406562, 0.3937232524964337, 0.09771754636233951, 0.24750356633380885, 0.2653352353780314, 0.1940085592011412, 0.15834522111269614, 0.1440798858773181, 0.1048502139800285, 0.2831669044222539, 0.25820256776034234, 0.318830242510699, 0.1440798858773181, 0.4293865905848788, 0.27246790299572043, 0.24393723252496433, 0.17261055634807418, 0.2867332382310984, 0.20827389443651925, 0.2831669044222539, 0.2403708987161198, 0.17261055634807418, 0.297432239657632, 0.29029957203994294, 0.33666191155492153, 0.2510699001426534, 0.1654778887303852, 0.1369472182596291, 0.27246790299572043, 0.3295292439372326, 0.33666191155492153, 0.3972895863052782, 0.40085592011412274, 0.20114122681883026]}, {\"marker\": {\"color\": [2.0, 2.0, 2.0, 2.0, 2.0, 2.0, 2.0, 2.0, 2.0, 2.0, 2.0, 2.0, 2.0, 2.0, 2.0, 2.0, 2.0, 2.0, 2.0, 2.0, 2.0, 2.0, 2.0, 2.0, 2.0, 2.0, 2.0, 2.0, 2.0, 2.0, 2.0, 2.0, 2.0, 2.0, 2.0, 2.0, 2.0, 2.0, 2.0, 2.0, 2.0, 2.0, 2.0, 2.0, 2.0, 2.0, 2.0, 2.0, 2.0, 2.0, 2.0, 2.0, 2.0, 2.0, 2.0, 2.0, 2.0, 2.0, 2.0, 1.0, 0.0, 0.0, 1.0, 1.0, 1.0, 1.0, 1.0, 1.0, 0.0, 1.0, 0.0, 1.0, 1.0, 2.0, 1.0, 1.0, 1.0, 1.0, 1.0, 1.0, 1.0, 1.0, 1.0, 0.0, 1.0, 1.0, 1.0, 1.0, 1.0, 1.0, 1.0, 1.0, 1.0, 1.0, 1.0, 2.0, 1.0, 1.0, 1.0, 1.0, 1.0, 1.0, 1.0, 1.0, 1.0, 1.0, 1.0, 1.0, 1.0, 1.0, 1.0, 1.0, 1.0, 1.0, 1.0, 1.0, 1.0, 1.0, 0.0, 1.0, 1.0, 1.0, 1.0, 1.0, 1.0, 1.0, 1.0, 1.0, 1.0, 1.0, 0.0, 0.0, 0.0, 0.0, 0.0, 0.0, 0.0, 0.0, 0.0, 0.0, 0.0, 0.0, 0.0, 0.0, 0.0, 0.0, 0.0, 0.0, 0.0, 0.0, 0.0, 0.0, 0.0, 0.0, 0.0, 0.0, 0.0, 0.0, 0.0, 0.0, 0.0, 0.0, 0.0, 0.0, 0.0, 0.0, 0.0, 0.0, 0.0, 0.0, 0.0, 0.0, 0.0, 0.0, 0.0, 0.0, 0.0, 0.0]}, \"mode\": \"markers\", \"text\": [2.0, 2.0, 2.0, 2.0, 2.0, 2.0, 2.0, 2.0, 2.0, 2.0, 2.0, 2.0, 2.0, 2.0, 2.0, 2.0, 2.0, 2.0, 2.0, 2.0, 2.0, 2.0, 2.0, 2.0, 2.0, 2.0, 2.0, 2.0, 2.0, 2.0, 2.0, 2.0, 2.0, 2.0, 2.0, 2.0, 2.0, 2.0, 2.0, 2.0, 2.0, 2.0, 2.0, 2.0, 2.0, 2.0, 2.0, 2.0, 2.0, 2.0, 2.0, 2.0, 2.0, 2.0, 2.0, 2.0, 2.0, 2.0, 2.0, 1.0, 0.0, 0.0, 1.0, 1.0, 1.0, 1.0, 1.0, 1.0, 0.0, 1.0, 0.0, 1.0, 1.0, 2.0, 1.0, 1.0, 1.0, 1.0, 1.0, 1.0, 1.0, 1.0, 1.0, 0.0, 1.0, 1.0, 1.0, 1.0, 1.0, 1.0, 1.0, 1.0, 1.0, 1.0, 1.0, 2.0, 1.0, 1.0, 1.0, 1.0, 1.0, 1.0, 1.0, 1.0, 1.0, 1.0, 1.0, 1.0, 1.0, 1.0, 1.0, 1.0, 1.0, 1.0, 1.0, 1.0, 1.0, 1.0, 0.0, 1.0, 1.0, 1.0, 1.0, 1.0, 1.0, 1.0, 1.0, 1.0, 1.0, 1.0, 0.0, 0.0, 0.0, 0.0, 0.0, 0.0, 0.0, 0.0, 0.0, 0.0, 0.0, 0.0, 0.0, 0.0, 0.0, 0.0, 0.0, 0.0, 0.0, 0.0, 0.0, 0.0, 0.0, 0.0, 0.0, 0.0, 0.0, 0.0, 0.0, 0.0, 0.0, 0.0, 0.0, 0.0, 0.0, 0.0, 0.0, 0.0, 0.0, 0.0, 0.0, 0.0, 0.0, 0.0, 0.0, 0.0, 0.0, 0.0], \"type\": \"scatter3d\", \"x\": [0.48878144197952217, 0.14778698737743107, 0.35534045767358585], \"y\": [0.5466861598440547, 0.31336675020885574, 0.7056514236410701], \"z\": [0.24911502086965714, 0.15637524624685828, 0.5938939688033489]}, {\"marker\": {\"color\": \"red\"}, \"mode\": \"markers\", \"text\": [\"0\", \"1\", \"2\"], \"type\": \"scatter3d\", \"x\": [0.48878144197952217, 0.14778698737743107, 0.35534045767358585], \"y\": [0.5466861598440547, 0.31336675020885574, 0.7056514236410701], \"z\": [0.24911502086965714, 0.15637524624685828, 0.5938939688033489]}],\n",
              "                        {\"scene\": {\"xaxis\": {\"title\": {\"text\": \"Intensidade de Cor\"}}, \"yaxis\": {\"title\": {\"text\": \"\\u00c1lcool\"}}, \"zaxis\": {\"title\": {\"text\": \"Proline\"}}}, \"template\": {\"data\": {\"bar\": [{\"error_x\": {\"color\": \"#2a3f5f\"}, \"error_y\": {\"color\": \"#2a3f5f\"}, \"marker\": {\"line\": {\"color\": \"#E5ECF6\", \"width\": 0.5}}, \"type\": \"bar\"}], \"barpolar\": [{\"marker\": {\"line\": {\"color\": \"#E5ECF6\", \"width\": 0.5}}, \"type\": \"barpolar\"}], \"carpet\": [{\"aaxis\": {\"endlinecolor\": \"#2a3f5f\", \"gridcolor\": \"white\", \"linecolor\": \"white\", \"minorgridcolor\": \"white\", \"startlinecolor\": \"#2a3f5f\"}, \"baxis\": {\"endlinecolor\": \"#2a3f5f\", \"gridcolor\": \"white\", \"linecolor\": \"white\", \"minorgridcolor\": \"white\", \"startlinecolor\": \"#2a3f5f\"}, \"type\": \"carpet\"}], \"choropleth\": [{\"colorbar\": {\"outlinewidth\": 0, \"ticks\": \"\"}, \"type\": \"choropleth\"}], \"contour\": [{\"colorbar\": {\"outlinewidth\": 0, \"ticks\": \"\"}, \"colorscale\": [[0.0, \"#0d0887\"], [0.1111111111111111, \"#46039f\"], [0.2222222222222222, \"#7201a8\"], [0.3333333333333333, \"#9c179e\"], [0.4444444444444444, \"#bd3786\"], [0.5555555555555556, \"#d8576b\"], [0.6666666666666666, \"#ed7953\"], [0.7777777777777778, \"#fb9f3a\"], [0.8888888888888888, \"#fdca26\"], [1.0, \"#f0f921\"]], \"type\": \"contour\"}], \"contourcarpet\": [{\"colorbar\": {\"outlinewidth\": 0, \"ticks\": \"\"}, \"type\": \"contourcarpet\"}], \"heatmap\": [{\"colorbar\": {\"outlinewidth\": 0, \"ticks\": \"\"}, \"colorscale\": [[0.0, \"#0d0887\"], [0.1111111111111111, \"#46039f\"], [0.2222222222222222, \"#7201a8\"], [0.3333333333333333, \"#9c179e\"], [0.4444444444444444, \"#bd3786\"], [0.5555555555555556, \"#d8576b\"], [0.6666666666666666, \"#ed7953\"], [0.7777777777777778, \"#fb9f3a\"], [0.8888888888888888, \"#fdca26\"], [1.0, \"#f0f921\"]], \"type\": \"heatmap\"}], \"heatmapgl\": [{\"colorbar\": {\"outlinewidth\": 0, \"ticks\": \"\"}, \"colorscale\": [[0.0, \"#0d0887\"], [0.1111111111111111, \"#46039f\"], [0.2222222222222222, \"#7201a8\"], [0.3333333333333333, \"#9c179e\"], [0.4444444444444444, \"#bd3786\"], [0.5555555555555556, \"#d8576b\"], [0.6666666666666666, \"#ed7953\"], [0.7777777777777778, \"#fb9f3a\"], [0.8888888888888888, \"#fdca26\"], [1.0, \"#f0f921\"]], \"type\": \"heatmapgl\"}], \"histogram\": [{\"marker\": {\"colorbar\": {\"outlinewidth\": 0, \"ticks\": \"\"}}, \"type\": \"histogram\"}], \"histogram2d\": [{\"colorbar\": {\"outlinewidth\": 0, \"ticks\": \"\"}, \"colorscale\": [[0.0, \"#0d0887\"], [0.1111111111111111, \"#46039f\"], [0.2222222222222222, \"#7201a8\"], [0.3333333333333333, \"#9c179e\"], [0.4444444444444444, \"#bd3786\"], [0.5555555555555556, \"#d8576b\"], [0.6666666666666666, \"#ed7953\"], [0.7777777777777778, \"#fb9f3a\"], [0.8888888888888888, \"#fdca26\"], [1.0, \"#f0f921\"]], \"type\": \"histogram2d\"}], \"histogram2dcontour\": [{\"colorbar\": {\"outlinewidth\": 0, \"ticks\": \"\"}, \"colorscale\": [[0.0, \"#0d0887\"], [0.1111111111111111, \"#46039f\"], [0.2222222222222222, \"#7201a8\"], [0.3333333333333333, \"#9c179e\"], [0.4444444444444444, \"#bd3786\"], [0.5555555555555556, \"#d8576b\"], [0.6666666666666666, \"#ed7953\"], [0.7777777777777778, \"#fb9f3a\"], [0.8888888888888888, \"#fdca26\"], [1.0, \"#f0f921\"]], \"type\": \"histogram2dcontour\"}], \"mesh3d\": [{\"colorbar\": {\"outlinewidth\": 0, \"ticks\": \"\"}, \"type\": \"mesh3d\"}], \"parcoords\": [{\"line\": {\"colorbar\": {\"outlinewidth\": 0, \"ticks\": \"\"}}, \"type\": \"parcoords\"}], \"scatter\": [{\"marker\": {\"colorbar\": {\"outlinewidth\": 0, \"ticks\": \"\"}}, \"type\": \"scatter\"}], \"scatter3d\": [{\"line\": {\"colorbar\": {\"outlinewidth\": 0, \"ticks\": \"\"}}, \"marker\": {\"colorbar\": {\"outlinewidth\": 0, \"ticks\": \"\"}}, \"type\": \"scatter3d\"}], \"scattercarpet\": [{\"marker\": {\"colorbar\": {\"outlinewidth\": 0, \"ticks\": \"\"}}, \"type\": \"scattercarpet\"}], \"scattergeo\": [{\"marker\": {\"colorbar\": {\"outlinewidth\": 0, \"ticks\": \"\"}}, \"type\": \"scattergeo\"}], \"scattergl\": [{\"marker\": {\"colorbar\": {\"outlinewidth\": 0, \"ticks\": \"\"}}, \"type\": \"scattergl\"}], \"scattermapbox\": [{\"marker\": {\"colorbar\": {\"outlinewidth\": 0, \"ticks\": \"\"}}, \"type\": \"scattermapbox\"}], \"scatterpolar\": [{\"marker\": {\"colorbar\": {\"outlinewidth\": 0, \"ticks\": \"\"}}, \"type\": \"scatterpolar\"}], \"scatterpolargl\": [{\"marker\": {\"colorbar\": {\"outlinewidth\": 0, \"ticks\": \"\"}}, \"type\": \"scatterpolargl\"}], \"scatterternary\": [{\"marker\": {\"colorbar\": {\"outlinewidth\": 0, \"ticks\": \"\"}}, \"type\": \"scatterternary\"}], \"surface\": [{\"colorbar\": {\"outlinewidth\": 0, \"ticks\": \"\"}, \"colorscale\": [[0.0, \"#0d0887\"], [0.1111111111111111, \"#46039f\"], [0.2222222222222222, \"#7201a8\"], [0.3333333333333333, \"#9c179e\"], [0.4444444444444444, \"#bd3786\"], [0.5555555555555556, \"#d8576b\"], [0.6666666666666666, \"#ed7953\"], [0.7777777777777778, \"#fb9f3a\"], [0.8888888888888888, \"#fdca26\"], [1.0, \"#f0f921\"]], \"type\": \"surface\"}], \"table\": [{\"cells\": {\"fill\": {\"color\": \"#EBF0F8\"}, \"line\": {\"color\": \"white\"}}, \"header\": {\"fill\": {\"color\": \"#C8D4E3\"}, \"line\": {\"color\": \"white\"}}, \"type\": \"table\"}]}, \"layout\": {\"annotationdefaults\": {\"arrowcolor\": \"#2a3f5f\", \"arrowhead\": 0, \"arrowwidth\": 1}, \"colorscale\": {\"diverging\": [[0, \"#8e0152\"], [0.1, \"#c51b7d\"], [0.2, \"#de77ae\"], [0.3, \"#f1b6da\"], [0.4, \"#fde0ef\"], [0.5, \"#f7f7f7\"], [0.6, \"#e6f5d0\"], [0.7, \"#b8e186\"], [0.8, \"#7fbc41\"], [0.9, \"#4d9221\"], [1, \"#276419\"]], \"sequential\": [[0.0, \"#0d0887\"], [0.1111111111111111, \"#46039f\"], [0.2222222222222222, \"#7201a8\"], [0.3333333333333333, \"#9c179e\"], [0.4444444444444444, \"#bd3786\"], [0.5555555555555556, \"#d8576b\"], [0.6666666666666666, \"#ed7953\"], [0.7777777777777778, \"#fb9f3a\"], [0.8888888888888888, \"#fdca26\"], [1.0, \"#f0f921\"]], \"sequentialminus\": [[0.0, \"#0d0887\"], [0.1111111111111111, \"#46039f\"], [0.2222222222222222, \"#7201a8\"], [0.3333333333333333, \"#9c179e\"], [0.4444444444444444, \"#bd3786\"], [0.5555555555555556, \"#d8576b\"], [0.6666666666666666, \"#ed7953\"], [0.7777777777777778, \"#fb9f3a\"], [0.8888888888888888, \"#fdca26\"], [1.0, \"#f0f921\"]]}, \"colorway\": [\"#636efa\", \"#EF553B\", \"#00cc96\", \"#ab63fa\", \"#FFA15A\", \"#19d3f3\", \"#FF6692\", \"#B6E880\", \"#FF97FF\", \"#FECB52\"], \"font\": {\"color\": \"#2a3f5f\"}, \"geo\": {\"bgcolor\": \"white\", \"lakecolor\": \"white\", \"landcolor\": \"#E5ECF6\", \"showlakes\": true, \"showland\": true, \"subunitcolor\": \"white\"}, \"hoverlabel\": {\"align\": \"left\"}, \"hovermode\": \"closest\", \"mapbox\": {\"style\": \"light\"}, \"paper_bgcolor\": \"white\", \"plot_bgcolor\": \"#E5ECF6\", \"polar\": {\"angularaxis\": {\"gridcolor\": \"white\", \"linecolor\": \"white\", \"ticks\": \"\"}, \"bgcolor\": \"#E5ECF6\", \"radialaxis\": {\"gridcolor\": \"white\", \"linecolor\": \"white\", \"ticks\": \"\"}}, \"scene\": {\"xaxis\": {\"backgroundcolor\": \"#E5ECF6\", \"gridcolor\": \"white\", \"gridwidth\": 2, \"linecolor\": \"white\", \"showbackground\": true, \"ticks\": \"\", \"zerolinecolor\": \"white\"}, \"yaxis\": {\"backgroundcolor\": \"#E5ECF6\", \"gridcolor\": \"white\", \"gridwidth\": 2, \"linecolor\": \"white\", \"showbackground\": true, \"ticks\": \"\", \"zerolinecolor\": \"white\"}, \"zaxis\": {\"backgroundcolor\": \"#E5ECF6\", \"gridcolor\": \"white\", \"gridwidth\": 2, \"linecolor\": \"white\", \"showbackground\": true, \"ticks\": \"\", \"zerolinecolor\": \"white\"}}, \"shapedefaults\": {\"line\": {\"color\": \"#2a3f5f\"}}, \"ternary\": {\"aaxis\": {\"gridcolor\": \"white\", \"linecolor\": \"white\", \"ticks\": \"\"}, \"baxis\": {\"gridcolor\": \"white\", \"linecolor\": \"white\", \"ticks\": \"\"}, \"bgcolor\": \"#E5ECF6\", \"caxis\": {\"gridcolor\": \"white\", \"linecolor\": \"white\", \"ticks\": \"\"}}, \"title\": {\"x\": 0.05}, \"xaxis\": {\"automargin\": true, \"gridcolor\": \"white\", \"linecolor\": \"white\", \"ticks\": \"\", \"zerolinecolor\": \"white\", \"zerolinewidth\": 2}, \"yaxis\": {\"automargin\": true, \"gridcolor\": \"white\", \"linecolor\": \"white\", \"ticks\": \"\", \"zerolinecolor\": \"white\", \"zerolinewidth\": 2}}}},\n",
              "                        {\"responsive\": true}\n",
              "                    ).then(function(){\n",
              "                            \n",
              "var gd = document.getElementById('5e4ca13a-5e6d-4720-a740-17e3028ab4ff');\n",
              "var x = new MutationObserver(function (mutations, observer) {{\n",
              "        var display = window.getComputedStyle(gd).display;\n",
              "        if (!display || display === 'none') {{\n",
              "            console.log([gd, 'removed!']);\n",
              "            Plotly.purge(gd);\n",
              "            observer.disconnect();\n",
              "        }}\n",
              "}});\n",
              "\n",
              "// Listen for the removal of the full notebook cells\n",
              "var notebookContainer = gd.closest('#notebook-container');\n",
              "if (notebookContainer) {{\n",
              "    x.observe(notebookContainer, {childList: true});\n",
              "}}\n",
              "\n",
              "// Listen for the clearing of the current output cell\n",
              "var outputEl = gd.closest('.output');\n",
              "if (outputEl) {{\n",
              "    x.observe(outputEl, {childList: true});\n",
              "}}\n",
              "\n",
              "                        })\n",
              "                };\n",
              "                \n",
              "            </script>\n",
              "        </div>\n",
              "</body>\n",
              "</html>"
            ]
          },
          "metadata": {}
        }
      ]
    },
    {
      "cell_type": "markdown",
      "source": [
        "# Utilizando DBScan"
      ],
      "metadata": {
        "id": "izTFrk8a1pun"
      }
    },
    {
      "cell_type": "code",
      "source": [
        "from sklearn.cluster import DBSCAN"
      ],
      "metadata": {
        "id": "vf6vMTT9Z5qM"
      },
      "execution_count": null,
      "outputs": []
    },
    {
      "cell_type": "code",
      "source": [
        "agrupador = DBSCAN(eps=1.31, min_samples = 15, metric = 'manhattan')"
      ],
      "metadata": {
        "id": "7PC0jZqOchAw"
      },
      "execution_count": null,
      "outputs": []
    },
    {
      "cell_type": "code",
      "source": [
        "agrupador.fit(dados)"
      ],
      "metadata": {
        "colab": {
          "base_uri": "https://localhost:8080/"
        },
        "id": "82dk3I-KcoYm",
        "outputId": "3ed33305-cada-42c0-e5c7-342d1cb5ef3f"
      },
      "execution_count": null,
      "outputs": [
        {
          "output_type": "execute_result",
          "data": {
            "text/plain": [
              "DBSCAN(eps=1.31, metric='manhattan', min_samples=15)"
            ]
          },
          "metadata": {},
          "execution_count": 40
        }
      ]
    },
    {
      "cell_type": "code",
      "source": [
        "agrupador.labels_"
      ],
      "metadata": {
        "colab": {
          "base_uri": "https://localhost:8080/"
        },
        "id": "kRhvZXcecpUf",
        "outputId": "118374a0-b0c9-4c56-e503-9114b68f0c9f"
      },
      "execution_count": null,
      "outputs": [
        {
          "output_type": "execute_result",
          "data": {
            "text/plain": [
              "array([ 0,  0,  0,  0, -1,  0,  0,  0,  0,  0,  0,  0,  0, -1,  0,  0,  0,\n",
              "        0,  0,  0,  0,  0,  0,  0,  0, -1,  0,  0,  0,  0,  0,  0,  0,  0,\n",
              "        0,  0,  0,  0,  0, -1,  0, -1,  0, -1,  0, -1,  0,  0,  0,  0, -1,\n",
              "        0,  0,  0,  0,  0,  0,  0,  0, -1, -1, -1, -1, -1, -1, -1, -1,  1,\n",
              "       -1, -1, -1, -1, -1, -1, -1, -1, -1, -1, -1, -1, -1,  1, -1, -1, -1,\n",
              "        1, -1, -1, -1, -1,  1,  1, -1, -1, -1, -1, -1, -1, -1, -1, -1,  1,\n",
              "       -1,  1,  1, -1,  1,  1,  1, -1, -1, -1, -1, -1, -1, -1,  1,  1, -1,\n",
              "        1, -1, -1, -1, -1, -1,  1, -1, -1, -1, -1, -1,  2, -1,  2, -1,  2,\n",
              "       -1, -1,  2, -1, -1,  2, -1, -1,  2,  2, -1,  2,  2,  2, -1, -1, -1,\n",
              "        2, -1,  2,  2, -1, -1, -1,  2,  2,  2,  2,  2, -1,  2,  2,  2, -1,\n",
              "        2,  2,  2,  2,  2,  2,  2,  2])"
            ]
          },
          "metadata": {},
          "execution_count": 42
        }
      ]
    },
    {
      "cell_type": "code",
      "source": [
        "fig = go.Figure()\n",
        "fig.add_trace(go.Scatter3d(x=dados['Intensidade_de_cor'],\n",
        "                         y=dados['Alcool'], z = dados['Proline'],\n",
        "                         mode='markers',                      \n",
        "                      marker=dict(color =labels.astype(np.float)),\n",
        "                        text=labels))\n",
        "fig.show()"
      ],
      "metadata": {
        "colab": {
          "base_uri": "https://localhost:8080/",
          "height": 649
        },
        "id": "7qrEEkl3crc9",
        "outputId": "38ce6ea2-a2bc-42a1-fa52-a8db579aef93"
      },
      "execution_count": null,
      "outputs": [
        {
          "output_type": "stream",
          "name": "stderr",
          "text": [
            "/usr/local/lib/python3.7/dist-packages/ipykernel_launcher.py:5: DeprecationWarning:\n",
            "\n",
            "`np.float` is a deprecated alias for the builtin `float`. To silence this warning, use `float` by itself. Doing this will not modify any behavior and is safe. If you specifically wanted the numpy scalar type, use `np.float64` here.\n",
            "Deprecated in NumPy 1.20; for more details and guidance: https://numpy.org/devdocs/release/1.20.0-notes.html#deprecations\n",
            "\n"
          ]
        },
        {
          "output_type": "display_data",
          "data": {
            "text/html": [
              "<html>\n",
              "<head><meta charset=\"utf-8\" /></head>\n",
              "<body>\n",
              "    <div>\n",
              "            <script src=\"https://cdnjs.cloudflare.com/ajax/libs/mathjax/2.7.5/MathJax.js?config=TeX-AMS-MML_SVG\"></script><script type=\"text/javascript\">if (window.MathJax) {MathJax.Hub.Config({SVG: {font: \"STIX-Web\"}});}</script>\n",
              "                <script type=\"text/javascript\">window.PlotlyConfig = {MathJaxConfig: 'local'};</script>\n",
              "        <script src=\"https://cdn.plot.ly/plotly-latest.min.js\"></script>    \n",
              "            <div id=\"6298b197-45a3-4425-957a-57df2a23557e\" class=\"plotly-graph-div\" style=\"height:525px; width:100%;\"></div>\n",
              "            <script type=\"text/javascript\">\n",
              "                \n",
              "                    window.PLOTLYENV=window.PLOTLYENV || {};\n",
              "                    \n",
              "                if (document.getElementById(\"6298b197-45a3-4425-957a-57df2a23557e\")) {\n",
              "                    Plotly.newPlot(\n",
              "                        '6298b197-45a3-4425-957a-57df2a23557e',\n",
              "                        [{\"marker\": {\"color\": [2.0, 2.0, 2.0, 2.0, 2.0, 2.0, 2.0, 2.0, 2.0, 2.0, 2.0, 2.0, 2.0, 2.0, 2.0, 2.0, 2.0, 2.0, 2.0, 2.0, 2.0, 2.0, 2.0, 2.0, 2.0, 2.0, 2.0, 2.0, 2.0, 2.0, 2.0, 2.0, 2.0, 2.0, 2.0, 2.0, 2.0, 2.0, 2.0, 2.0, 2.0, 2.0, 2.0, 2.0, 2.0, 2.0, 2.0, 2.0, 2.0, 2.0, 2.0, 2.0, 2.0, 2.0, 2.0, 2.0, 2.0, 2.0, 2.0, 1.0, 0.0, 0.0, 1.0, 1.0, 1.0, 1.0, 1.0, 1.0, 0.0, 1.0, 0.0, 1.0, 1.0, 2.0, 1.0, 1.0, 1.0, 1.0, 1.0, 1.0, 1.0, 1.0, 1.0, 0.0, 1.0, 1.0, 1.0, 1.0, 1.0, 1.0, 1.0, 1.0, 1.0, 1.0, 1.0, 2.0, 1.0, 1.0, 1.0, 1.0, 1.0, 1.0, 1.0, 1.0, 1.0, 1.0, 1.0, 1.0, 1.0, 1.0, 1.0, 1.0, 1.0, 1.0, 1.0, 1.0, 1.0, 1.0, 0.0, 1.0, 1.0, 1.0, 1.0, 1.0, 1.0, 1.0, 1.0, 1.0, 1.0, 1.0, 0.0, 0.0, 0.0, 0.0, 0.0, 0.0, 0.0, 0.0, 0.0, 0.0, 0.0, 0.0, 0.0, 0.0, 0.0, 0.0, 0.0, 0.0, 0.0, 0.0, 0.0, 0.0, 0.0, 0.0, 0.0, 0.0, 0.0, 0.0, 0.0, 0.0, 0.0, 0.0, 0.0, 0.0, 0.0, 0.0, 0.0, 0.0, 0.0, 0.0, 0.0, 0.0, 0.0, 0.0, 0.0, 0.0, 0.0, 0.0]}, \"mode\": \"markers\", \"text\": [2.0, 2.0, 2.0, 2.0, 2.0, 2.0, 2.0, 2.0, 2.0, 2.0, 2.0, 2.0, 2.0, 2.0, 2.0, 2.0, 2.0, 2.0, 2.0, 2.0, 2.0, 2.0, 2.0, 2.0, 2.0, 2.0, 2.0, 2.0, 2.0, 2.0, 2.0, 2.0, 2.0, 2.0, 2.0, 2.0, 2.0, 2.0, 2.0, 2.0, 2.0, 2.0, 2.0, 2.0, 2.0, 2.0, 2.0, 2.0, 2.0, 2.0, 2.0, 2.0, 2.0, 2.0, 2.0, 2.0, 2.0, 2.0, 2.0, 1.0, 0.0, 0.0, 1.0, 1.0, 1.0, 1.0, 1.0, 1.0, 0.0, 1.0, 0.0, 1.0, 1.0, 2.0, 1.0, 1.0, 1.0, 1.0, 1.0, 1.0, 1.0, 1.0, 1.0, 0.0, 1.0, 1.0, 1.0, 1.0, 1.0, 1.0, 1.0, 1.0, 1.0, 1.0, 1.0, 2.0, 1.0, 1.0, 1.0, 1.0, 1.0, 1.0, 1.0, 1.0, 1.0, 1.0, 1.0, 1.0, 1.0, 1.0, 1.0, 1.0, 1.0, 1.0, 1.0, 1.0, 1.0, 1.0, 0.0, 1.0, 1.0, 1.0, 1.0, 1.0, 1.0, 1.0, 1.0, 1.0, 1.0, 1.0, 0.0, 0.0, 0.0, 0.0, 0.0, 0.0, 0.0, 0.0, 0.0, 0.0, 0.0, 0.0, 0.0, 0.0, 0.0, 0.0, 0.0, 0.0, 0.0, 0.0, 0.0, 0.0, 0.0, 0.0, 0.0, 0.0, 0.0, 0.0, 0.0, 0.0, 0.0, 0.0, 0.0, 0.0, 0.0, 0.0, 0.0, 0.0, 0.0, 0.0, 0.0, 0.0, 0.0, 0.0, 0.0, 0.0, 0.0, 0.0], \"type\": \"scatter3d\", \"x\": [0.3720136518771331, 0.26450511945392485, 0.3754266211604095, 0.5563139931740614, 0.2593856655290102, 0.4667235494880546, 0.3387372013651877, 0.3216723549488054, 0.33447098976109213, 0.5068259385665529, 0.3813993174061433, 0.31740614334470985, 0.3686006825938566, 0.3515358361774744, 0.5307167235494881, 0.5136518771331058, 0.41979522184300344, 0.4539249146757679, 0.6331058020477814, 0.325938566552901, 0.37286689419795227, 0.27474402730375425, 0.21501706484641633, 0.22610921501706485, 0.1911262798634812, 0.1962457337883959, 0.30034129692832756, 0.22781569965870305, 0.27474402730375425, 0.29180887372013653, 0.37713310580204773, 0.4795221843003413, 0.21843003412969278, 0.3515358361774744, 0.2491467576791809, 0.325938566552901, 0.2832764505119454, 0.2534129692832764, 0.20648464163822525, 0.325938566552901, 0.4138225255972696, 0.2559726962457338, 0.35409556313993173, 0.2627986348122867, 0.32081911262798635, 0.33788395904436863, 0.3088737201365188, 0.4112627986348123, 0.41979522184300344, 0.6501706484641638, 0.5051194539249146, 0.3686006825938566, 0.4923208191126279, 0.42832764505119447, 0.38993174061433444, 0.424061433447099, 0.4351535836177475, 0.40273037542662116, 0.4709897610921502, 0.057167235494880536, 0.1697952218430034, 0.3813993174061433, 0.21501706484641633, 0.2704778156996587, 0.1424914675767918, 0.2832764505119454, 0.3430034129692833, 0.2901023890784983, 0.16126279863481227, 0.13395904436860068, 0.15102389078498293, 0.17918088737201363, 0.2098976109215017, 0.1766211604095563, 0.16467576791808872, 0.21501706484641633, 0.2832764505119454, 0.11689419795221842, 0.18088737201365188, 0.1100682593856655, 0.10409556313993173, 0.22354948805460748, 0.07849829351535836, 0.30034129692832756, 0.15102389078498293, 0.1143344709897611, 0.09982935153583619, 0.11262798634812288, 0.1296928327645051, 0.03924914675767918, 0.09556313993174059, 0.1979522184300341, 0.15102389078498293, 0.07423208191126279, 0.16808873720136516, 0.11262798634812288, 0.10409556313993173, 0.13822525597269622, 0.27474402730375425, 0.08703071672354948, 0.17235494880546073, 0.09982935153583619, 0.1296928327645051, 0.06655290102389078, 0.14163822525597267, 0.12116040955631399, 0.18088737201365188, 0.17235494880546073, 0.12116040955631399, 0.11689419795221842, 0.13822525597269622, 0.06143344709897611, 0.21501706484641633, 0.15358361774744025, 0.13822525597269622, 0.052901023890784965, 0.057167235494880536, 0.06655290102389078, 0.18088737201365188, 0.0, 0.16808873720136516, 0.40273037542662116, 0.06825938566552903, 0.11262798634812288, 0.1296928327645051, 0.12627986348122863, 0.22696245733788392, 0.14675767918088736, 0.07167235494880547, 0.11262798634812288, 0.2406143344709897, 0.3515358361774744, 0.37713310580204773, 0.31740614334470985, 0.35580204778157, 0.4965870307167235, 0.21928327645051196, 0.31740614334470985, 0.37713310580204773, 0.31058020477815695, 0.2832764505119454, 0.3686006825938566, 0.26194539249146753, 0.2662116040955631, 0.5912969283276451, 0.23208191126279862, 0.3088737201365188, 0.5435153583617748, 0.6092150170648464, 0.6928327645051194, 0.6245733788395904, 0.8122866894197952, 0.4965870307167235, 0.78839590443686, 0.5392491467576791, 0.5648464163822525, 0.659556313993174, 0.5307167235494881, 0.9999999999999999, 0.893344709897611, 0.5435153583617748, 0.39249146757679176, 0.36689419795221845, 0.341296928327645, 0.7081911262798635, 0.45563139931740615, 0.8020477815699658, 0.7662116040955631, 0.6296928327645052, 0.6160409556313993, 0.36006825938566556, 0.7354947952218429, 0.7184300341296928, 0.5477815699658704, 0.5136518771331058, 0.7610921501706484, 0.6843003412969284, 0.6757679180887372], \"y\": [0.8421052631578951, 0.5710526315789473, 0.560526315789474, 0.8789473684210525, 0.5815789473684214, 0.8342105263157893, 0.8842105263157896, 0.797368421052632, 1.0, 0.7447368421052629, 0.8078947368421052, 0.8131578947368419, 0.7157894736842105, 0.9789473684210526, 0.8815789473684212, 0.6842105263157898, 0.8605263157894738, 0.736842105263158, 0.831578947368421, 0.6868421052631581, 0.797368421052632, 0.5, 0.7052631578947373, 0.47894736842105257, 0.6499999999999999, 0.5315789473684216, 0.6210526315789475, 0.5973684210526318, 0.7473684210526317, 0.7868421052631578, 0.7105263157894739, 0.6710526315789473, 0.6973684210526314, 0.7184210526315788, 0.6526315789473687, 0.6447368421052633, 0.5921052631578947, 0.5315789473684216, 0.5368421052631582, 0.8394736842105264, 0.6657894736842107, 0.6263157894736846, 0.7500000000000004, 0.5815789473684214, 0.5315789473684216, 0.836842105263158, 0.8815789473684212, 0.7552631578947371, 0.8078947368421052, 0.7657894736842104, 0.5315789473684216, 0.736842105263158, 0.7342105263157896, 0.7210526315789472, 0.7131578947368422, 0.6657894736842107, 0.8394736842105264, 0.594736842105263, 0.7078947368421056, 0.3526315789473684, 0.34210526315789513, 0.4236842105263161, 0.6947368421052631, 0.3526315789473684, 0.30000000000000027, 0.3526315789473684, 0.5473684210526315, 0.3526315789473684, 0.6078947368421055, 0.310526315789474, 0.331578947368421, 0.7447368421052629, 0.6473684210526316, 0.5157894736842108, 0.2447368421052638, 0.1657894736842107, 0.5263157894736841, 0.2131578947368422, 0.34210526315789513, 0.43947368421052646, 0.2552631578947371, 0.44473684210526354, 0.2763157894736845, 0.5315789473684216, 0.2131578947368422, 0.43157894736842106, 0.29736842105263195, 0.1631578947368424, 0.16052631578947407, 0.2763157894736845, 0.2763157894736845, 0.2552631578947371, 0.43684210526315814, 0.331578947368421, 0.155263157894737, 0.3789473684210529, 0.20526315789473726, 0.331578947368421, 0.3526315789473684, 0.331578947368421, 0.2763157894736845, 0.4131578947368424, 0.34473684210526345, 0.20789473684210558, 0.38947368421052664, 0.3657894736842109, 0.3210526315789477, 0.44473684210526354, 0.3131578947368423, 0.15263157894736867, 0.11315789473684257, 0.39210526315789496, 0.19210526315789478, 0.10000000000000053, 0.2763157894736845, 0.0, 0.20789473684210558, 0.3657894736842109, 0.45789473684210513, 0.2552631578947371, 0.1105263157894738, 0.13947368421052664, 0.3657894736842109, 0.5315789473684216, 0.2210526315789476, 0.2736842105263162, 0.3684210526315792, 0.20000000000000018, 0.3526315789473684, 0.26578947368421035, 0.4815789473684209, 0.4868421052631584, 0.4684210526315793, 0.43947368421052646, 0.38947368421052664, 0.4131578947368424, 0.3210526315789477, 0.3947368421052633, 0.6473684210526316, 0.47631578947368425, 0.5, 0.6131578947368421, 0.655263157894737, 0.6815789473684211, 0.3210526315789477, 0.560526315789474, 0.7500000000000004, 0.48421052631578965, 0.6026315789473689, 0.5394736842105265, 0.6499999999999999, 0.4631578947368422, 0.5473684210526315, 0.5789473684210531, 0.4078947368421053, 0.5631578947368423, 0.7394736842105263, 0.37368421052631584, 0.8710526315789475, 0.6447368421052633, 0.3500000000000001, 0.7000000000000002, 0.47894736842105257, 0.5078947368421058, 0.7236842105263159, 0.7105263157894739, 0.6368421052631579, 0.4710526315789476, 0.6710526315789473, 0.6236842105263158, 0.3078947368421052, 0.45789473684210513, 0.823684210526316, 0.7052631578947373, 0.6236842105263158, 0.5894736842105264, 0.5631578947368423, 0.8157894736842106], \"z\": [0.5613409415121255, 0.5506419400855921, 0.6469329529243938, 0.8573466476462198, 0.3259629101283881, 0.8359486447931527, 0.7218259629101285, 0.725392296718973, 0.5470756062767476, 0.5470756062767476, 0.8787446504992867, 0.7146932952924394, 0.7432239657631955, 0.6219686162624822, 0.9051355206847361, 0.7360912981455064, 0.7146932952924394, 0.6077032810271041, 1.0, 0.40442225392296727, 0.35805991440798857, 0.35092724679029963, 0.5399429386590585, 0.5256776034236805, 0.40442225392296727, 0.3937232524964337, 0.6540656205420827, 0.7182596291012839, 0.4543509272467904, 0.5399429386590585, 0.7182596291012839, 0.8823109843081313, 0.5078459343794579, 0.6825962910128388, 0.5827389443651926, 0.4579172610556348, 0.4293865905848788, 0.5898716119828816, 0.529243937232525, 0.3437945791726106, 0.36875891583452214, 0.5399429386590585, 0.5827389443651926, 0.2867332382310984, 0.43295292439372324, 0.5720399429386591, 0.5613409415121255, 0.5042796005706135, 0.557774607703281, 0.7004279600570614, 0.6219686162624822, 0.7039942938659058, 0.6504992867332383, 0.782453637660485, 0.557774607703281, 0.6005706134094152, 0.4935805991440799, 0.7075606276747504, 0.7182596291012839, 0.17261055634807418, 0.2867332382310984, 0.12268188302425106, 0.2510699001426534, 0.10128388017118403, 0.054921540656205386, 0.2853067047075606, 0.15977175463623397, 0.1654778887303852, 0.33666191155492153, 0.31383737517831667, 0.4222539229671898, 0.09415121255349498, 0.13837375178316688, 0.5042796005706135, 0.4336661911554922, 0.10699001426533525, 0.08131241084165478, 0.15834522111269614, 0.33666191155492153, 0.1319543509272468, 0.0, 0.3109843081312411, 0.2510699001426534, 0.16904422253922965, 0.17261055634807418, 0.12268188302425106, 0.15477888730385161, 0.20256776034236804, 0.2867332382310984, 0.24750356633380885, 0.1440798858773181, 0.12268188302425106, 0.15477888730385161, 0.008559201141226797, 0.047788873038516394, 0.4700427960057062, 0.24750356633380885, 0.10699001426533525, 0.27246790299572043, 0.09129814550641938, 0.30813124108416545, 0.20256776034236804, 0.11412268188302424, 0.09771754636233951, 0.2810271041369472, 0.02639087018544936, 0.1654778887303852, 0.14978601997146931, 0.02425106990014264, 0.2867332382310984, 0.20256776034236804, 0.033523537803138354, 0.23466476462196864, 0.11126961483594863, 0.07631954350927247, 0.09201141226818829, 0.15477888730385161, 0.047788873038516394, 0.06704707560627673, 0.20399429386590587, 0.24750356633380885, 0.13338088445078458, 0.062054208273894434, 0.07275320970042795, 0.07275320970042795, 0.07132667617689017, 0.052781740370898694, 0.1340941512125535, 0.0456490727532097, 0.21540656205420824, 0.2510699001426534, 0.17974322396576317, 0.20114122681883026, 0.22967189728958629, 0.2653352353780314, 0.297432239657632, 0.3152639087018545, 0.16904422253922965, 0.21540656205420824, 0.2225392296718973, 0.22967189728958629, 0.35805991440798857, 0.17261055634807418, 0.1940085592011412, 0.4115549215406562, 0.3937232524964337, 0.09771754636233951, 0.24750356633380885, 0.2653352353780314, 0.1940085592011412, 0.15834522111269614, 0.1440798858773181, 0.1048502139800285, 0.2831669044222539, 0.25820256776034234, 0.318830242510699, 0.1440798858773181, 0.4293865905848788, 0.27246790299572043, 0.24393723252496433, 0.17261055634807418, 0.2867332382310984, 0.20827389443651925, 0.2831669044222539, 0.2403708987161198, 0.17261055634807418, 0.297432239657632, 0.29029957203994294, 0.33666191155492153, 0.2510699001426534, 0.1654778887303852, 0.1369472182596291, 0.27246790299572043, 0.3295292439372326, 0.33666191155492153, 0.3972895863052782, 0.40085592011412274, 0.20114122681883026]}],\n",
              "                        {\"template\": {\"data\": {\"bar\": [{\"error_x\": {\"color\": \"#2a3f5f\"}, \"error_y\": {\"color\": \"#2a3f5f\"}, \"marker\": {\"line\": {\"color\": \"#E5ECF6\", \"width\": 0.5}}, \"type\": \"bar\"}], \"barpolar\": [{\"marker\": {\"line\": {\"color\": \"#E5ECF6\", \"width\": 0.5}}, \"type\": \"barpolar\"}], \"carpet\": [{\"aaxis\": {\"endlinecolor\": \"#2a3f5f\", \"gridcolor\": \"white\", \"linecolor\": \"white\", \"minorgridcolor\": \"white\", \"startlinecolor\": \"#2a3f5f\"}, \"baxis\": {\"endlinecolor\": \"#2a3f5f\", \"gridcolor\": \"white\", \"linecolor\": \"white\", \"minorgridcolor\": \"white\", \"startlinecolor\": \"#2a3f5f\"}, \"type\": \"carpet\"}], \"choropleth\": [{\"colorbar\": {\"outlinewidth\": 0, \"ticks\": \"\"}, \"type\": \"choropleth\"}], \"contour\": [{\"colorbar\": {\"outlinewidth\": 0, \"ticks\": \"\"}, \"colorscale\": [[0.0, \"#0d0887\"], [0.1111111111111111, \"#46039f\"], [0.2222222222222222, \"#7201a8\"], [0.3333333333333333, \"#9c179e\"], [0.4444444444444444, \"#bd3786\"], [0.5555555555555556, \"#d8576b\"], [0.6666666666666666, \"#ed7953\"], [0.7777777777777778, \"#fb9f3a\"], [0.8888888888888888, \"#fdca26\"], [1.0, \"#f0f921\"]], \"type\": \"contour\"}], \"contourcarpet\": [{\"colorbar\": {\"outlinewidth\": 0, \"ticks\": \"\"}, \"type\": \"contourcarpet\"}], \"heatmap\": [{\"colorbar\": {\"outlinewidth\": 0, \"ticks\": \"\"}, \"colorscale\": [[0.0, \"#0d0887\"], [0.1111111111111111, \"#46039f\"], [0.2222222222222222, \"#7201a8\"], [0.3333333333333333, \"#9c179e\"], [0.4444444444444444, \"#bd3786\"], [0.5555555555555556, \"#d8576b\"], [0.6666666666666666, \"#ed7953\"], [0.7777777777777778, \"#fb9f3a\"], [0.8888888888888888, \"#fdca26\"], [1.0, \"#f0f921\"]], \"type\": \"heatmap\"}], \"heatmapgl\": [{\"colorbar\": {\"outlinewidth\": 0, \"ticks\": \"\"}, \"colorscale\": [[0.0, \"#0d0887\"], [0.1111111111111111, \"#46039f\"], [0.2222222222222222, \"#7201a8\"], [0.3333333333333333, \"#9c179e\"], [0.4444444444444444, \"#bd3786\"], [0.5555555555555556, \"#d8576b\"], [0.6666666666666666, \"#ed7953\"], [0.7777777777777778, \"#fb9f3a\"], [0.8888888888888888, \"#fdca26\"], [1.0, \"#f0f921\"]], \"type\": \"heatmapgl\"}], \"histogram\": [{\"marker\": {\"colorbar\": {\"outlinewidth\": 0, \"ticks\": \"\"}}, \"type\": \"histogram\"}], \"histogram2d\": [{\"colorbar\": {\"outlinewidth\": 0, \"ticks\": \"\"}, \"colorscale\": [[0.0, \"#0d0887\"], [0.1111111111111111, \"#46039f\"], [0.2222222222222222, \"#7201a8\"], [0.3333333333333333, \"#9c179e\"], [0.4444444444444444, \"#bd3786\"], [0.5555555555555556, \"#d8576b\"], [0.6666666666666666, \"#ed7953\"], [0.7777777777777778, \"#fb9f3a\"], [0.8888888888888888, \"#fdca26\"], [1.0, \"#f0f921\"]], \"type\": \"histogram2d\"}], \"histogram2dcontour\": [{\"colorbar\": {\"outlinewidth\": 0, \"ticks\": \"\"}, \"colorscale\": [[0.0, \"#0d0887\"], [0.1111111111111111, \"#46039f\"], [0.2222222222222222, \"#7201a8\"], [0.3333333333333333, \"#9c179e\"], [0.4444444444444444, \"#bd3786\"], [0.5555555555555556, \"#d8576b\"], [0.6666666666666666, \"#ed7953\"], [0.7777777777777778, \"#fb9f3a\"], [0.8888888888888888, \"#fdca26\"], [1.0, \"#f0f921\"]], \"type\": \"histogram2dcontour\"}], \"mesh3d\": [{\"colorbar\": {\"outlinewidth\": 0, \"ticks\": \"\"}, \"type\": \"mesh3d\"}], \"parcoords\": [{\"line\": {\"colorbar\": {\"outlinewidth\": 0, \"ticks\": \"\"}}, \"type\": \"parcoords\"}], \"scatter\": [{\"marker\": {\"colorbar\": {\"outlinewidth\": 0, \"ticks\": \"\"}}, \"type\": \"scatter\"}], \"scatter3d\": [{\"line\": {\"colorbar\": {\"outlinewidth\": 0, \"ticks\": \"\"}}, \"marker\": {\"colorbar\": {\"outlinewidth\": 0, \"ticks\": \"\"}}, \"type\": \"scatter3d\"}], \"scattercarpet\": [{\"marker\": {\"colorbar\": {\"outlinewidth\": 0, \"ticks\": \"\"}}, \"type\": \"scattercarpet\"}], \"scattergeo\": [{\"marker\": {\"colorbar\": {\"outlinewidth\": 0, \"ticks\": \"\"}}, \"type\": \"scattergeo\"}], \"scattergl\": [{\"marker\": {\"colorbar\": {\"outlinewidth\": 0, \"ticks\": \"\"}}, \"type\": \"scattergl\"}], \"scattermapbox\": [{\"marker\": {\"colorbar\": {\"outlinewidth\": 0, \"ticks\": \"\"}}, \"type\": \"scattermapbox\"}], \"scatterpolar\": [{\"marker\": {\"colorbar\": {\"outlinewidth\": 0, \"ticks\": \"\"}}, \"type\": \"scatterpolar\"}], \"scatterpolargl\": [{\"marker\": {\"colorbar\": {\"outlinewidth\": 0, \"ticks\": \"\"}}, \"type\": \"scatterpolargl\"}], \"scatterternary\": [{\"marker\": {\"colorbar\": {\"outlinewidth\": 0, \"ticks\": \"\"}}, \"type\": \"scatterternary\"}], \"surface\": [{\"colorbar\": {\"outlinewidth\": 0, \"ticks\": \"\"}, \"colorscale\": [[0.0, \"#0d0887\"], [0.1111111111111111, \"#46039f\"], [0.2222222222222222, \"#7201a8\"], [0.3333333333333333, \"#9c179e\"], [0.4444444444444444, \"#bd3786\"], [0.5555555555555556, \"#d8576b\"], [0.6666666666666666, \"#ed7953\"], [0.7777777777777778, \"#fb9f3a\"], [0.8888888888888888, \"#fdca26\"], [1.0, \"#f0f921\"]], \"type\": \"surface\"}], \"table\": [{\"cells\": {\"fill\": {\"color\": \"#EBF0F8\"}, \"line\": {\"color\": \"white\"}}, \"header\": {\"fill\": {\"color\": \"#C8D4E3\"}, \"line\": {\"color\": \"white\"}}, \"type\": \"table\"}]}, \"layout\": {\"annotationdefaults\": {\"arrowcolor\": \"#2a3f5f\", \"arrowhead\": 0, \"arrowwidth\": 1}, \"colorscale\": {\"diverging\": [[0, \"#8e0152\"], [0.1, \"#c51b7d\"], [0.2, \"#de77ae\"], [0.3, \"#f1b6da\"], [0.4, \"#fde0ef\"], [0.5, \"#f7f7f7\"], [0.6, \"#e6f5d0\"], [0.7, \"#b8e186\"], [0.8, \"#7fbc41\"], [0.9, \"#4d9221\"], [1, \"#276419\"]], \"sequential\": [[0.0, \"#0d0887\"], [0.1111111111111111, \"#46039f\"], [0.2222222222222222, \"#7201a8\"], [0.3333333333333333, \"#9c179e\"], [0.4444444444444444, \"#bd3786\"], [0.5555555555555556, \"#d8576b\"], [0.6666666666666666, \"#ed7953\"], [0.7777777777777778, \"#fb9f3a\"], [0.8888888888888888, \"#fdca26\"], [1.0, \"#f0f921\"]], \"sequentialminus\": [[0.0, \"#0d0887\"], [0.1111111111111111, \"#46039f\"], [0.2222222222222222, \"#7201a8\"], [0.3333333333333333, \"#9c179e\"], [0.4444444444444444, \"#bd3786\"], [0.5555555555555556, \"#d8576b\"], [0.6666666666666666, \"#ed7953\"], [0.7777777777777778, \"#fb9f3a\"], [0.8888888888888888, \"#fdca26\"], [1.0, \"#f0f921\"]]}, \"colorway\": [\"#636efa\", \"#EF553B\", \"#00cc96\", \"#ab63fa\", \"#FFA15A\", \"#19d3f3\", \"#FF6692\", \"#B6E880\", \"#FF97FF\", \"#FECB52\"], \"font\": {\"color\": \"#2a3f5f\"}, \"geo\": {\"bgcolor\": \"white\", \"lakecolor\": \"white\", \"landcolor\": \"#E5ECF6\", \"showlakes\": true, \"showland\": true, \"subunitcolor\": \"white\"}, \"hoverlabel\": {\"align\": \"left\"}, \"hovermode\": \"closest\", \"mapbox\": {\"style\": \"light\"}, \"paper_bgcolor\": \"white\", \"plot_bgcolor\": \"#E5ECF6\", \"polar\": {\"angularaxis\": {\"gridcolor\": \"white\", \"linecolor\": \"white\", \"ticks\": \"\"}, \"bgcolor\": \"#E5ECF6\", \"radialaxis\": {\"gridcolor\": \"white\", \"linecolor\": \"white\", \"ticks\": \"\"}}, \"scene\": {\"xaxis\": {\"backgroundcolor\": \"#E5ECF6\", \"gridcolor\": \"white\", \"gridwidth\": 2, \"linecolor\": \"white\", \"showbackground\": true, \"ticks\": \"\", \"zerolinecolor\": \"white\"}, \"yaxis\": {\"backgroundcolor\": \"#E5ECF6\", \"gridcolor\": \"white\", \"gridwidth\": 2, \"linecolor\": \"white\", \"showbackground\": true, \"ticks\": \"\", \"zerolinecolor\": \"white\"}, \"zaxis\": {\"backgroundcolor\": \"#E5ECF6\", \"gridcolor\": \"white\", \"gridwidth\": 2, \"linecolor\": \"white\", \"showbackground\": true, \"ticks\": \"\", \"zerolinecolor\": \"white\"}}, \"shapedefaults\": {\"line\": {\"color\": \"#2a3f5f\"}}, \"ternary\": {\"aaxis\": {\"gridcolor\": \"white\", \"linecolor\": \"white\", \"ticks\": \"\"}, \"baxis\": {\"gridcolor\": \"white\", \"linecolor\": \"white\", \"ticks\": \"\"}, \"bgcolor\": \"#E5ECF6\", \"caxis\": {\"gridcolor\": \"white\", \"linecolor\": \"white\", \"ticks\": \"\"}}, \"title\": {\"x\": 0.05}, \"xaxis\": {\"automargin\": true, \"gridcolor\": \"white\", \"linecolor\": \"white\", \"ticks\": \"\", \"zerolinecolor\": \"white\", \"zerolinewidth\": 2}, \"yaxis\": {\"automargin\": true, \"gridcolor\": \"white\", \"linecolor\": \"white\", \"ticks\": \"\", \"zerolinecolor\": \"white\", \"zerolinewidth\": 2}}}},\n",
              "                        {\"responsive\": true}\n",
              "                    ).then(function(){\n",
              "                            \n",
              "var gd = document.getElementById('6298b197-45a3-4425-957a-57df2a23557e');\n",
              "var x = new MutationObserver(function (mutations, observer) {{\n",
              "        var display = window.getComputedStyle(gd).display;\n",
              "        if (!display || display === 'none') {{\n",
              "            console.log([gd, 'removed!']);\n",
              "            Plotly.purge(gd);\n",
              "            observer.disconnect();\n",
              "        }}\n",
              "}});\n",
              "\n",
              "// Listen for the removal of the full notebook cells\n",
              "var notebookContainer = gd.closest('#notebook-container');\n",
              "if (notebookContainer) {{\n",
              "    x.observe(notebookContainer, {childList: true});\n",
              "}}\n",
              "\n",
              "// Listen for the clearing of the current output cell\n",
              "var outputEl = gd.closest('.output');\n",
              "if (outputEl) {{\n",
              "    x.observe(outputEl, {childList: true});\n",
              "}}\n",
              "\n",
              "                        })\n",
              "                };\n",
              "                \n",
              "            </script>\n",
              "        </div>\n",
              "</body>\n",
              "</html>"
            ]
          },
          "metadata": {}
        }
      ]
    },
    {
      "cell_type": "code",
      "source": [
        "from sklearn.cluster import MeanShift"
      ],
      "metadata": {
        "id": "AvmJV8ZwhHHr"
      },
      "execution_count": null,
      "outputs": []
    },
    {
      "cell_type": "code",
      "source": [
        "agrupador = MeanShift()\n",
        "agrupador.fit(dados)\n",
        "agrupador.labels_"
      ],
      "metadata": {
        "colab": {
          "base_uri": "https://localhost:8080/"
        },
        "id": "S8hA1m-yhJrV",
        "outputId": "577a7289-86b2-4bc8-fba6-150647e8e2b2"
      },
      "execution_count": null,
      "outputs": [
        {
          "output_type": "execute_result",
          "data": {
            "text/plain": [
              "array([0, 0, 0, 0, 0, 0, 0, 0, 0, 0, 0, 0, 0, 0, 0, 0, 0, 0, 0, 0, 0, 0,\n",
              "       0, 0, 0, 0, 0, 0, 0, 0, 0, 0, 0, 0, 0, 0, 0, 0, 0, 0, 0, 0, 0, 0,\n",
              "       0, 0, 0, 0, 0, 0, 0, 0, 0, 0, 0, 0, 0, 0, 0, 0, 0, 0, 0, 0, 0, 0,\n",
              "       0, 0, 0, 0, 0, 0, 0, 0, 0, 0, 0, 0, 0, 0, 0, 0, 0, 0, 0, 0, 0, 0,\n",
              "       0, 0, 0, 0, 0, 0, 0, 0, 0, 0, 0, 0, 0, 0, 0, 0, 0, 0, 0, 0, 0, 0,\n",
              "       0, 0, 0, 0, 0, 0, 0, 0, 0, 0, 0, 0, 0, 0, 0, 0, 0, 0, 0, 0, 0, 0,\n",
              "       0, 0, 0, 0, 0, 0, 0, 0, 0, 0, 0, 0, 0, 0, 0, 0, 0, 0, 0, 0, 0, 0,\n",
              "       0, 0, 0, 0, 0, 0, 0, 0, 0, 0, 0, 0, 0, 0, 0, 0, 0, 0, 0, 0, 0, 0,\n",
              "       0, 0])"
            ]
          },
          "metadata": {},
          "execution_count": 48
        }
      ]
    },
    {
      "cell_type": "code",
      "source": [
        "from sklearn.cluster import estimate_bandwidth"
      ],
      "metadata": {
        "id": "Wj7yRyM8hPCu"
      },
      "execution_count": null,
      "outputs": []
    },
    {
      "cell_type": "code",
      "source": [
        "BW = estimate_bandwidth(dados, quantile = 0.2)\n",
        "agrupador = MeanShift(bandwidth = BW)\n",
        "agrupador.fit(dados)\n",
        "agrupador.labels_"
      ],
      "metadata": {
        "colab": {
          "base_uri": "https://localhost:8080/"
        },
        "id": "D52aeyCThW_v",
        "outputId": "775217df-ce8c-48fa-e469-c3e135948045"
      },
      "execution_count": null,
      "outputs": [
        {
          "output_type": "execute_result",
          "data": {
            "text/plain": [
              "array([0, 0, 0, 0, 0, 0, 0, 0, 0, 0, 0, 0, 0, 0, 0, 0, 0, 0, 0, 0, 0, 0,\n",
              "       0, 0, 0, 0, 0, 0, 0, 0, 0, 0, 0, 0, 0, 0, 0, 0, 0, 0, 0, 0, 0, 0,\n",
              "       0, 0, 0, 0, 0, 0, 0, 0, 0, 0, 0, 0, 0, 0, 0, 1, 1, 1, 0, 0, 0, 0,\n",
              "       0, 0, 1, 2, 1, 0, 0, 3, 0, 1, 0, 1, 2, 0, 0, 0, 0, 1, 0, 0, 0, 0,\n",
              "       1, 0, 1, 1, 1, 0, 0, 2, 2, 0, 0, 0, 0, 0, 0, 0, 0, 1, 0, 1, 0, 0,\n",
              "       2, 0, 1, 0, 0, 0, 0, 0, 1, 0, 0, 4, 1, 0, 0, 0, 0, 1, 0, 1, 1, 1,\n",
              "       1, 1, 1, 1, 1, 1, 1, 1, 1, 1, 1, 1, 1, 1, 1, 1, 1, 1, 1, 1, 1, 1,\n",
              "       1, 1, 1, 1, 1, 1, 1, 1, 1, 1, 1, 1, 1, 1, 1, 1, 1, 1, 1, 1, 1, 1,\n",
              "       1, 1])"
            ]
          },
          "metadata": {},
          "execution_count": 52
        }
      ]
    },
    {
      "cell_type": "code",
      "source": [
        "from sklearn.metrics import silhouette_samples,silhouette_score"
      ],
      "metadata": {
        "id": "m_UqVTqDjYBD"
      },
      "execution_count": null,
      "outputs": []
    },
    {
      "cell_type": "markdown",
      "source": [
        "# Coeficiente de silhueta"
      ],
      "metadata": {
        "id": "tphs-kOi1yRV"
      }
    },
    {
      "cell_type": "code",
      "source": [
        "faixa_n_clusters = [i for i in range(2,10)]\n",
        "valores_silhueta = []\n",
        "for k in faixa_n_clusters:\n",
        "  agrupador = KMeans(n_clusters=k, random_state=10)\n",
        "  labels = agrupador.fit_predict(dados)\n",
        "  media_silhueta = silhouette_score(dados,labels)\n",
        "  valores_silhueta.append(media_silhueta)\n",
        "                                 "
      ],
      "metadata": {
        "id": "KZBlzj8ern24"
      },
      "execution_count": null,
      "outputs": []
    },
    {
      "cell_type": "code",
      "source": [
        "fig =go.Figure()\n",
        "fig.add_trace(go.Scatter(x = faixa_n_clusters, y = valores_silhueta))\n",
        "fig.update_layout(\n",
        "    title=\"Coeficiente de Silhueta K-means\",\n",
        "    xaxis_title=\"Valores de ‘k’ \",\n",
        "    yaxis_title=\"Coeficiente de Silhueta\",\n",
        "    font=dict(\n",
        "        family=\"Courier New, monospace\",\n",
        "        size=18,\n",
        "        color=\"#7f7f7f\"\n",
        "    )\n",
        ")\n",
        "fig.show()"
      ],
      "metadata": {
        "colab": {
          "base_uri": "https://localhost:8080/",
          "height": 542
        },
        "id": "jdBzD5JCr6wi",
        "outputId": "9f23b4cf-de64-4e3c-b63e-83c27d636668"
      },
      "execution_count": null,
      "outputs": [
        {
          "output_type": "display_data",
          "data": {
            "text/html": [
              "<html>\n",
              "<head><meta charset=\"utf-8\" /></head>\n",
              "<body>\n",
              "    <div>\n",
              "            <script src=\"https://cdnjs.cloudflare.com/ajax/libs/mathjax/2.7.5/MathJax.js?config=TeX-AMS-MML_SVG\"></script><script type=\"text/javascript\">if (window.MathJax) {MathJax.Hub.Config({SVG: {font: \"STIX-Web\"}});}</script>\n",
              "                <script type=\"text/javascript\">window.PlotlyConfig = {MathJaxConfig: 'local'};</script>\n",
              "        <script src=\"https://cdn.plot.ly/plotly-latest.min.js\"></script>    \n",
              "            <div id=\"762fbe90-e009-4a00-bf56-1ade6d46e34e\" class=\"plotly-graph-div\" style=\"height:525px; width:100%;\"></div>\n",
              "            <script type=\"text/javascript\">\n",
              "                \n",
              "                    window.PLOTLYENV=window.PLOTLYENV || {};\n",
              "                    \n",
              "                if (document.getElementById(\"762fbe90-e009-4a00-bf56-1ade6d46e34e\")) {\n",
              "                    Plotly.newPlot(\n",
              "                        '762fbe90-e009-4a00-bf56-1ade6d46e34e',\n",
              "                        [{\"type\": \"scatter\", \"x\": [2, 3, 4, 5, 6, 7, 8, 9], \"y\": [0.2987221815974774, 0.29936674064895064, 0.2593013081249243, 0.24448273514678986, 0.20076801510460485, 0.12949437204286457, 0.14855100685832912, 0.13007668259990932]}],\n",
              "                        {\"font\": {\"color\": \"#7f7f7f\", \"family\": \"Courier New, monospace\", \"size\": 18}, \"template\": {\"data\": {\"bar\": [{\"error_x\": {\"color\": \"#2a3f5f\"}, \"error_y\": {\"color\": \"#2a3f5f\"}, \"marker\": {\"line\": {\"color\": \"#E5ECF6\", \"width\": 0.5}}, \"type\": \"bar\"}], \"barpolar\": [{\"marker\": {\"line\": {\"color\": \"#E5ECF6\", \"width\": 0.5}}, \"type\": \"barpolar\"}], \"carpet\": [{\"aaxis\": {\"endlinecolor\": \"#2a3f5f\", \"gridcolor\": \"white\", \"linecolor\": \"white\", \"minorgridcolor\": \"white\", \"startlinecolor\": \"#2a3f5f\"}, \"baxis\": {\"endlinecolor\": \"#2a3f5f\", \"gridcolor\": \"white\", \"linecolor\": \"white\", \"minorgridcolor\": \"white\", \"startlinecolor\": \"#2a3f5f\"}, \"type\": \"carpet\"}], \"choropleth\": [{\"colorbar\": {\"outlinewidth\": 0, \"ticks\": \"\"}, \"type\": \"choropleth\"}], \"contour\": [{\"colorbar\": {\"outlinewidth\": 0, \"ticks\": \"\"}, \"colorscale\": [[0.0, \"#0d0887\"], [0.1111111111111111, \"#46039f\"], [0.2222222222222222, \"#7201a8\"], [0.3333333333333333, \"#9c179e\"], [0.4444444444444444, \"#bd3786\"], [0.5555555555555556, \"#d8576b\"], [0.6666666666666666, \"#ed7953\"], [0.7777777777777778, \"#fb9f3a\"], [0.8888888888888888, \"#fdca26\"], [1.0, \"#f0f921\"]], \"type\": \"contour\"}], \"contourcarpet\": [{\"colorbar\": {\"outlinewidth\": 0, \"ticks\": \"\"}, \"type\": \"contourcarpet\"}], \"heatmap\": [{\"colorbar\": {\"outlinewidth\": 0, \"ticks\": \"\"}, \"colorscale\": [[0.0, \"#0d0887\"], [0.1111111111111111, \"#46039f\"], [0.2222222222222222, \"#7201a8\"], [0.3333333333333333, \"#9c179e\"], [0.4444444444444444, \"#bd3786\"], [0.5555555555555556, \"#d8576b\"], [0.6666666666666666, \"#ed7953\"], [0.7777777777777778, \"#fb9f3a\"], [0.8888888888888888, \"#fdca26\"], [1.0, \"#f0f921\"]], \"type\": \"heatmap\"}], \"heatmapgl\": [{\"colorbar\": {\"outlinewidth\": 0, \"ticks\": \"\"}, \"colorscale\": [[0.0, \"#0d0887\"], [0.1111111111111111, \"#46039f\"], [0.2222222222222222, \"#7201a8\"], [0.3333333333333333, \"#9c179e\"], [0.4444444444444444, \"#bd3786\"], [0.5555555555555556, \"#d8576b\"], [0.6666666666666666, \"#ed7953\"], [0.7777777777777778, \"#fb9f3a\"], [0.8888888888888888, \"#fdca26\"], [1.0, \"#f0f921\"]], \"type\": \"heatmapgl\"}], \"histogram\": [{\"marker\": {\"colorbar\": {\"outlinewidth\": 0, \"ticks\": \"\"}}, \"type\": \"histogram\"}], \"histogram2d\": [{\"colorbar\": {\"outlinewidth\": 0, \"ticks\": \"\"}, \"colorscale\": [[0.0, \"#0d0887\"], [0.1111111111111111, \"#46039f\"], [0.2222222222222222, \"#7201a8\"], [0.3333333333333333, \"#9c179e\"], [0.4444444444444444, \"#bd3786\"], [0.5555555555555556, \"#d8576b\"], [0.6666666666666666, \"#ed7953\"], [0.7777777777777778, \"#fb9f3a\"], [0.8888888888888888, \"#fdca26\"], [1.0, \"#f0f921\"]], \"type\": \"histogram2d\"}], \"histogram2dcontour\": [{\"colorbar\": {\"outlinewidth\": 0, \"ticks\": \"\"}, \"colorscale\": [[0.0, \"#0d0887\"], [0.1111111111111111, \"#46039f\"], [0.2222222222222222, \"#7201a8\"], [0.3333333333333333, \"#9c179e\"], [0.4444444444444444, \"#bd3786\"], [0.5555555555555556, \"#d8576b\"], [0.6666666666666666, \"#ed7953\"], [0.7777777777777778, \"#fb9f3a\"], [0.8888888888888888, \"#fdca26\"], [1.0, \"#f0f921\"]], \"type\": \"histogram2dcontour\"}], \"mesh3d\": [{\"colorbar\": {\"outlinewidth\": 0, \"ticks\": \"\"}, \"type\": \"mesh3d\"}], \"parcoords\": [{\"line\": {\"colorbar\": {\"outlinewidth\": 0, \"ticks\": \"\"}}, \"type\": \"parcoords\"}], \"scatter\": [{\"marker\": {\"colorbar\": {\"outlinewidth\": 0, \"ticks\": \"\"}}, \"type\": \"scatter\"}], \"scatter3d\": [{\"line\": {\"colorbar\": {\"outlinewidth\": 0, \"ticks\": \"\"}}, \"marker\": {\"colorbar\": {\"outlinewidth\": 0, \"ticks\": \"\"}}, \"type\": \"scatter3d\"}], \"scattercarpet\": [{\"marker\": {\"colorbar\": {\"outlinewidth\": 0, \"ticks\": \"\"}}, \"type\": \"scattercarpet\"}], \"scattergeo\": [{\"marker\": {\"colorbar\": {\"outlinewidth\": 0, \"ticks\": \"\"}}, \"type\": \"scattergeo\"}], \"scattergl\": [{\"marker\": {\"colorbar\": {\"outlinewidth\": 0, \"ticks\": \"\"}}, \"type\": \"scattergl\"}], \"scattermapbox\": [{\"marker\": {\"colorbar\": {\"outlinewidth\": 0, \"ticks\": \"\"}}, \"type\": \"scattermapbox\"}], \"scatterpolar\": [{\"marker\": {\"colorbar\": {\"outlinewidth\": 0, \"ticks\": \"\"}}, \"type\": \"scatterpolar\"}], \"scatterpolargl\": [{\"marker\": {\"colorbar\": {\"outlinewidth\": 0, \"ticks\": \"\"}}, \"type\": \"scatterpolargl\"}], \"scatterternary\": [{\"marker\": {\"colorbar\": {\"outlinewidth\": 0, \"ticks\": \"\"}}, \"type\": \"scatterternary\"}], \"surface\": [{\"colorbar\": {\"outlinewidth\": 0, \"ticks\": \"\"}, \"colorscale\": [[0.0, \"#0d0887\"], [0.1111111111111111, \"#46039f\"], [0.2222222222222222, \"#7201a8\"], [0.3333333333333333, \"#9c179e\"], [0.4444444444444444, \"#bd3786\"], [0.5555555555555556, \"#d8576b\"], [0.6666666666666666, \"#ed7953\"], [0.7777777777777778, \"#fb9f3a\"], [0.8888888888888888, \"#fdca26\"], [1.0, \"#f0f921\"]], \"type\": \"surface\"}], \"table\": [{\"cells\": {\"fill\": {\"color\": \"#EBF0F8\"}, \"line\": {\"color\": \"white\"}}, \"header\": {\"fill\": {\"color\": \"#C8D4E3\"}, \"line\": {\"color\": \"white\"}}, \"type\": \"table\"}]}, \"layout\": {\"annotationdefaults\": {\"arrowcolor\": \"#2a3f5f\", \"arrowhead\": 0, \"arrowwidth\": 1}, \"colorscale\": {\"diverging\": [[0, \"#8e0152\"], [0.1, \"#c51b7d\"], [0.2, \"#de77ae\"], [0.3, \"#f1b6da\"], [0.4, \"#fde0ef\"], [0.5, \"#f7f7f7\"], [0.6, \"#e6f5d0\"], [0.7, \"#b8e186\"], [0.8, \"#7fbc41\"], [0.9, \"#4d9221\"], [1, \"#276419\"]], \"sequential\": [[0.0, \"#0d0887\"], [0.1111111111111111, \"#46039f\"], [0.2222222222222222, \"#7201a8\"], [0.3333333333333333, \"#9c179e\"], [0.4444444444444444, \"#bd3786\"], [0.5555555555555556, \"#d8576b\"], [0.6666666666666666, \"#ed7953\"], [0.7777777777777778, \"#fb9f3a\"], [0.8888888888888888, \"#fdca26\"], [1.0, \"#f0f921\"]], \"sequentialminus\": [[0.0, \"#0d0887\"], [0.1111111111111111, \"#46039f\"], [0.2222222222222222, \"#7201a8\"], [0.3333333333333333, \"#9c179e\"], [0.4444444444444444, \"#bd3786\"], [0.5555555555555556, \"#d8576b\"], [0.6666666666666666, \"#ed7953\"], [0.7777777777777778, \"#fb9f3a\"], [0.8888888888888888, \"#fdca26\"], [1.0, \"#f0f921\"]]}, \"colorway\": [\"#636efa\", \"#EF553B\", \"#00cc96\", \"#ab63fa\", \"#FFA15A\", \"#19d3f3\", \"#FF6692\", \"#B6E880\", \"#FF97FF\", \"#FECB52\"], \"font\": {\"color\": \"#2a3f5f\"}, \"geo\": {\"bgcolor\": \"white\", \"lakecolor\": \"white\", \"landcolor\": \"#E5ECF6\", \"showlakes\": true, \"showland\": true, \"subunitcolor\": \"white\"}, \"hoverlabel\": {\"align\": \"left\"}, \"hovermode\": \"closest\", \"mapbox\": {\"style\": \"light\"}, \"paper_bgcolor\": \"white\", \"plot_bgcolor\": \"#E5ECF6\", \"polar\": {\"angularaxis\": {\"gridcolor\": \"white\", \"linecolor\": \"white\", \"ticks\": \"\"}, \"bgcolor\": \"#E5ECF6\", \"radialaxis\": {\"gridcolor\": \"white\", \"linecolor\": \"white\", \"ticks\": \"\"}}, \"scene\": {\"xaxis\": {\"backgroundcolor\": \"#E5ECF6\", \"gridcolor\": \"white\", \"gridwidth\": 2, \"linecolor\": \"white\", \"showbackground\": true, \"ticks\": \"\", \"zerolinecolor\": \"white\"}, \"yaxis\": {\"backgroundcolor\": \"#E5ECF6\", \"gridcolor\": \"white\", \"gridwidth\": 2, \"linecolor\": \"white\", \"showbackground\": true, \"ticks\": \"\", \"zerolinecolor\": \"white\"}, \"zaxis\": {\"backgroundcolor\": \"#E5ECF6\", \"gridcolor\": \"white\", \"gridwidth\": 2, \"linecolor\": \"white\", \"showbackground\": true, \"ticks\": \"\", \"zerolinecolor\": \"white\"}}, \"shapedefaults\": {\"line\": {\"color\": \"#2a3f5f\"}}, \"ternary\": {\"aaxis\": {\"gridcolor\": \"white\", \"linecolor\": \"white\", \"ticks\": \"\"}, \"baxis\": {\"gridcolor\": \"white\", \"linecolor\": \"white\", \"ticks\": \"\"}, \"bgcolor\": \"#E5ECF6\", \"caxis\": {\"gridcolor\": \"white\", \"linecolor\": \"white\", \"ticks\": \"\"}}, \"title\": {\"x\": 0.05}, \"xaxis\": {\"automargin\": true, \"gridcolor\": \"white\", \"linecolor\": \"white\", \"ticks\": \"\", \"zerolinecolor\": \"white\", \"zerolinewidth\": 2}, \"yaxis\": {\"automargin\": true, \"gridcolor\": \"white\", \"linecolor\": \"white\", \"ticks\": \"\", \"zerolinecolor\": \"white\", \"zerolinewidth\": 2}}}, \"title\": {\"text\": \"Coeficiente de Silhueta K-means\"}, \"xaxis\": {\"title\": {\"text\": \"Valores de \\u2018k\\u2019 \"}}, \"yaxis\": {\"title\": {\"text\": \"Coeficiente de Silhueta\"}}},\n",
              "                        {\"responsive\": true}\n",
              "                    ).then(function(){\n",
              "                            \n",
              "var gd = document.getElementById('762fbe90-e009-4a00-bf56-1ade6d46e34e');\n",
              "var x = new MutationObserver(function (mutations, observer) {{\n",
              "        var display = window.getComputedStyle(gd).display;\n",
              "        if (!display || display === 'none') {{\n",
              "            console.log([gd, 'removed!']);\n",
              "            Plotly.purge(gd);\n",
              "            observer.disconnect();\n",
              "        }}\n",
              "}});\n",
              "\n",
              "// Listen for the removal of the full notebook cells\n",
              "var notebookContainer = gd.closest('#notebook-container');\n",
              "if (notebookContainer) {{\n",
              "    x.observe(notebookContainer, {childList: true});\n",
              "}}\n",
              "\n",
              "// Listen for the clearing of the current output cell\n",
              "var outputEl = gd.closest('.output');\n",
              "if (outputEl) {{\n",
              "    x.observe(outputEl, {childList: true});\n",
              "}}\n",
              "\n",
              "                        })\n",
              "                };\n",
              "                \n",
              "            </script>\n",
              "        </div>\n",
              "</body>\n",
              "</html>"
            ]
          },
          "metadata": {}
        }
      ]
    }
  ]
}